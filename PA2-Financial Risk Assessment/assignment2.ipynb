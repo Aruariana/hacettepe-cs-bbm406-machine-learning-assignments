{
 "cells": [
  {
   "cell_type": "markdown",
   "id": "8a77807f92f26ee",
   "metadata": {},
   "source": [
    "# Assignment 2 : Financial Risk Assessment"
   ]
  },
  {
   "cell_type": "markdown",
   "id": "c0c4feca2ecf3e0a",
   "metadata": {},
   "source": [
    "## Import Statements"
   ]
  },
  {
   "cell_type": "code",
   "id": "fbc121e30a2defb3",
   "metadata": {
    "ExecuteTime": {
     "end_time": "2025-04-06T19:40:20.934370Z",
     "start_time": "2025-04-06T19:40:20.925794Z"
    }
   },
   "source": [
    "import numpy as np\n",
    "import pandas as pd\n",
    "import seaborn as sns\n",
    "import matplotlib.pyplot as plt\n",
    "from sklearn.model_selection import train_test_split\n",
    "from IPython.display import display\n",
    "import copy"
   ],
   "outputs": [],
   "execution_count": 152
  },
  {
   "cell_type": "markdown",
   "id": "34478818e5a96345",
   "metadata": {},
   "source": [
    "## Classes and Functions"
   ]
  },
  {
   "cell_type": "code",
   "id": "5a403ededf69608b",
   "metadata": {
    "ExecuteTime": {
     "end_time": "2025-04-06T19:40:21.003421Z",
     "start_time": "2025-04-06T19:40:20.947103Z"
    }
   },
   "source": [
    "class ID3Node:\n",
    "    def __init__(self, feature=None, prediction=None, is_leaf=False, threshold=None):\n",
    "        self.feature = feature               # Feature to split on\n",
    "\n",
    "        self.children = {}                   # Dict in the form of : Categorical {feature_values: ID3Node}\n",
    "                                             #                       Continuous {left, right: ID3Node}\n",
    "\n",
    "        self.prediction = prediction         # Class label (every node has one prediction representing\n",
    "                                             # the most common label in that branch)\n",
    "\n",
    "        self.is_leaf = is_leaf               # Whether this node is a leaf\n",
    "\n",
    "        self.threshold = threshold           # Binary split threshold for continuous features\n",
    "                                             # (None for categorical features)\n",
    "\n",
    "\n",
    "class ID3:\n",
    "    def __init__(self, split_method=\"best\", min_samples_split=2, min_samples_leaf=1):\n",
    "\n",
    "        if split_method not in [\"best\", \"median\"]:\n",
    "            raise ValueError(f\"Invalid split_method '{split_method}'. Use 'best' or 'median'.\")\n",
    "\n",
    "        self.tree = None\n",
    "        self.split_method = split_method # best or median\n",
    "        self.min_samples_split = min_samples_split\n",
    "        self.min_samples_leaf = min_samples_leaf\n",
    "\n",
    "\n",
    "    def entropy(self, y):\n",
    "        val_counts = (pd.Series(y).value_counts()) / len(y)\n",
    "        return -np.sum(val_counts * np.log2(val_counts))\n",
    "\n",
    "    def information_gain(self, x_column, y, threshold=None):\n",
    "        parent_entropy = self.entropy(y)\n",
    "\n",
    "        # Categorical data\n",
    "        if threshold is None:\n",
    "            values, counts = np.unique(x_column, return_counts=True)\n",
    "            weighted_entropy = 0\n",
    "            for v, count in zip(values, counts):\n",
    "                y_subset = y[x_column == v]\n",
    "                weighted_entropy += (count / len(y)) * self.entropy(y_subset)\n",
    "            return parent_entropy - weighted_entropy\n",
    "\n",
    "        # Continuous data\n",
    "        else:\n",
    "            # Split from threshold (Binary Threshold)\n",
    "            left = y[x_column <= threshold]\n",
    "            right = y[x_column > threshold]\n",
    "\n",
    "            # Discard split if there are less number of elements from min_samples_leaf in one of the splits\n",
    "            if len(left) < self.min_samples_leaf or len(right) < self.min_samples_leaf:\n",
    "                return -float('inf')\n",
    "\n",
    "            weighted_entropy = 0\n",
    "            weighted_entropy += (len(left) / len(y)) * self.entropy(left)\n",
    "            weighted_entropy += (len(right) / len(y)) * self.entropy(right)\n",
    "            return parent_entropy - weighted_entropy\n",
    "\n",
    "    def best_feature(self, x, y):\n",
    "        best_ig = -float('inf')\n",
    "        best_feature = None\n",
    "        best_threshold = None\n",
    "\n",
    "        # Loop through each feature column in x\n",
    "        for feature in x.columns:\n",
    "            feature_values = x[feature]\n",
    "\n",
    "            # Continuous feature\n",
    "            if pd.api.types.is_numeric_dtype(feature_values):\n",
    "                if self.split_method == \"best\":\n",
    "                    attribute_values = np.sort(np.unique(feature_values))\n",
    "                    # Calculate the mean of every two consecutive value to find thresholds\n",
    "                    thresholds = (attribute_values[:-1] + attribute_values[1:]) / 2\n",
    "                    # Calculate the information gain for every threshold to find the one with the most information gain for optimal binary split\n",
    "                    for threshold in thresholds:\n",
    "                        ig = self.information_gain(feature_values, y, threshold)\n",
    "                        if ig > best_ig:\n",
    "                            best_ig = ig\n",
    "                            best_feature = feature\n",
    "                            best_threshold = threshold\n",
    "                else: # self.split_method == \"median\"\n",
    "                    # Use the median for binary splitting to reduce computation\n",
    "                    threshold = np.median(feature_values)\n",
    "                    ig = self.information_gain(feature_values, y, threshold)\n",
    "                    if ig > best_ig:\n",
    "                        best_ig = ig\n",
    "                        best_feature = feature\n",
    "                        best_threshold = threshold\n",
    "            # Categorical feature\n",
    "            else:\n",
    "                ig = self.information_gain(feature_values, y)\n",
    "                if ig > best_ig:\n",
    "                    best_ig = ig\n",
    "                    best_feature = feature\n",
    "                    best_threshold = None\n",
    "\n",
    "        return best_feature, best_threshold\n",
    "\n",
    "    def fit(self, x, y):\n",
    "        self.tree = self._build_tree(x, y)\n",
    "\n",
    "    def _build_tree(self, x, y):\n",
    "        # If there is only one label left, return a leaf node\n",
    "        if len(np.unique(y)) == 1:\n",
    "            return ID3Node(prediction=y.iloc[0], is_leaf=True)\n",
    "\n",
    "        # If no features left or there are not enough elements to split return the most common label\n",
    "        if len(x.columns)  == 0 or len(y) < self.min_samples_split:\n",
    "            most_common_label = y.mode()[0]\n",
    "            return ID3Node(prediction=most_common_label, is_leaf=True)\n",
    "\n",
    "        # Find the best feature to split it\n",
    "        best_feature, threshold = self.best_feature(x, y)\n",
    "        # Every node will have a prediction attribute which will be the most common label in that node\n",
    "        most_common_label = y.mode()[0]\n",
    "\n",
    "        # Create a node\n",
    "        node = ID3Node(feature=best_feature, prediction=most_common_label, threshold=threshold)\n",
    "\n",
    "        # Split the data based on the best feature and threshold\n",
    "\n",
    "        # Categorical\n",
    "        if threshold is None:\n",
    "            for value in x[best_feature].unique():\n",
    "                subset_x = x[x[best_feature] == value]\n",
    "                subset_y = y[x[best_feature] == value]\n",
    "\n",
    "                # If the best split will result in having fewer elements than min_samples_leaf, don't split it and mark that node as a leaf\n",
    "                if len(subset_y) < self.min_samples_leaf:\n",
    "                    child_node = ID3Node(prediction=most_common_label, is_leaf=True)\n",
    "                else:\n",
    "                    child_node = self._build_tree(subset_x.drop(columns=[best_feature]), subset_y)\n",
    "\n",
    "                node.children[value] = child_node\n",
    "        # Continuous\n",
    "        else:\n",
    "            left_x = x[x[best_feature] <= threshold]\n",
    "            left_y = y[x[best_feature] <= threshold]\n",
    "            right_x = x[x[best_feature] > threshold]\n",
    "            right_y = y[x[best_feature] > threshold]\n",
    "\n",
    "            # If the best split will result in having fewer elements than min_samples_leaf, don't split it and mark that node as a leaf\n",
    "            if len(left_y) < self.min_samples_leaf or len(right_y) < self.min_samples_leaf:\n",
    "                return ID3Node(prediction=most_common_label, is_leaf=True)\n",
    "\n",
    "            left_node = self._build_tree(left_x.drop(columns=[best_feature]), left_y)\n",
    "            right_node = self._build_tree(right_x.drop(columns=[best_feature]), right_y)\n",
    "            node.children['left'] = left_node\n",
    "            node.children['right'] = right_node\n",
    "\n",
    "        return node\n",
    "\n",
    "    def _predict_instance(self, x, node=None):\n",
    "\n",
    "        if node is None:\n",
    "            node = self.tree\n",
    "\n",
    "        if node.is_leaf:\n",
    "            return node.prediction\n",
    "\n",
    "        feature_value = x[node.feature]\n",
    "\n",
    "        # Continuous\n",
    "        if node.threshold is not None:\n",
    "            if feature_value <= node.threshold:\n",
    "                return self._predict_instance(x, node.children['left'])\n",
    "            else:\n",
    "                return self._predict_instance(x, node.children['right'])\n",
    "\n",
    "        # Categorical\n",
    "        if feature_value in node.children:\n",
    "            return self._predict_instance(x, node.children[feature_value])\n",
    "\n",
    "        # If the feature value is not seen in the training set, use the most common label in this branch\n",
    "        return node.prediction\n",
    "\n",
    "    def predict(self, x):\n",
    "\n",
    "        return x.apply(lambda row: self._predict_instance(row), axis=1)\n",
    "\n",
    "def confusion_matrix(y_true, y_pred, labels=(\"Low\", \"Medium\", \"High\")):\n",
    "    indexes = {label: idx for idx, label in enumerate(labels)}\n",
    "\n",
    "    cm = np.zeros((len(labels), len(labels)), dtype=int)\n",
    "\n",
    "    for true, pred in zip(y_true, y_pred):\n",
    "        cm[indexes[true], indexes[pred]] += 1\n",
    "\n",
    "    return cm\n",
    "\n",
    "def generate_heatmap(conf_matrix, title, class_labels=(\"Low\", \"Medium\", \"High\")):\n",
    "    sns.heatmap(conf_matrix, annot=True, fmt='d', cmap=\"Blues\", xticklabels=class_labels, yticklabels=class_labels)\n",
    "    plt.xlabel('Predicted Labels')\n",
    "    plt.ylabel('Actual Labels')\n",
    "    plt.title(title)\n",
    "    plt.show()\n",
    "\n",
    "def compute_metrics(cm, labels=(\"Low\", \"Medium\", \"High\")):\n",
    "    # scikitlearn.classification_report inspired compute_metrics function\n",
    "\n",
    "    num_classes = len(labels)\n",
    "\n",
    "    precision = []\n",
    "    recall = []\n",
    "    f1_score = []\n",
    "    support = cm.sum(axis=1)\n",
    "\n",
    "    for i in range(num_classes):\n",
    "        TP = cm[i, i]  # True Positives\n",
    "        FP = cm[:, i].sum() - TP  # False Positives\n",
    "        FN = cm[i, :].sum() - TP  # False Negatives\n",
    "\n",
    "        # Compute metrics (also handle division by zero error)\n",
    "        prec = TP / (TP + FP) if (TP + FP) > 0 else 0\n",
    "        rec = TP / (TP + FN) if (TP + FN) > 0 else 0\n",
    "        f1 = 2 * (prec * rec) / (prec + rec) if (prec + rec) > 0 else 0\n",
    "\n",
    "        precision.append(prec)\n",
    "        recall.append(rec)\n",
    "        f1_score.append(f1)\n",
    "\n",
    "    # Compute overall accuracy\n",
    "    accuracy = np.trace(cm) / cm.sum()\n",
    "\n",
    "    # Accuracy row\n",
    "    accuracy_row = [0.0, 0.0, accuracy, sum(support)]\n",
    "\n",
    "    # Compute macro and weighted averages\n",
    "    macro_avg = [np.mean(precision), np.mean(recall), np.mean(f1_score), sum(support)]\n",
    "    weighted_avg = [np.average(precision, weights=support), np.average(recall, weights=support), np.average(f1_score, weights=support), sum(support)]\n",
    "\n",
    "    # Create the report as a DataFrame\n",
    "    report_df = pd.DataFrame(\n",
    "        data={\n",
    "            \"precision\": precision + [accuracy_row[0], macro_avg[0], weighted_avg[0]],\n",
    "            \"recall\": recall + [accuracy_row[1], macro_avg[1], weighted_avg[1]],\n",
    "            \"f1-score\": f1_score + [accuracy_row[2], macro_avg[2], weighted_avg[2]],\n",
    "            \"support\": support.tolist() + [accuracy_row[3], macro_avg[3], weighted_avg[3]],\n",
    "        },\n",
    "        index=list(labels) + [\"accuracy\", \"macro avg\", \"weighted avg\"],\n",
    "    )\n",
    "\n",
    "    return report_df.round(2)\n",
    "\n",
    "def draw_box_plots(dataframe, title=\"Box Plots of Numeric Features\"):\n",
    "\n",
    "    numeric_cols = dataframe.select_dtypes(include='number')\n",
    "\n",
    "    num_features = numeric_cols.shape[1]\n",
    "\n",
    "    cols = 5\n",
    "    rows = 2\n",
    "\n",
    "    fig, axes = plt.subplots(rows, cols, figsize=(4 * cols, 4 * rows))\n",
    "    axes = axes.flatten()\n",
    "\n",
    "    for i, col in enumerate(numeric_cols.columns):\n",
    "        sns.boxplot(y=numeric_cols[col], ax=axes[i], color='skyblue')\n",
    "        axes[i].set_title(col, fontsize=12)\n",
    "        axes[i].set_xlabel('')\n",
    "        axes[i].set_ylabel('')\n",
    "\n",
    "    # Turn off extra subplots if any\n",
    "    for j in range(num_features, len(axes)):\n",
    "        axes[j].axis('off')\n",
    "\n",
    "    plt.suptitle(title, fontsize=18)\n",
    "    plt.tight_layout(rect=[0, 0, 1, 0.95])\n",
    "    plt.show()\n",
    "\n",
    "def print_decision_rules(tree):\n",
    "    rules = []\n",
    "\n",
    "    def traverse(node, conditions):\n",
    "        if node.is_leaf:\n",
    "            rule = \"IF \" + \" & \".join(conditions) if conditions else \"IF True\"\n",
    "            rule += f\" THEN Class={node.prediction}\"\n",
    "            rules.append(rule)\n",
    "            return\n",
    "\n",
    "        feature = node.feature\n",
    "\n",
    "        if node.threshold is not None:\n",
    "            # Continuous feature: create left and right conditions\n",
    "            left_condition = f\"({feature} <= {round(node.threshold, 3)})\"\n",
    "            right_condition = f\"({feature} > {round(node.threshold, 3)})\"\n",
    "\n",
    "            traverse(node.children[\"left\"], conditions + [left_condition])\n",
    "            traverse(node.children[\"right\"], conditions + [right_condition])\n",
    "        else:\n",
    "            # Categorical feature: iterate over all children\n",
    "            for value, child in node.children.items():\n",
    "                condition = f\"({feature} = {value})\"\n",
    "                traverse(child, conditions + [condition])\n",
    "\n",
    "    traverse(tree, [])\n",
    "\n",
    "    # Print all rules with rule numbers\n",
    "    for idx, rule in enumerate(rules, start=1):\n",
    "        print(f\"R{idx}: {rule}\")"
   ],
   "outputs": [],
   "execution_count": 153
  },
  {
   "cell_type": "markdown",
   "id": "7d0a4a003be570e7",
   "metadata": {},
   "source": [
    "## Part 1: Implementing Decision Tree"
   ]
  },
  {
   "cell_type": "markdown",
   "id": "d969531b799dae51",
   "metadata": {},
   "source": [
    "The implementation of the \"ID3\" tree can be found on the \"Classes and Functions\" section. Some of the important details of this tree is listed below.\n",
    "\n",
    "The tree can handle both categorical and continuous data. Binary thresholding is used to split the continuous data. There is a hyperparameter called \"split_method\" which can be set to \"best\" or \"median\". It changes how the threshold is chosen. If \"best\" is used, then thresholds are chosen by taking the mean every two consecutive values of an attribute. Then an optimal threshold is chosen by trying each threshold to find the one that will have the most information gain. If \"median\" is used, then the median of that feature is used as the threshold.\n",
    "\n",
    "There are two more hyperparameters which can be set, \"min_samples_split\" and \"min_samples_leaf\". \"min_samples_split\" is the minimum number of samples in a node to be split again by a feature. \"min_samples_leaf\" is the minimum number of samples in a leaf. These two are implemented with the thought of doing some generalization in the tree without pruning it too much.\n",
    "\n",
    "The \"max_depth\" parameter is avoided intentionally as we will prune the trees that we get from part 1. The trees that we will fit in this section will be generally tight fits to the training data to allow the pruning process to be effective.\n",
    "\n",
    "The encoding of the labels is not needed as pandas dataframes and series are used to fit the model and make predictions. They carry the label name information with them, so encoding and decoding is not necessary."
   ]
  },
  {
   "cell_type": "markdown",
   "id": "509bdc17d7d393bc",
   "metadata": {},
   "source": [
    "### Data Analysis"
   ]
  },
  {
   "cell_type": "markdown",
   "id": "beff92b5cac5497e",
   "metadata": {},
   "source": [
    "When we analyze our data, we can see that we have 19 feature columns and 1 target column which is the \"Risk Rating\". \"Risk Rating\" is categorized between \"Low\", \"Medium\" and \"High\". 10 of the features are numerical and 9 of them are categorical. Also, it can be seen that there are missing values in some of the columns that will need some handling. We can also see that some of the categorical values have too many categories which can be a problem. Finally, analyzing the correlation map, we can see that none of the numerical values are correlated with each other."
   ]
  },
  {
   "cell_type": "code",
   "id": "e16e49e62ff85ea9",
   "metadata": {
    "ExecuteTime": {
     "end_time": "2025-04-06T19:40:21.439664Z",
     "start_time": "2025-04-06T19:40:21.349741Z"
    }
   },
   "source": "df = pd.read_csv(\"data/financial_risk_assessment.csv\")",
   "outputs": [],
   "execution_count": 154
  },
  {
   "cell_type": "code",
   "id": "e59e0d6394330372",
   "metadata": {
    "ExecuteTime": {
     "end_time": "2025-04-06T19:40:21.491653Z",
     "start_time": "2025-04-06T19:40:21.459155Z"
    }
   },
   "source": [
    "df.head()"
   ],
   "outputs": [
    {
     "data": {
      "text/plain": [
       "   Age      Gender Education Level Marital Status   Income  Credit Score  \\\n",
       "0   49        Male             PhD       Divorced  72799.0         688.0   \n",
       "1   57      Female      Bachelor's        Widowed      NaN         690.0   \n",
       "2   21  Non-binary        Master's         Single  55687.0         600.0   \n",
       "3   59        Male      Bachelor's         Single  26508.0         622.0   \n",
       "4   25  Non-binary      Bachelor's        Widowed  49427.0         766.0   \n",
       "\n",
       "   Loan Amount Loan Purpose Employment Status  Years at Current Job  \\\n",
       "0      45713.0     Business        Unemployed                    19   \n",
       "1      33835.0         Auto          Employed                     6   \n",
       "2      36623.0         Home          Employed                     8   \n",
       "3      26541.0     Personal        Unemployed                     2   \n",
       "4      36528.0     Personal        Unemployed                    10   \n",
       "\n",
       "  Payment History  Debt-to-Income Ratio  Assets Value  Number of Dependents  \\\n",
       "0            Poor              0.154313      120228.0                   0.0   \n",
       "1            Fair              0.148920       55849.0                   0.0   \n",
       "2            Fair              0.362398      180700.0                   3.0   \n",
       "3       Excellent              0.454964      157319.0                   3.0   \n",
       "4            Fair              0.143242      287140.0                   NaN   \n",
       "\n",
       "              City State       Country  Previous Defaults  \\\n",
       "0   Port Elizabeth    AS        Cyprus                2.0   \n",
       "1  North Catherine    OH  Turkmenistan                3.0   \n",
       "2      South Scott    OK    Luxembourg                3.0   \n",
       "3       Robinhaven    PR        Uganda                4.0   \n",
       "4      New Heather    IL       Namibia                3.0   \n",
       "\n",
       "   Marital Status Change Risk Rating  \n",
       "0                      2         Low  \n",
       "1                      2      Medium  \n",
       "2                      2      Medium  \n",
       "3                      2      Medium  \n",
       "4                      1         Low  "
      ],
      "text/html": [
       "<div>\n",
       "<style scoped>\n",
       "    .dataframe tbody tr th:only-of-type {\n",
       "        vertical-align: middle;\n",
       "    }\n",
       "\n",
       "    .dataframe tbody tr th {\n",
       "        vertical-align: top;\n",
       "    }\n",
       "\n",
       "    .dataframe thead th {\n",
       "        text-align: right;\n",
       "    }\n",
       "</style>\n",
       "<table border=\"1\" class=\"dataframe\">\n",
       "  <thead>\n",
       "    <tr style=\"text-align: right;\">\n",
       "      <th></th>\n",
       "      <th>Age</th>\n",
       "      <th>Gender</th>\n",
       "      <th>Education Level</th>\n",
       "      <th>Marital Status</th>\n",
       "      <th>Income</th>\n",
       "      <th>Credit Score</th>\n",
       "      <th>Loan Amount</th>\n",
       "      <th>Loan Purpose</th>\n",
       "      <th>Employment Status</th>\n",
       "      <th>Years at Current Job</th>\n",
       "      <th>Payment History</th>\n",
       "      <th>Debt-to-Income Ratio</th>\n",
       "      <th>Assets Value</th>\n",
       "      <th>Number of Dependents</th>\n",
       "      <th>City</th>\n",
       "      <th>State</th>\n",
       "      <th>Country</th>\n",
       "      <th>Previous Defaults</th>\n",
       "      <th>Marital Status Change</th>\n",
       "      <th>Risk Rating</th>\n",
       "    </tr>\n",
       "  </thead>\n",
       "  <tbody>\n",
       "    <tr>\n",
       "      <th>0</th>\n",
       "      <td>49</td>\n",
       "      <td>Male</td>\n",
       "      <td>PhD</td>\n",
       "      <td>Divorced</td>\n",
       "      <td>72799.0</td>\n",
       "      <td>688.0</td>\n",
       "      <td>45713.0</td>\n",
       "      <td>Business</td>\n",
       "      <td>Unemployed</td>\n",
       "      <td>19</td>\n",
       "      <td>Poor</td>\n",
       "      <td>0.154313</td>\n",
       "      <td>120228.0</td>\n",
       "      <td>0.0</td>\n",
       "      <td>Port Elizabeth</td>\n",
       "      <td>AS</td>\n",
       "      <td>Cyprus</td>\n",
       "      <td>2.0</td>\n",
       "      <td>2</td>\n",
       "      <td>Low</td>\n",
       "    </tr>\n",
       "    <tr>\n",
       "      <th>1</th>\n",
       "      <td>57</td>\n",
       "      <td>Female</td>\n",
       "      <td>Bachelor's</td>\n",
       "      <td>Widowed</td>\n",
       "      <td>NaN</td>\n",
       "      <td>690.0</td>\n",
       "      <td>33835.0</td>\n",
       "      <td>Auto</td>\n",
       "      <td>Employed</td>\n",
       "      <td>6</td>\n",
       "      <td>Fair</td>\n",
       "      <td>0.148920</td>\n",
       "      <td>55849.0</td>\n",
       "      <td>0.0</td>\n",
       "      <td>North Catherine</td>\n",
       "      <td>OH</td>\n",
       "      <td>Turkmenistan</td>\n",
       "      <td>3.0</td>\n",
       "      <td>2</td>\n",
       "      <td>Medium</td>\n",
       "    </tr>\n",
       "    <tr>\n",
       "      <th>2</th>\n",
       "      <td>21</td>\n",
       "      <td>Non-binary</td>\n",
       "      <td>Master's</td>\n",
       "      <td>Single</td>\n",
       "      <td>55687.0</td>\n",
       "      <td>600.0</td>\n",
       "      <td>36623.0</td>\n",
       "      <td>Home</td>\n",
       "      <td>Employed</td>\n",
       "      <td>8</td>\n",
       "      <td>Fair</td>\n",
       "      <td>0.362398</td>\n",
       "      <td>180700.0</td>\n",
       "      <td>3.0</td>\n",
       "      <td>South Scott</td>\n",
       "      <td>OK</td>\n",
       "      <td>Luxembourg</td>\n",
       "      <td>3.0</td>\n",
       "      <td>2</td>\n",
       "      <td>Medium</td>\n",
       "    </tr>\n",
       "    <tr>\n",
       "      <th>3</th>\n",
       "      <td>59</td>\n",
       "      <td>Male</td>\n",
       "      <td>Bachelor's</td>\n",
       "      <td>Single</td>\n",
       "      <td>26508.0</td>\n",
       "      <td>622.0</td>\n",
       "      <td>26541.0</td>\n",
       "      <td>Personal</td>\n",
       "      <td>Unemployed</td>\n",
       "      <td>2</td>\n",
       "      <td>Excellent</td>\n",
       "      <td>0.454964</td>\n",
       "      <td>157319.0</td>\n",
       "      <td>3.0</td>\n",
       "      <td>Robinhaven</td>\n",
       "      <td>PR</td>\n",
       "      <td>Uganda</td>\n",
       "      <td>4.0</td>\n",
       "      <td>2</td>\n",
       "      <td>Medium</td>\n",
       "    </tr>\n",
       "    <tr>\n",
       "      <th>4</th>\n",
       "      <td>25</td>\n",
       "      <td>Non-binary</td>\n",
       "      <td>Bachelor's</td>\n",
       "      <td>Widowed</td>\n",
       "      <td>49427.0</td>\n",
       "      <td>766.0</td>\n",
       "      <td>36528.0</td>\n",
       "      <td>Personal</td>\n",
       "      <td>Unemployed</td>\n",
       "      <td>10</td>\n",
       "      <td>Fair</td>\n",
       "      <td>0.143242</td>\n",
       "      <td>287140.0</td>\n",
       "      <td>NaN</td>\n",
       "      <td>New Heather</td>\n",
       "      <td>IL</td>\n",
       "      <td>Namibia</td>\n",
       "      <td>3.0</td>\n",
       "      <td>1</td>\n",
       "      <td>Low</td>\n",
       "    </tr>\n",
       "  </tbody>\n",
       "</table>\n",
       "</div>"
      ]
     },
     "execution_count": 155,
     "metadata": {},
     "output_type": "execute_result"
    }
   ],
   "execution_count": 155
  },
  {
   "cell_type": "code",
   "id": "2f02bb224108949",
   "metadata": {
    "ExecuteTime": {
     "end_time": "2025-04-06T19:40:21.750540Z",
     "start_time": "2025-04-06T19:40:21.719381Z"
    }
   },
   "source": [
    "df.info()"
   ],
   "outputs": [
    {
     "name": "stdout",
     "output_type": "stream",
     "text": [
      "<class 'pandas.core.frame.DataFrame'>\n",
      "RangeIndex: 15000 entries, 0 to 14999\n",
      "Data columns (total 20 columns):\n",
      " #   Column                 Non-Null Count  Dtype  \n",
      "---  ------                 --------------  -----  \n",
      " 0   Age                    15000 non-null  int64  \n",
      " 1   Gender                 15000 non-null  object \n",
      " 2   Education Level        15000 non-null  object \n",
      " 3   Marital Status         15000 non-null  object \n",
      " 4   Income                 12750 non-null  float64\n",
      " 5   Credit Score           12750 non-null  float64\n",
      " 6   Loan Amount            12750 non-null  float64\n",
      " 7   Loan Purpose           15000 non-null  object \n",
      " 8   Employment Status      15000 non-null  object \n",
      " 9   Years at Current Job   15000 non-null  int64  \n",
      " 10  Payment History        15000 non-null  object \n",
      " 11  Debt-to-Income Ratio   15000 non-null  float64\n",
      " 12  Assets Value           12750 non-null  float64\n",
      " 13  Number of Dependents   12750 non-null  float64\n",
      " 14  City                   15000 non-null  object \n",
      " 15  State                  15000 non-null  object \n",
      " 16  Country                15000 non-null  object \n",
      " 17  Previous Defaults      12750 non-null  float64\n",
      " 18  Marital Status Change  15000 non-null  int64  \n",
      " 19  Risk Rating            15000 non-null  object \n",
      "dtypes: float64(7), int64(3), object(10)\n",
      "memory usage: 2.3+ MB\n"
     ]
    }
   ],
   "execution_count": 156
  },
  {
   "metadata": {
    "ExecuteTime": {
     "end_time": "2025-04-06T19:40:22.164510Z",
     "start_time": "2025-04-06T19:40:21.874065Z"
    }
   },
   "cell_type": "code",
   "source": [
    "# Show histograms for the target class 'Risk Rating'\n",
    "plt.figure(figsize=(6, 4))\n",
    "sns.countplot(data=df, x='Risk Rating')\n",
    "plt.title('Distribution of Risk Rating')\n",
    "plt.xlabel('Risk Rating')\n",
    "plt.ylabel('Count')\n",
    "plt.show()"
   ],
   "id": "88873e384174546d",
   "outputs": [
    {
     "data": {
      "text/plain": [
       "<Figure size 600x400 with 1 Axes>"
      ],
      "image/png": "[encoded data removed]"
     },
     "metadata": {},
     "output_type": "display_data"
    }
   ],
   "execution_count": 157
  },
  {
   "cell_type": "code",
   "id": "e9d918b0c73d453",
   "metadata": {
    "ExecuteTime": {
     "end_time": "2025-04-06T19:40:22.302165Z",
     "start_time": "2025-04-06T19:40:22.241820Z"
    }
   },
   "source": [
    "df.describe(include=[np.number])"
   ],
   "outputs": [
    {
     "data": {
      "text/plain": [
       "                Age         Income  Credit Score   Loan Amount  \\\n",
       "count  15000.000000   12750.000000  12750.000000  12750.000000   \n",
       "mean      43.452667   69933.398510    699.109098  27450.010902   \n",
       "std       14.910732   29163.626207     57.229465  12949.940135   \n",
       "min       18.000000   20005.000000    600.000000   5000.000000   \n",
       "25%       31.000000   44281.500000    650.000000  16352.500000   \n",
       "50%       43.000000   69773.000000    699.000000  27544.000000   \n",
       "75%       56.000000   95922.750000    748.000000  38547.500000   \n",
       "max       69.000000  119997.000000    799.000000  49998.000000   \n",
       "\n",
       "       Years at Current Job  Debt-to-Income Ratio   Assets Value  \\\n",
       "count          15000.000000          15000.000000   12750.000000   \n",
       "mean               9.476267              0.350438  159741.497176   \n",
       "std                5.769707              0.143919   80298.115832   \n",
       "min                0.000000              0.100004   20055.000000   \n",
       "25%                4.000000              0.227386   90635.250000   \n",
       "50%                9.000000              0.350754  159362.000000   \n",
       "75%               15.000000              0.476095  228707.000000   \n",
       "max               19.000000              0.599970  299999.000000   \n",
       "\n",
       "       Number of Dependents  Previous Defaults  Marital Status Change  \n",
       "count           12750.00000       12750.000000           15000.000000  \n",
       "mean                2.02651           1.992471               0.998467  \n",
       "std                 1.41130           1.416909               0.813782  \n",
       "min                 0.00000           0.000000               0.000000  \n",
       "25%                 1.00000           1.000000               0.000000  \n",
       "50%                 2.00000           2.000000               1.000000  \n",
       "75%                 3.00000           3.000000               2.000000  \n",
       "max                 4.00000           4.000000               2.000000  "
      ],
      "text/html": [
       "<div>\n",
       "<style scoped>\n",
       "    .dataframe tbody tr th:only-of-type {\n",
       "        vertical-align: middle;\n",
       "    }\n",
       "\n",
       "    .dataframe tbody tr th {\n",
       "        vertical-align: top;\n",
       "    }\n",
       "\n",
       "    .dataframe thead th {\n",
       "        text-align: right;\n",
       "    }\n",
       "</style>\n",
       "<table border=\"1\" class=\"dataframe\">\n",
       "  <thead>\n",
       "    <tr style=\"text-align: right;\">\n",
       "      <th></th>\n",
       "      <th>Age</th>\n",
       "      <th>Income</th>\n",
       "      <th>Credit Score</th>\n",
       "      <th>Loan Amount</th>\n",
       "      <th>Years at Current Job</th>\n",
       "      <th>Debt-to-Income Ratio</th>\n",
       "      <th>Assets Value</th>\n",
       "      <th>Number of Dependents</th>\n",
       "      <th>Previous Defaults</th>\n",
       "      <th>Marital Status Change</th>\n",
       "    </tr>\n",
       "  </thead>\n",
       "  <tbody>\n",
       "    <tr>\n",
       "      <th>count</th>\n",
       "      <td>15000.000000</td>\n",
       "      <td>12750.000000</td>\n",
       "      <td>12750.000000</td>\n",
       "      <td>12750.000000</td>\n",
       "      <td>15000.000000</td>\n",
       "      <td>15000.000000</td>\n",
       "      <td>12750.000000</td>\n",
       "      <td>12750.00000</td>\n",
       "      <td>12750.000000</td>\n",
       "      <td>15000.000000</td>\n",
       "    </tr>\n",
       "    <tr>\n",
       "      <th>mean</th>\n",
       "      <td>43.452667</td>\n",
       "      <td>69933.398510</td>\n",
       "      <td>699.109098</td>\n",
       "      <td>27450.010902</td>\n",
       "      <td>9.476267</td>\n",
       "      <td>0.350438</td>\n",
       "      <td>159741.497176</td>\n",
       "      <td>2.02651</td>\n",
       "      <td>1.992471</td>\n",
       "      <td>0.998467</td>\n",
       "    </tr>\n",
       "    <tr>\n",
       "      <th>std</th>\n",
       "      <td>14.910732</td>\n",
       "      <td>29163.626207</td>\n",
       "      <td>57.229465</td>\n",
       "      <td>12949.940135</td>\n",
       "      <td>5.769707</td>\n",
       "      <td>0.143919</td>\n",
       "      <td>80298.115832</td>\n",
       "      <td>1.41130</td>\n",
       "      <td>1.416909</td>\n",
       "      <td>0.813782</td>\n",
       "    </tr>\n",
       "    <tr>\n",
       "      <th>min</th>\n",
       "      <td>18.000000</td>\n",
       "      <td>20005.000000</td>\n",
       "      <td>600.000000</td>\n",
       "      <td>5000.000000</td>\n",
       "      <td>0.000000</td>\n",
       "      <td>0.100004</td>\n",
       "      <td>20055.000000</td>\n",
       "      <td>0.00000</td>\n",
       "      <td>0.000000</td>\n",
       "      <td>0.000000</td>\n",
       "    </tr>\n",
       "    <tr>\n",
       "      <th>25%</th>\n",
       "      <td>31.000000</td>\n",
       "      <td>44281.500000</td>\n",
       "      <td>650.000000</td>\n",
       "      <td>16352.500000</td>\n",
       "      <td>4.000000</td>\n",
       "      <td>0.227386</td>\n",
       "      <td>90635.250000</td>\n",
       "      <td>1.00000</td>\n",
       "      <td>1.000000</td>\n",
       "      <td>0.000000</td>\n",
       "    </tr>\n",
       "    <tr>\n",
       "      <th>50%</th>\n",
       "      <td>43.000000</td>\n",
       "      <td>69773.000000</td>\n",
       "      <td>699.000000</td>\n",
       "      <td>27544.000000</td>\n",
       "      <td>9.000000</td>\n",
       "      <td>0.350754</td>\n",
       "      <td>159362.000000</td>\n",
       "      <td>2.00000</td>\n",
       "      <td>2.000000</td>\n",
       "      <td>1.000000</td>\n",
       "    </tr>\n",
       "    <tr>\n",
       "      <th>75%</th>\n",
       "      <td>56.000000</td>\n",
       "      <td>95922.750000</td>\n",
       "      <td>748.000000</td>\n",
       "      <td>38547.500000</td>\n",
       "      <td>15.000000</td>\n",
       "      <td>0.476095</td>\n",
       "      <td>228707.000000</td>\n",
       "      <td>3.00000</td>\n",
       "      <td>3.000000</td>\n",
       "      <td>2.000000</td>\n",
       "    </tr>\n",
       "    <tr>\n",
       "      <th>max</th>\n",
       "      <td>69.000000</td>\n",
       "      <td>119997.000000</td>\n",
       "      <td>799.000000</td>\n",
       "      <td>49998.000000</td>\n",
       "      <td>19.000000</td>\n",
       "      <td>0.599970</td>\n",
       "      <td>299999.000000</td>\n",
       "      <td>4.00000</td>\n",
       "      <td>4.000000</td>\n",
       "      <td>2.000000</td>\n",
       "    </tr>\n",
       "  </tbody>\n",
       "</table>\n",
       "</div>"
      ]
     },
     "execution_count": 158,
     "metadata": {},
     "output_type": "execute_result"
    }
   ],
   "execution_count": 158
  },
  {
   "cell_type": "code",
   "id": "629017d6b226b200",
   "metadata": {
    "ExecuteTime": {
     "end_time": "2025-04-06T19:40:22.586747Z",
     "start_time": "2025-04-06T19:40:22.516150Z"
    }
   },
   "source": [
    "df.describe(include=[object])"
   ],
   "outputs": [
    {
     "data": {
      "text/plain": [
       "            Gender Education Level Marital Status Loan Purpose  \\\n",
       "count        15000           15000          15000        15000   \n",
       "unique           3               4              4            4   \n",
       "top     Non-binary      Bachelor's        Widowed     Personal   \n",
       "freq          5059            3829           3893         3771   \n",
       "\n",
       "       Employment Status Payment History          City  State Country  \\\n",
       "count              15000           15000         15000  15000   15000   \n",
       "unique                 3               4         10614     59     243   \n",
       "top             Employed            Good  East Michael     CO   Congo   \n",
       "freq                5026            3822            19    282     124   \n",
       "\n",
       "       Risk Rating  \n",
       "count        15000  \n",
       "unique           3  \n",
       "top            Low  \n",
       "freq          9000  "
      ],
      "text/html": [
       "<div>\n",
       "<style scoped>\n",
       "    .dataframe tbody tr th:only-of-type {\n",
       "        vertical-align: middle;\n",
       "    }\n",
       "\n",
       "    .dataframe tbody tr th {\n",
       "        vertical-align: top;\n",
       "    }\n",
       "\n",
       "    .dataframe thead th {\n",
       "        text-align: right;\n",
       "    }\n",
       "</style>\n",
       "<table border=\"1\" class=\"dataframe\">\n",
       "  <thead>\n",
       "    <tr style=\"text-align: right;\">\n",
       "      <th></th>\n",
       "      <th>Gender</th>\n",
       "      <th>Education Level</th>\n",
       "      <th>Marital Status</th>\n",
       "      <th>Loan Purpose</th>\n",
       "      <th>Employment Status</th>\n",
       "      <th>Payment History</th>\n",
       "      <th>City</th>\n",
       "      <th>State</th>\n",
       "      <th>Country</th>\n",
       "      <th>Risk Rating</th>\n",
       "    </tr>\n",
       "  </thead>\n",
       "  <tbody>\n",
       "    <tr>\n",
       "      <th>count</th>\n",
       "      <td>15000</td>\n",
       "      <td>15000</td>\n",
       "      <td>15000</td>\n",
       "      <td>15000</td>\n",
       "      <td>15000</td>\n",
       "      <td>15000</td>\n",
       "      <td>15000</td>\n",
       "      <td>15000</td>\n",
       "      <td>15000</td>\n",
       "      <td>15000</td>\n",
       "    </tr>\n",
       "    <tr>\n",
       "      <th>unique</th>\n",
       "      <td>3</td>\n",
       "      <td>4</td>\n",
       "      <td>4</td>\n",
       "      <td>4</td>\n",
       "      <td>3</td>\n",
       "      <td>4</td>\n",
       "      <td>10614</td>\n",
       "      <td>59</td>\n",
       "      <td>243</td>\n",
       "      <td>3</td>\n",
       "    </tr>\n",
       "    <tr>\n",
       "      <th>top</th>\n",
       "      <td>Non-binary</td>\n",
       "      <td>Bachelor's</td>\n",
       "      <td>Widowed</td>\n",
       "      <td>Personal</td>\n",
       "      <td>Employed</td>\n",
       "      <td>Good</td>\n",
       "      <td>East Michael</td>\n",
       "      <td>CO</td>\n",
       "      <td>Congo</td>\n",
       "      <td>Low</td>\n",
       "    </tr>\n",
       "    <tr>\n",
       "      <th>freq</th>\n",
       "      <td>5059</td>\n",
       "      <td>3829</td>\n",
       "      <td>3893</td>\n",
       "      <td>3771</td>\n",
       "      <td>5026</td>\n",
       "      <td>3822</td>\n",
       "      <td>19</td>\n",
       "      <td>282</td>\n",
       "      <td>124</td>\n",
       "      <td>9000</td>\n",
       "    </tr>\n",
       "  </tbody>\n",
       "</table>\n",
       "</div>"
      ]
     },
     "execution_count": 159,
     "metadata": {},
     "output_type": "execute_result"
    }
   ],
   "execution_count": 159
  },
  {
   "cell_type": "code",
   "id": "8e85732413e3958a",
   "metadata": {
    "ExecuteTime": {
     "end_time": "2025-04-06T19:40:24.129347Z",
     "start_time": "2025-04-06T19:40:23.356849Z"
    }
   },
   "source": [
    "# Correlation heatmap for numerical features\n",
    "numerical_features = df.select_dtypes(include='number').columns\n",
    "\n",
    "plt.figure(figsize=(8,6))\n",
    "correlation_matrix = df[numerical_features].corr()\n",
    "sns.heatmap(correlation_matrix, annot=True, cmap='coolwarm', fmt='.2f')\n",
    "plt.title('Correlation Heatmap for Numerical Features')\n",
    "plt.show()"
   ],
   "outputs": [
    {
     "data": {
      "text/plain": [
       "<Figure size 800x600 with 2 Axes>"
      ],
      "image/png": "[encoded data removed]"
     },
     "metadata": {},
     "output_type": "display_data"
    }
   ],
   "execution_count": 160
  },
  {
   "metadata": {
    "ExecuteTime": {
     "end_time": "2025-04-06T19:40:27.092647Z",
     "start_time": "2025-04-06T19:40:24.227380Z"
    }
   },
   "cell_type": "code",
   "source": [
    "# Box Plots for Numeric Features\n",
    "draw_box_plots(df)"
   ],
   "id": "d05f89ca444499a4",
   "outputs": [
    {
     "data": {
      "text/plain": [
       "<Figure size 2000x800 with 10 Axes>"
      ],
      "image/png": "[encoded data removed]"
     },
     "metadata": {},
     "output_type": "display_data"
    }
   ],
   "execution_count": 161
  },
  {
   "cell_type": "markdown",
   "id": "739f70bfc9b32a15",
   "metadata": {},
   "source": [
    "### Data Preprocessing"
   ]
  },
  {
   "cell_type": "markdown",
   "id": "b4fb000dec38c241",
   "metadata": {},
   "source": [
    "Data scaling will not be done in this section as decision trees in general (thus ID3 tree as well) does not benefit from scaling as some of the other algorithms (linear regression, KNN). The threshold for continuous values are chosen in a way that it is more involved with how the data is split compared to the actual values. Since scaling doesn't change the properties of the continuous data, they will be split the same way either they are scaled before or not."
   ]
  },
  {
   "cell_type": "markdown",
   "id": "152ccd7365fb6d82",
   "metadata": {},
   "source": [
    "When we analysed the data, we saw that \"City\" feature has 10614 unique values and our data has 15000 rows. It is clear that we don't have enough rows for the \"City\" feature to be relevant. Furthermore, leaving this feature in could lead to overfitting the tree. \"City\" feature will give high information gain as it will separate the data well. However, it will be a very poor predictor for unseen data. Thus, this feature is decided to be dropped for all of the different preprocessed data."
   ]
  },
  {
   "cell_type": "code",
   "id": "6c28efcbcc4339a3",
   "metadata": {
    "ExecuteTime": {
     "end_time": "2025-04-06T19:40:27.114089Z",
     "start_time": "2025-04-06T19:40:27.102074Z"
    }
   },
   "source": [
    "df = df.drop(\"City\", axis=1)"
   ],
   "outputs": [],
   "execution_count": 162
  },
  {
   "cell_type": "markdown",
   "id": "9a44186b9fb29d43",
   "metadata": {},
   "source": [
    "Two different methods are used for handling the missing data in some of the columns. One is to drop all the rows with missing values. The other one is to assign the median value of the missing attribute grouped by the target class (\"Risk Rating\"). From our data analysis, we know that only numerical features have missing values."
   ]
  },
  {
   "cell_type": "code",
   "id": "cd66195c105886e6",
   "metadata": {
    "ExecuteTime": {
     "end_time": "2025-04-06T19:40:27.520128Z",
     "start_time": "2025-04-06T19:40:27.438060Z"
    }
   },
   "source": [
    "df_dropped = df.copy()\n",
    "df_dropped = df_dropped.dropna()\n",
    "\n",
    "df_filled = df.copy()\n",
    "cols_with_missing_values = df_filled.columns[df_filled.isnull().sum() > 0].tolist()\n",
    "for col in cols_with_missing_values:\n",
    "    if pd.api.types.is_numeric_dtype(df_filled[col].dtype):  # numeric\n",
    "        df_filled[col] = df_filled.groupby(\"Risk Rating\")[col].transform(\n",
    "            lambda group: group.fillna(group.median())\n",
    "        )"
   ],
   "outputs": [],
   "execution_count": 163
  },
  {
   "cell_type": "code",
   "id": "a97059137a6e622c",
   "metadata": {
    "ExecuteTime": {
     "end_time": "2025-04-06T19:40:27.549942Z",
     "start_time": "2025-04-06T19:40:27.528520Z"
    }
   },
   "source": [
    "x_dropped = df_dropped.iloc[:, :-1]\n",
    "y_dropped = df_dropped.iloc[:, -1]\n",
    "\n",
    "x_filled = df_filled.iloc[:, :-1]\n",
    "y_filled = df_filled.iloc[:, -1]"
   ],
   "outputs": [],
   "execution_count": 164
  },
  {
   "cell_type": "code",
   "id": "e2ebd64a08419dbe",
   "metadata": {
    "ExecuteTime": {
     "end_time": "2025-04-06T19:40:27.720597Z",
     "start_time": "2025-04-06T19:40:27.682927Z"
    }
   },
   "source": [
    "x_dropped_train, x_dropped_temp, y_dropped_train, y_dropped_temp = train_test_split(x_dropped, y_dropped, test_size=0.30, random_state=42, shuffle=True)\n",
    "x_dropped_test, x_dropped_val, y_dropped_test, y_dropped_val = train_test_split(x_dropped_temp, y_dropped_temp, test_size=0.50, random_state=42, shuffle=True)\n",
    "\n",
    "x_filled_train, x_filled_temp, y_filled_train, y_filled_temp = train_test_split(x_filled, y_filled, test_size=0.30, random_state=42, shuffle=True)\n",
    "x_filled_test, x_filled_val, y_filled_test, y_filled_val = train_test_split(x_filled_temp, y_filled_temp, test_size=0.50, random_state=42, shuffle=True)\n"
   ],
   "outputs": [],
   "execution_count": 165
  },
  {
   "cell_type": "markdown",
   "id": "e14fe61d968db9c1",
   "metadata": {},
   "source": [
    "### Model Evaluation"
   ]
  },
  {
   "cell_type": "markdown",
   "id": "ad7b610702c0a9c8",
   "metadata": {},
   "source": [
    "In this section, different trees will be generated using different hyperparameters and two different preprocessed data.\n",
    "\n",
    "Tree 1 - 2 are trees that fit the training data perfectly. They are overfitted and need pruning.\n",
    "\n",
    "Tree 3 - 4 are somewhat more generalized due to usage of the hyperparameters min_samples_split and min_samples_leaf.\n",
    "\n",
    "Tree 5 uses \"best\" and Tree 4 uses \"median\" as the split_method. Using the \"best\" method for split did not change anything as Tree 5 is exactly the same as Tree 4. Moreover, there is a downside that \"best\" method takes around ten times more time than \"median\" method as it is computationally more expensive. In this case, it is better to use \"median\".\n",
    "\n",
    "If we look at Tree 3 - 4, generalizing the tree gives somehow better results. However, it can be seen also be seen that most of the leafs start to get \"Low\" label as the models try to predict more and more of the class \"Low\". From the \"Data Analysis\" section, we know that \"Low\" class label makes up approximately %60 of all the \"Risk Rating\" target feature. Since there is more from one target class, it is natural that when generalizing it, that class gets more leafs."
   ]
  },
  {
   "cell_type": "markdown",
   "id": "d0c26148267c42ca",
   "metadata": {},
   "source": [
    "#### Tree 1 - %100 fit to the train data using df_dropped"
   ]
  },
  {
   "cell_type": "code",
   "id": "be575083bbed8fa0",
   "metadata": {
    "ExecuteTime": {
     "end_time": "2025-04-06T19:41:11.163584Z",
     "start_time": "2025-04-06T19:40:27.875132Z"
    }
   },
   "source": [
    "id3_1 = ID3(split_method=\"median\", min_samples_split=2, min_samples_leaf=1)\n",
    "id3_1.fit(x_dropped_train, y_dropped_train)\n",
    "y_1_dropped_train_pred = id3_1.predict(x_dropped_train)\n",
    "y_1_dropped_pred = id3_1.predict(x_dropped_test)"
   ],
   "outputs": [],
   "execution_count": 166
  },
  {
   "cell_type": "code",
   "id": "fad09f8fe9e84c8c",
   "metadata": {
    "ExecuteTime": {
     "end_time": "2025-04-06T19:41:11.352906Z",
     "start_time": "2025-04-06T19:41:11.320702Z"
    }
   },
   "source": [
    "print(\"Evaluation Metrics for Tree 1 - Train Data\")\n",
    "cm_1_train = confusion_matrix(y_dropped_train, y_1_dropped_train_pred)\n",
    "compute_metrics(cm_1_train)"
   ],
   "outputs": [
    {
     "name": "stdout",
     "output_type": "stream",
     "text": [
      "Evaluation Metrics for Tree 1 - Train Data\n"
     ]
    },
    {
     "data": {
      "text/plain": [
       "              precision  recall  f1-score  support\n",
       "Low                 1.0     1.0       1.0     2378\n",
       "Medium              1.0     1.0       1.0     1221\n",
       "High                1.0     1.0       1.0      402\n",
       "accuracy            0.0     0.0       1.0     4001\n",
       "macro avg           1.0     1.0       1.0     4001\n",
       "weighted avg        1.0     1.0       1.0     4001"
      ],
      "text/html": [
       "<div>\n",
       "<style scoped>\n",
       "    .dataframe tbody tr th:only-of-type {\n",
       "        vertical-align: middle;\n",
       "    }\n",
       "\n",
       "    .dataframe tbody tr th {\n",
       "        vertical-align: top;\n",
       "    }\n",
       "\n",
       "    .dataframe thead th {\n",
       "        text-align: right;\n",
       "    }\n",
       "</style>\n",
       "<table border=\"1\" class=\"dataframe\">\n",
       "  <thead>\n",
       "    <tr style=\"text-align: right;\">\n",
       "      <th></th>\n",
       "      <th>precision</th>\n",
       "      <th>recall</th>\n",
       "      <th>f1-score</th>\n",
       "      <th>support</th>\n",
       "    </tr>\n",
       "  </thead>\n",
       "  <tbody>\n",
       "    <tr>\n",
       "      <th>Low</th>\n",
       "      <td>1.0</td>\n",
       "      <td>1.0</td>\n",
       "      <td>1.0</td>\n",
       "      <td>2378</td>\n",
       "    </tr>\n",
       "    <tr>\n",
       "      <th>Medium</th>\n",
       "      <td>1.0</td>\n",
       "      <td>1.0</td>\n",
       "      <td>1.0</td>\n",
       "      <td>1221</td>\n",
       "    </tr>\n",
       "    <tr>\n",
       "      <th>High</th>\n",
       "      <td>1.0</td>\n",
       "      <td>1.0</td>\n",
       "      <td>1.0</td>\n",
       "      <td>402</td>\n",
       "    </tr>\n",
       "    <tr>\n",
       "      <th>accuracy</th>\n",
       "      <td>0.0</td>\n",
       "      <td>0.0</td>\n",
       "      <td>1.0</td>\n",
       "      <td>4001</td>\n",
       "    </tr>\n",
       "    <tr>\n",
       "      <th>macro avg</th>\n",
       "      <td>1.0</td>\n",
       "      <td>1.0</td>\n",
       "      <td>1.0</td>\n",
       "      <td>4001</td>\n",
       "    </tr>\n",
       "    <tr>\n",
       "      <th>weighted avg</th>\n",
       "      <td>1.0</td>\n",
       "      <td>1.0</td>\n",
       "      <td>1.0</td>\n",
       "      <td>4001</td>\n",
       "    </tr>\n",
       "  </tbody>\n",
       "</table>\n",
       "</div>"
      ]
     },
     "execution_count": 167,
     "metadata": {},
     "output_type": "execute_result"
    }
   ],
   "execution_count": 167
  },
  {
   "cell_type": "code",
   "id": "24b3521b82031b9a",
   "metadata": {
    "ExecuteTime": {
     "end_time": "2025-04-06T19:41:11.971630Z",
     "start_time": "2025-04-06T19:41:11.586467Z"
    }
   },
   "source": "generate_heatmap(cm_1_train, \"Confusion Matrix for Tree 1 - Train Data\")",
   "outputs": [
    {
     "data": {
      "text/plain": [
       "<Figure size 640x480 with 2 Axes>"
      ],
      "image/png": "[encoded data removed]"
     },
     "metadata": {},
     "output_type": "display_data"
    }
   ],
   "execution_count": 168
  },
  {
   "cell_type": "code",
   "id": "e7b4e819fb1db54b",
   "metadata": {
    "ExecuteTime": {
     "end_time": "2025-04-06T19:41:12.091542Z",
     "start_time": "2025-04-06T19:41:12.063376Z"
    }
   },
   "source": [
    "print(\"Evaluation Metrics for Tree 1 - Test Data\")\n",
    "cm_1_test = confusion_matrix(y_dropped_test, y_1_dropped_pred)\n",
    "compute_metrics(cm_1_test)"
   ],
   "outputs": [
    {
     "name": "stdout",
     "output_type": "stream",
     "text": [
      "Evaluation Metrics for Tree 1 - Test Data\n"
     ]
    },
    {
     "data": {
      "text/plain": [
       "              precision  recall  f1-score  support\n",
       "Low                0.63    0.87      0.73      527\n",
       "Medium             0.30    0.13      0.18      249\n",
       "High               0.10    0.02      0.04       81\n",
       "accuracy           0.00    0.00      0.57      857\n",
       "macro avg          0.34    0.34      0.32      857\n",
       "weighted avg       0.48    0.57      0.50      857"
      ],
      "text/html": [
       "<div>\n",
       "<style scoped>\n",
       "    .dataframe tbody tr th:only-of-type {\n",
       "        vertical-align: middle;\n",
       "    }\n",
       "\n",
       "    .dataframe tbody tr th {\n",
       "        vertical-align: top;\n",
       "    }\n",
       "\n",
       "    .dataframe thead th {\n",
       "        text-align: right;\n",
       "    }\n",
       "</style>\n",
       "<table border=\"1\" class=\"dataframe\">\n",
       "  <thead>\n",
       "    <tr style=\"text-align: right;\">\n",
       "      <th></th>\n",
       "      <th>precision</th>\n",
       "      <th>recall</th>\n",
       "      <th>f1-score</th>\n",
       "      <th>support</th>\n",
       "    </tr>\n",
       "  </thead>\n",
       "  <tbody>\n",
       "    <tr>\n",
       "      <th>Low</th>\n",
       "      <td>0.63</td>\n",
       "      <td>0.87</td>\n",
       "      <td>0.73</td>\n",
       "      <td>527</td>\n",
       "    </tr>\n",
       "    <tr>\n",
       "      <th>Medium</th>\n",
       "      <td>0.30</td>\n",
       "      <td>0.13</td>\n",
       "      <td>0.18</td>\n",
       "      <td>249</td>\n",
       "    </tr>\n",
       "    <tr>\n",
       "      <th>High</th>\n",
       "      <td>0.10</td>\n",
       "      <td>0.02</td>\n",
       "      <td>0.04</td>\n",
       "      <td>81</td>\n",
       "    </tr>\n",
       "    <tr>\n",
       "      <th>accuracy</th>\n",
       "      <td>0.00</td>\n",
       "      <td>0.00</td>\n",
       "      <td>0.57</td>\n",
       "      <td>857</td>\n",
       "    </tr>\n",
       "    <tr>\n",
       "      <th>macro avg</th>\n",
       "      <td>0.34</td>\n",
       "      <td>0.34</td>\n",
       "      <td>0.32</td>\n",
       "      <td>857</td>\n",
       "    </tr>\n",
       "    <tr>\n",
       "      <th>weighted avg</th>\n",
       "      <td>0.48</td>\n",
       "      <td>0.57</td>\n",
       "      <td>0.50</td>\n",
       "      <td>857</td>\n",
       "    </tr>\n",
       "  </tbody>\n",
       "</table>\n",
       "</div>"
      ]
     },
     "execution_count": 169,
     "metadata": {},
     "output_type": "execute_result"
    }
   ],
   "execution_count": 169
  },
  {
   "cell_type": "code",
   "id": "52356d35bb437a2f",
   "metadata": {
    "ExecuteTime": {
     "end_time": "2025-04-06T19:41:12.654255Z",
     "start_time": "2025-04-06T19:41:12.227930Z"
    }
   },
   "source": "generate_heatmap(cm_1_test, \"Confusion Matrix for Tree 1 - Test Data\")",
   "outputs": [
    {
     "data": {
      "text/plain": [
       "<Figure size 640x480 with 2 Axes>"
      ],
      "image/png": "[encoded data removed]"
     },
     "metadata": {},
     "output_type": "display_data"
    }
   ],
   "execution_count": 170
  },
  {
   "cell_type": "markdown",
   "id": "3f46db1ea0e0594e",
   "metadata": {},
   "source": [
    "#### Tree 2 - %100 fit to the train data using df_filled"
   ]
  },
  {
   "cell_type": "code",
   "id": "1184b30995276676",
   "metadata": {
    "ExecuteTime": {
     "end_time": "2025-04-06T19:43:18.559443Z",
     "start_time": "2025-04-06T19:41:12.733323Z"
    }
   },
   "source": [
    "id3_2 = ID3(split_method=\"median\", min_samples_split=2, min_samples_leaf=1)\n",
    "id3_2.fit(x_filled_train, y_filled_train)\n",
    "y_2_filled_train_pred = id3_2.predict(x_filled_train)\n",
    "y_2_filled_pred = id3_2.predict(x_filled_test)"
   ],
   "outputs": [],
   "execution_count": 171
  },
  {
   "cell_type": "code",
   "id": "64670c67fd8f52e2",
   "metadata": {
    "ExecuteTime": {
     "end_time": "2025-04-06T19:43:18.810412Z",
     "start_time": "2025-04-06T19:43:18.768059Z"
    }
   },
   "source": [
    "print(\"Evaluation Metrics for Tree 2 - Train Data\")\n",
    "cm_2_train = confusion_matrix(y_filled_train, y_2_filled_train_pred)\n",
    "compute_metrics(cm_2_train)"
   ],
   "outputs": [
    {
     "name": "stdout",
     "output_type": "stream",
     "text": [
      "Evaluation Metrics for Tree 2 - Train Data\n"
     ]
    },
    {
     "data": {
      "text/plain": [
       "              precision  recall  f1-score  support\n",
       "Low                 1.0     1.0       1.0     6308\n",
       "Medium              1.0     1.0       1.0     3162\n",
       "High                1.0     1.0       1.0     1030\n",
       "accuracy            0.0     0.0       1.0    10500\n",
       "macro avg           1.0     1.0       1.0    10500\n",
       "weighted avg        1.0     1.0       1.0    10500"
      ],
      "text/html": [
       "<div>\n",
       "<style scoped>\n",
       "    .dataframe tbody tr th:only-of-type {\n",
       "        vertical-align: middle;\n",
       "    }\n",
       "\n",
       "    .dataframe tbody tr th {\n",
       "        vertical-align: top;\n",
       "    }\n",
       "\n",
       "    .dataframe thead th {\n",
       "        text-align: right;\n",
       "    }\n",
       "</style>\n",
       "<table border=\"1\" class=\"dataframe\">\n",
       "  <thead>\n",
       "    <tr style=\"text-align: right;\">\n",
       "      <th></th>\n",
       "      <th>precision</th>\n",
       "      <th>recall</th>\n",
       "      <th>f1-score</th>\n",
       "      <th>support</th>\n",
       "    </tr>\n",
       "  </thead>\n",
       "  <tbody>\n",
       "    <tr>\n",
       "      <th>Low</th>\n",
       "      <td>1.0</td>\n",
       "      <td>1.0</td>\n",
       "      <td>1.0</td>\n",
       "      <td>6308</td>\n",
       "    </tr>\n",
       "    <tr>\n",
       "      <th>Medium</th>\n",
       "      <td>1.0</td>\n",
       "      <td>1.0</td>\n",
       "      <td>1.0</td>\n",
       "      <td>3162</td>\n",
       "    </tr>\n",
       "    <tr>\n",
       "      <th>High</th>\n",
       "      <td>1.0</td>\n",
       "      <td>1.0</td>\n",
       "      <td>1.0</td>\n",
       "      <td>1030</td>\n",
       "    </tr>\n",
       "    <tr>\n",
       "      <th>accuracy</th>\n",
       "      <td>0.0</td>\n",
       "      <td>0.0</td>\n",
       "      <td>1.0</td>\n",
       "      <td>10500</td>\n",
       "    </tr>\n",
       "    <tr>\n",
       "      <th>macro avg</th>\n",
       "      <td>1.0</td>\n",
       "      <td>1.0</td>\n",
       "      <td>1.0</td>\n",
       "      <td>10500</td>\n",
       "    </tr>\n",
       "    <tr>\n",
       "      <th>weighted avg</th>\n",
       "      <td>1.0</td>\n",
       "      <td>1.0</td>\n",
       "      <td>1.0</td>\n",
       "      <td>10500</td>\n",
       "    </tr>\n",
       "  </tbody>\n",
       "</table>\n",
       "</div>"
      ]
     },
     "execution_count": 172,
     "metadata": {},
     "output_type": "execute_result"
    }
   ],
   "execution_count": 172
  },
  {
   "cell_type": "code",
   "id": "d9a961d7a3f696ff",
   "metadata": {
    "ExecuteTime": {
     "end_time": "2025-04-06T19:43:19.179601Z",
     "start_time": "2025-04-06T19:43:18.901415Z"
    }
   },
   "source": "generate_heatmap(cm_2_train, \"Confusion Matrix for Tree 2 - Train Data\")",
   "outputs": [
    {
     "data": {
      "text/plain": [
       "<Figure size 640x480 with 2 Axes>"
      ],
      "image/png": "[encoded data removed]"
     },
     "metadata": {},
     "output_type": "display_data"
    }
   ],
   "execution_count": 173
  },
  {
   "cell_type": "code",
   "id": "3daa8415b4431464",
   "metadata": {
    "ExecuteTime": {
     "end_time": "2025-04-06T19:43:19.259517Z",
     "start_time": "2025-04-06T19:43:19.239549Z"
    }
   },
   "source": [
    "print(\"Evaluation Metrics for Tree 2 - Test Data\")\n",
    "cm_2_test = confusion_matrix(y_filled_test, y_2_filled_pred)\n",
    "compute_metrics(cm_2_test)"
   ],
   "outputs": [
    {
     "name": "stdout",
     "output_type": "stream",
     "text": [
      "Evaluation Metrics for Tree 2 - Test Data\n"
     ]
    },
    {
     "data": {
      "text/plain": [
       "              precision  recall  f1-score  support\n",
       "Low                0.60    0.79      0.68     1342\n",
       "Medium             0.31    0.16      0.21      667\n",
       "High               0.12    0.07      0.09      241\n",
       "accuracy           0.00    0.00      0.53     2250\n",
       "macro avg          0.34    0.34      0.33     2250\n",
       "weighted avg       0.46    0.53      0.48     2250"
      ],
      "text/html": [
       "<div>\n",
       "<style scoped>\n",
       "    .dataframe tbody tr th:only-of-type {\n",
       "        vertical-align: middle;\n",
       "    }\n",
       "\n",
       "    .dataframe tbody tr th {\n",
       "        vertical-align: top;\n",
       "    }\n",
       "\n",
       "    .dataframe thead th {\n",
       "        text-align: right;\n",
       "    }\n",
       "</style>\n",
       "<table border=\"1\" class=\"dataframe\">\n",
       "  <thead>\n",
       "    <tr style=\"text-align: right;\">\n",
       "      <th></th>\n",
       "      <th>precision</th>\n",
       "      <th>recall</th>\n",
       "      <th>f1-score</th>\n",
       "      <th>support</th>\n",
       "    </tr>\n",
       "  </thead>\n",
       "  <tbody>\n",
       "    <tr>\n",
       "      <th>Low</th>\n",
       "      <td>0.60</td>\n",
       "      <td>0.79</td>\n",
       "      <td>0.68</td>\n",
       "      <td>1342</td>\n",
       "    </tr>\n",
       "    <tr>\n",
       "      <th>Medium</th>\n",
       "      <td>0.31</td>\n",
       "      <td>0.16</td>\n",
       "      <td>0.21</td>\n",
       "      <td>667</td>\n",
       "    </tr>\n",
       "    <tr>\n",
       "      <th>High</th>\n",
       "      <td>0.12</td>\n",
       "      <td>0.07</td>\n",
       "      <td>0.09</td>\n",
       "      <td>241</td>\n",
       "    </tr>\n",
       "    <tr>\n",
       "      <th>accuracy</th>\n",
       "      <td>0.00</td>\n",
       "      <td>0.00</td>\n",
       "      <td>0.53</td>\n",
       "      <td>2250</td>\n",
       "    </tr>\n",
       "    <tr>\n",
       "      <th>macro avg</th>\n",
       "      <td>0.34</td>\n",
       "      <td>0.34</td>\n",
       "      <td>0.33</td>\n",
       "      <td>2250</td>\n",
       "    </tr>\n",
       "    <tr>\n",
       "      <th>weighted avg</th>\n",
       "      <td>0.46</td>\n",
       "      <td>0.53</td>\n",
       "      <td>0.48</td>\n",
       "      <td>2250</td>\n",
       "    </tr>\n",
       "  </tbody>\n",
       "</table>\n",
       "</div>"
      ]
     },
     "execution_count": 174,
     "metadata": {},
     "output_type": "execute_result"
    }
   ],
   "execution_count": 174
  },
  {
   "cell_type": "code",
   "id": "ca0f3f895e27d021",
   "metadata": {
    "ExecuteTime": {
     "end_time": "2025-04-06T19:43:19.737500Z",
     "start_time": "2025-04-06T19:43:19.359550Z"
    }
   },
   "source": "generate_heatmap(cm_2_test, \"Confusion Matrix for Tree 2 - Test Data\")",
   "outputs": [
    {
     "data": {
      "text/plain": [
       "<Figure size 640x480 with 2 Axes>"
      ],
      "image/png": "[encoded data removed]"
     },
     "metadata": {},
     "output_type": "display_data"
    }
   ],
   "execution_count": 175
  },
  {
   "cell_type": "markdown",
   "id": "cb283f2fec43a19a",
   "metadata": {},
   "source": [
    "#### Tree 3 - split_method = \"median\" & min_samples_split = 5 & min_samples_leaf = 2 using df_filled"
   ]
  },
  {
   "cell_type": "code",
   "id": "45009d08e4916f57",
   "metadata": {
    "ExecuteTime": {
     "end_time": "2025-04-06T19:43:57.116336Z",
     "start_time": "2025-04-06T19:43:19.834318Z"
    }
   },
   "source": [
    "id3_3 = ID3(split_method=\"median\", min_samples_split=5, min_samples_leaf=2)\n",
    "id3_3.fit(x_filled_train, y_filled_train)\n",
    "y_3_filled_train_pred = id3_3.predict(x_filled_train)\n",
    "y_3_filled_pred = id3_3.predict(x_filled_test)"
   ],
   "outputs": [],
   "execution_count": 176
  },
  {
   "cell_type": "code",
   "id": "481f20cf4d1e1ffb",
   "metadata": {
    "ExecuteTime": {
     "end_time": "2025-04-06T19:43:57.166063Z",
     "start_time": "2025-04-06T19:43:57.131539Z"
    }
   },
   "source": [
    "print(\"Evaluation Metrics for Tree 3 - Train Data\")\n",
    "cm_3_train = confusion_matrix(y_filled_train, y_3_filled_train_pred)\n",
    "compute_metrics(cm_3_train)"
   ],
   "outputs": [
    {
     "name": "stdout",
     "output_type": "stream",
     "text": [
      "Evaluation Metrics for Tree 3 - Train Data\n"
     ]
    },
    {
     "data": {
      "text/plain": [
       "              precision  recall  f1-score  support\n",
       "Low                0.67    0.93      0.78     6308\n",
       "Medium             0.80    0.20      0.32     3162\n",
       "High               0.49    0.45      0.47     1030\n",
       "accuracy           0.00    0.00      0.66    10500\n",
       "macro avg          0.65    0.53      0.52    10500\n",
       "weighted avg       0.69    0.66      0.61    10500"
      ],
      "text/html": [
       "<div>\n",
       "<style scoped>\n",
       "    .dataframe tbody tr th:only-of-type {\n",
       "        vertical-align: middle;\n",
       "    }\n",
       "\n",
       "    .dataframe tbody tr th {\n",
       "        vertical-align: top;\n",
       "    }\n",
       "\n",
       "    .dataframe thead th {\n",
       "        text-align: right;\n",
       "    }\n",
       "</style>\n",
       "<table border=\"1\" class=\"dataframe\">\n",
       "  <thead>\n",
       "    <tr style=\"text-align: right;\">\n",
       "      <th></th>\n",
       "      <th>precision</th>\n",
       "      <th>recall</th>\n",
       "      <th>f1-score</th>\n",
       "      <th>support</th>\n",
       "    </tr>\n",
       "  </thead>\n",
       "  <tbody>\n",
       "    <tr>\n",
       "      <th>Low</th>\n",
       "      <td>0.67</td>\n",
       "      <td>0.93</td>\n",
       "      <td>0.78</td>\n",
       "      <td>6308</td>\n",
       "    </tr>\n",
       "    <tr>\n",
       "      <th>Medium</th>\n",
       "      <td>0.80</td>\n",
       "      <td>0.20</td>\n",
       "      <td>0.32</td>\n",
       "      <td>3162</td>\n",
       "    </tr>\n",
       "    <tr>\n",
       "      <th>High</th>\n",
       "      <td>0.49</td>\n",
       "      <td>0.45</td>\n",
       "      <td>0.47</td>\n",
       "      <td>1030</td>\n",
       "    </tr>\n",
       "    <tr>\n",
       "      <th>accuracy</th>\n",
       "      <td>0.00</td>\n",
       "      <td>0.00</td>\n",
       "      <td>0.66</td>\n",
       "      <td>10500</td>\n",
       "    </tr>\n",
       "    <tr>\n",
       "      <th>macro avg</th>\n",
       "      <td>0.65</td>\n",
       "      <td>0.53</td>\n",
       "      <td>0.52</td>\n",
       "      <td>10500</td>\n",
       "    </tr>\n",
       "    <tr>\n",
       "      <th>weighted avg</th>\n",
       "      <td>0.69</td>\n",
       "      <td>0.66</td>\n",
       "      <td>0.61</td>\n",
       "      <td>10500</td>\n",
       "    </tr>\n",
       "  </tbody>\n",
       "</table>\n",
       "</div>"
      ]
     },
     "execution_count": 177,
     "metadata": {},
     "output_type": "execute_result"
    }
   ],
   "execution_count": 177
  },
  {
   "cell_type": "code",
   "id": "4d00c3fbd3d42610",
   "metadata": {
    "ExecuteTime": {
     "end_time": "2025-04-06T19:43:57.749557Z",
     "start_time": "2025-04-06T19:43:57.393310Z"
    }
   },
   "source": "generate_heatmap(cm_3_train, \"Confusion Matrix for Tree 3 - Train Data\")",
   "outputs": [
    {
     "data": {
      "text/plain": [
       "<Figure size 640x480 with 2 Axes>"
      ],
      "image/png": "[encoded data removed]"
     },
     "metadata": {},
     "output_type": "display_data"
    }
   ],
   "execution_count": 178
  },
  {
   "cell_type": "code",
   "id": "6877ecaf505af1da",
   "metadata": {
    "ExecuteTime": {
     "end_time": "2025-04-06T19:43:57.853228Z",
     "start_time": "2025-04-06T19:43:57.828920Z"
    }
   },
   "source": [
    "print(\"Evaluation Metrics for Tree 3 - Test Data\")\n",
    "cm_3_test = confusion_matrix(y_filled_test, y_3_filled_pred)\n",
    "compute_metrics(cm_3_test)"
   ],
   "outputs": [
    {
     "name": "stdout",
     "output_type": "stream",
     "text": [
      "Evaluation Metrics for Tree 3 - Test Data\n"
     ]
    },
    {
     "data": {
      "text/plain": [
       "              precision  recall  f1-score  support\n",
       "Low                0.59    0.93      0.73     1342\n",
       "Medium             0.21    0.02      0.04      667\n",
       "High               0.12    0.03      0.05      241\n",
       "accuracy           0.00    0.00      0.57     2250\n",
       "macro avg          0.31    0.33      0.27     2250\n",
       "weighted avg       0.43    0.57      0.45     2250"
      ],
      "text/html": [
       "<div>\n",
       "<style scoped>\n",
       "    .dataframe tbody tr th:only-of-type {\n",
       "        vertical-align: middle;\n",
       "    }\n",
       "\n",
       "    .dataframe tbody tr th {\n",
       "        vertical-align: top;\n",
       "    }\n",
       "\n",
       "    .dataframe thead th {\n",
       "        text-align: right;\n",
       "    }\n",
       "</style>\n",
       "<table border=\"1\" class=\"dataframe\">\n",
       "  <thead>\n",
       "    <tr style=\"text-align: right;\">\n",
       "      <th></th>\n",
       "      <th>precision</th>\n",
       "      <th>recall</th>\n",
       "      <th>f1-score</th>\n",
       "      <th>support</th>\n",
       "    </tr>\n",
       "  </thead>\n",
       "  <tbody>\n",
       "    <tr>\n",
       "      <th>Low</th>\n",
       "      <td>0.59</td>\n",
       "      <td>0.93</td>\n",
       "      <td>0.73</td>\n",
       "      <td>1342</td>\n",
       "    </tr>\n",
       "    <tr>\n",
       "      <th>Medium</th>\n",
       "      <td>0.21</td>\n",
       "      <td>0.02</td>\n",
       "      <td>0.04</td>\n",
       "      <td>667</td>\n",
       "    </tr>\n",
       "    <tr>\n",
       "      <th>High</th>\n",
       "      <td>0.12</td>\n",
       "      <td>0.03</td>\n",
       "      <td>0.05</td>\n",
       "      <td>241</td>\n",
       "    </tr>\n",
       "    <tr>\n",
       "      <th>accuracy</th>\n",
       "      <td>0.00</td>\n",
       "      <td>0.00</td>\n",
       "      <td>0.57</td>\n",
       "      <td>2250</td>\n",
       "    </tr>\n",
       "    <tr>\n",
       "      <th>macro avg</th>\n",
       "      <td>0.31</td>\n",
       "      <td>0.33</td>\n",
       "      <td>0.27</td>\n",
       "      <td>2250</td>\n",
       "    </tr>\n",
       "    <tr>\n",
       "      <th>weighted avg</th>\n",
       "      <td>0.43</td>\n",
       "      <td>0.57</td>\n",
       "      <td>0.45</td>\n",
       "      <td>2250</td>\n",
       "    </tr>\n",
       "  </tbody>\n",
       "</table>\n",
       "</div>"
      ]
     },
     "execution_count": 179,
     "metadata": {},
     "output_type": "execute_result"
    }
   ],
   "execution_count": 179
  },
  {
   "cell_type": "code",
   "id": "e219a2fdb1929c3a",
   "metadata": {
    "ExecuteTime": {
     "end_time": "2025-04-06T19:43:58.458623Z",
     "start_time": "2025-04-06T19:43:58.068306Z"
    }
   },
   "source": "generate_heatmap(cm_3_test, \"Confusion Matrix for Tree 3 - Test Data\")",
   "outputs": [
    {
     "data": {
      "text/plain": [
       "<Figure size 640x480 with 2 Axes>"
      ],
      "image/png": "[encoded data removed]"
     },
     "metadata": {},
     "output_type": "display_data"
    }
   ],
   "execution_count": 180
  },
  {
   "cell_type": "markdown",
   "id": "bd97c1e2b46a3e14",
   "metadata": {},
   "source": [
    "#### Tree 4 - split_method = \"median\" & min_samples_split = 10 & min_samples_leaf = 3 using df_filled"
   ]
  },
  {
   "cell_type": "code",
   "id": "26baa0d5258a4569",
   "metadata": {
    "ExecuteTime": {
     "end_time": "2025-04-06T19:44:30.426142Z",
     "start_time": "2025-04-06T19:43:58.531538Z"
    }
   },
   "source": [
    "id3_4 = ID3(split_method=\"median\", min_samples_split=10, min_samples_leaf=3)\n",
    "id3_4.fit(x_filled_train, y_filled_train)\n",
    "y_4_filled_train_pred = id3_4.predict(x_filled_train)\n",
    "y_4_filled_pred = id3_4.predict(x_filled_test)"
   ],
   "outputs": [],
   "execution_count": 181
  },
  {
   "cell_type": "code",
   "id": "587deaa4c7d24131",
   "metadata": {
    "ExecuteTime": {
     "end_time": "2025-04-06T19:44:30.487262Z",
     "start_time": "2025-04-06T19:44:30.443358Z"
    }
   },
   "source": [
    "print(\"Evaluation Metrics for Tree 4 - Train Data\")\n",
    "cm_4_train = confusion_matrix(y_filled_train, y_4_filled_train_pred)\n",
    "compute_metrics(cm_4_train)"
   ],
   "outputs": [
    {
     "name": "stdout",
     "output_type": "stream",
     "text": [
      "Evaluation Metrics for Tree 4 - Train Data\n"
     ]
    },
    {
     "data": {
      "text/plain": [
       "              precision  recall  f1-score  support\n",
       "Low                0.62    0.96      0.76     6308\n",
       "Medium             0.63    0.11      0.18     3162\n",
       "High               0.40    0.09      0.14     1030\n",
       "accuracy           0.00    0.00      0.62    10500\n",
       "macro avg          0.55    0.39      0.36    10500\n",
       "weighted avg       0.60    0.62      0.52    10500"
      ],
      "text/html": [
       "<div>\n",
       "<style scoped>\n",
       "    .dataframe tbody tr th:only-of-type {\n",
       "        vertical-align: middle;\n",
       "    }\n",
       "\n",
       "    .dataframe tbody tr th {\n",
       "        vertical-align: top;\n",
       "    }\n",
       "\n",
       "    .dataframe thead th {\n",
       "        text-align: right;\n",
       "    }\n",
       "</style>\n",
       "<table border=\"1\" class=\"dataframe\">\n",
       "  <thead>\n",
       "    <tr style=\"text-align: right;\">\n",
       "      <th></th>\n",
       "      <th>precision</th>\n",
       "      <th>recall</th>\n",
       "      <th>f1-score</th>\n",
       "      <th>support</th>\n",
       "    </tr>\n",
       "  </thead>\n",
       "  <tbody>\n",
       "    <tr>\n",
       "      <th>Low</th>\n",
       "      <td>0.62</td>\n",
       "      <td>0.96</td>\n",
       "      <td>0.76</td>\n",
       "      <td>6308</td>\n",
       "    </tr>\n",
       "    <tr>\n",
       "      <th>Medium</th>\n",
       "      <td>0.63</td>\n",
       "      <td>0.11</td>\n",
       "      <td>0.18</td>\n",
       "      <td>3162</td>\n",
       "    </tr>\n",
       "    <tr>\n",
       "      <th>High</th>\n",
       "      <td>0.40</td>\n",
       "      <td>0.09</td>\n",
       "      <td>0.14</td>\n",
       "      <td>1030</td>\n",
       "    </tr>\n",
       "    <tr>\n",
       "      <th>accuracy</th>\n",
       "      <td>0.00</td>\n",
       "      <td>0.00</td>\n",
       "      <td>0.62</td>\n",
       "      <td>10500</td>\n",
       "    </tr>\n",
       "    <tr>\n",
       "      <th>macro avg</th>\n",
       "      <td>0.55</td>\n",
       "      <td>0.39</td>\n",
       "      <td>0.36</td>\n",
       "      <td>10500</td>\n",
       "    </tr>\n",
       "    <tr>\n",
       "      <th>weighted avg</th>\n",
       "      <td>0.60</td>\n",
       "      <td>0.62</td>\n",
       "      <td>0.52</td>\n",
       "      <td>10500</td>\n",
       "    </tr>\n",
       "  </tbody>\n",
       "</table>\n",
       "</div>"
      ]
     },
     "execution_count": 182,
     "metadata": {},
     "output_type": "execute_result"
    }
   ],
   "execution_count": 182
  },
  {
   "cell_type": "code",
   "id": "c0d6d47b3bd5de91",
   "metadata": {
    "ExecuteTime": {
     "end_time": "2025-04-06T19:44:31.066553Z",
     "start_time": "2025-04-06T19:44:30.727149Z"
    }
   },
   "source": "generate_heatmap(cm_4_train, \"Confusion Matrix for Tree 4 - Train Data\")",
   "outputs": [
    {
     "data": {
      "text/plain": [
       "<Figure size 640x480 with 2 Axes>"
      ],
      "image/png": "[encoded data removed]"
     },
     "metadata": {},
     "output_type": "display_data"
    }
   ],
   "execution_count": 183
  },
  {
   "cell_type": "code",
   "id": "c345dca9fe4db483",
   "metadata": {
    "ExecuteTime": {
     "end_time": "2025-04-06T19:44:31.179979Z",
     "start_time": "2025-04-06T19:44:31.146071Z"
    }
   },
   "source": [
    "print(\"Evaluation Metrics for Tree 4 - Test Data\")\n",
    "cm_4_test = confusion_matrix(y_filled_test, y_4_filled_pred)\n",
    "compute_metrics(cm_4_test)"
   ],
   "outputs": [
    {
     "name": "stdout",
     "output_type": "stream",
     "text": [
      "Evaluation Metrics for Tree 4 - Test Data\n"
     ]
    },
    {
     "data": {
      "text/plain": [
       "              precision  recall  f1-score  support\n",
       "Low                0.59    0.96      0.74     1342\n",
       "Medium             0.25    0.02      0.04      667\n",
       "High               0.00    0.00      0.00      241\n",
       "accuracy           0.00    0.00      0.58     2250\n",
       "macro avg          0.28    0.33      0.26     2250\n",
       "weighted avg       0.43    0.58      0.45     2250"
      ],
      "text/html": [
       "<div>\n",
       "<style scoped>\n",
       "    .dataframe tbody tr th:only-of-type {\n",
       "        vertical-align: middle;\n",
       "    }\n",
       "\n",
       "    .dataframe tbody tr th {\n",
       "        vertical-align: top;\n",
       "    }\n",
       "\n",
       "    .dataframe thead th {\n",
       "        text-align: right;\n",
       "    }\n",
       "</style>\n",
       "<table border=\"1\" class=\"dataframe\">\n",
       "  <thead>\n",
       "    <tr style=\"text-align: right;\">\n",
       "      <th></th>\n",
       "      <th>precision</th>\n",
       "      <th>recall</th>\n",
       "      <th>f1-score</th>\n",
       "      <th>support</th>\n",
       "    </tr>\n",
       "  </thead>\n",
       "  <tbody>\n",
       "    <tr>\n",
       "      <th>Low</th>\n",
       "      <td>0.59</td>\n",
       "      <td>0.96</td>\n",
       "      <td>0.74</td>\n",
       "      <td>1342</td>\n",
       "    </tr>\n",
       "    <tr>\n",
       "      <th>Medium</th>\n",
       "      <td>0.25</td>\n",
       "      <td>0.02</td>\n",
       "      <td>0.04</td>\n",
       "      <td>667</td>\n",
       "    </tr>\n",
       "    <tr>\n",
       "      <th>High</th>\n",
       "      <td>0.00</td>\n",
       "      <td>0.00</td>\n",
       "      <td>0.00</td>\n",
       "      <td>241</td>\n",
       "    </tr>\n",
       "    <tr>\n",
       "      <th>accuracy</th>\n",
       "      <td>0.00</td>\n",
       "      <td>0.00</td>\n",
       "      <td>0.58</td>\n",
       "      <td>2250</td>\n",
       "    </tr>\n",
       "    <tr>\n",
       "      <th>macro avg</th>\n",
       "      <td>0.28</td>\n",
       "      <td>0.33</td>\n",
       "      <td>0.26</td>\n",
       "      <td>2250</td>\n",
       "    </tr>\n",
       "    <tr>\n",
       "      <th>weighted avg</th>\n",
       "      <td>0.43</td>\n",
       "      <td>0.58</td>\n",
       "      <td>0.45</td>\n",
       "      <td>2250</td>\n",
       "    </tr>\n",
       "  </tbody>\n",
       "</table>\n",
       "</div>"
      ]
     },
     "execution_count": 184,
     "metadata": {},
     "output_type": "execute_result"
    }
   ],
   "execution_count": 184
  },
  {
   "cell_type": "code",
   "id": "8c34ba8de1b234e0",
   "metadata": {
    "ExecuteTime": {
     "end_time": "2025-04-06T19:44:31.778548Z",
     "start_time": "2025-04-06T19:44:31.435751Z"
    }
   },
   "source": "generate_heatmap(cm_4_test, \"Confusion Matrix for Tree 4 - Test Data\")",
   "outputs": [
    {
     "data": {
      "text/plain": [
       "<Figure size 640x480 with 2 Axes>"
      ],
      "image/png": "[encoded data removed]"
     },
     "metadata": {},
     "output_type": "display_data"
    }
   ],
   "execution_count": 185
  },
  {
   "cell_type": "markdown",
   "id": "53c30986fa75df47",
   "metadata": {},
   "source": [
    "#### Tree 5 - split_method = \"best\" & min_samples_split = 10 & min_samples_leaf = 3 using df_filled"
   ]
  },
  {
   "cell_type": "code",
   "id": "4332e3900482642b",
   "metadata": {
    "ExecuteTime": {
     "end_time": "2025-04-06T19:50:36.034808Z",
     "start_time": "2025-04-06T19:44:31.866195Z"
    }
   },
   "source": [
    "id3_5 = ID3(split_method=\"best\", min_samples_split=10, min_samples_leaf=3)\n",
    "id3_5.fit(x_filled_train, y_filled_train)\n",
    "y_5_filled_train_pred = id3_5.predict(x_filled_train)\n",
    "y_5_filled_pred = id3_5.predict(x_filled_test)"
   ],
   "outputs": [],
   "execution_count": 186
  },
  {
   "cell_type": "code",
   "id": "baf6b8fdcadef5a8",
   "metadata": {
    "ExecuteTime": {
     "end_time": "2025-04-06T19:50:36.254834Z",
     "start_time": "2025-04-06T19:50:36.216740Z"
    }
   },
   "source": [
    "print(\"Evaluation Metrics for Tree 5 - Train Data\")\n",
    "cm_5_train = confusion_matrix(y_filled_train, y_5_filled_train_pred)\n",
    "compute_metrics(cm_5_train)"
   ],
   "outputs": [
    {
     "name": "stdout",
     "output_type": "stream",
     "text": [
      "Evaluation Metrics for Tree 5 - Train Data\n"
     ]
    },
    {
     "data": {
      "text/plain": [
       "              precision  recall  f1-score  support\n",
       "Low                0.62    0.96      0.76     6308\n",
       "Medium             0.63    0.11      0.18     3162\n",
       "High               0.40    0.09      0.14     1030\n",
       "accuracy           0.00    0.00      0.62    10500\n",
       "macro avg          0.55    0.39      0.36    10500\n",
       "weighted avg       0.60    0.62      0.52    10500"
      ],
      "text/html": [
       "<div>\n",
       "<style scoped>\n",
       "    .dataframe tbody tr th:only-of-type {\n",
       "        vertical-align: middle;\n",
       "    }\n",
       "\n",
       "    .dataframe tbody tr th {\n",
       "        vertical-align: top;\n",
       "    }\n",
       "\n",
       "    .dataframe thead th {\n",
       "        text-align: right;\n",
       "    }\n",
       "</style>\n",
       "<table border=\"1\" class=\"dataframe\">\n",
       "  <thead>\n",
       "    <tr style=\"text-align: right;\">\n",
       "      <th></th>\n",
       "      <th>precision</th>\n",
       "      <th>recall</th>\n",
       "      <th>f1-score</th>\n",
       "      <th>support</th>\n",
       "    </tr>\n",
       "  </thead>\n",
       "  <tbody>\n",
       "    <tr>\n",
       "      <th>Low</th>\n",
       "      <td>0.62</td>\n",
       "      <td>0.96</td>\n",
       "      <td>0.76</td>\n",
       "      <td>6308</td>\n",
       "    </tr>\n",
       "    <tr>\n",
       "      <th>Medium</th>\n",
       "      <td>0.63</td>\n",
       "      <td>0.11</td>\n",
       "      <td>0.18</td>\n",
       "      <td>3162</td>\n",
       "    </tr>\n",
       "    <tr>\n",
       "      <th>High</th>\n",
       "      <td>0.40</td>\n",
       "      <td>0.09</td>\n",
       "      <td>0.14</td>\n",
       "      <td>1030</td>\n",
       "    </tr>\n",
       "    <tr>\n",
       "      <th>accuracy</th>\n",
       "      <td>0.00</td>\n",
       "      <td>0.00</td>\n",
       "      <td>0.62</td>\n",
       "      <td>10500</td>\n",
       "    </tr>\n",
       "    <tr>\n",
       "      <th>macro avg</th>\n",
       "      <td>0.55</td>\n",
       "      <td>0.39</td>\n",
       "      <td>0.36</td>\n",
       "      <td>10500</td>\n",
       "    </tr>\n",
       "    <tr>\n",
       "      <th>weighted avg</th>\n",
       "      <td>0.60</td>\n",
       "      <td>0.62</td>\n",
       "      <td>0.52</td>\n",
       "      <td>10500</td>\n",
       "    </tr>\n",
       "  </tbody>\n",
       "</table>\n",
       "</div>"
      ]
     },
     "execution_count": 187,
     "metadata": {},
     "output_type": "execute_result"
    }
   ],
   "execution_count": 187
  },
  {
   "cell_type": "code",
   "id": "86959f499f49fb3a",
   "metadata": {
    "ExecuteTime": {
     "end_time": "2025-04-06T19:50:36.696614Z",
     "start_time": "2025-04-06T19:50:36.326650Z"
    }
   },
   "source": "generate_heatmap(cm_5_train, \"Confusion Matrix for Tree 5 - Train Data\")",
   "outputs": [
    {
     "data": {
      "text/plain": [
       "<Figure size 640x480 with 2 Axes>"
      ],
      "image/png": "[encoded data removed]"
     },
     "metadata": {},
     "output_type": "display_data"
    }
   ],
   "execution_count": 188
  },
  {
   "cell_type": "code",
   "id": "40f3df9b09a6cdcd",
   "metadata": {
    "ExecuteTime": {
     "end_time": "2025-04-06T19:50:36.803363Z",
     "start_time": "2025-04-06T19:50:36.770352Z"
    }
   },
   "source": [
    "print(\"Evaluation Metrics for Tree 5 - Test Data\")\n",
    "cm_5_test = confusion_matrix(y_filled_test, y_5_filled_pred)\n",
    "compute_metrics(cm_5_test)"
   ],
   "outputs": [
    {
     "name": "stdout",
     "output_type": "stream",
     "text": [
      "Evaluation Metrics for Tree 5 - Test Data\n"
     ]
    },
    {
     "data": {
      "text/plain": [
       "              precision  recall  f1-score  support\n",
       "Low                0.59    0.96      0.74     1342\n",
       "Medium             0.25    0.02      0.04      667\n",
       "High               0.00    0.00      0.00      241\n",
       "accuracy           0.00    0.00      0.58     2250\n",
       "macro avg          0.28    0.33      0.26     2250\n",
       "weighted avg       0.43    0.58      0.45     2250"
      ],
      "text/html": [
       "<div>\n",
       "<style scoped>\n",
       "    .dataframe tbody tr th:only-of-type {\n",
       "        vertical-align: middle;\n",
       "    }\n",
       "\n",
       "    .dataframe tbody tr th {\n",
       "        vertical-align: top;\n",
       "    }\n",
       "\n",
       "    .dataframe thead th {\n",
       "        text-align: right;\n",
       "    }\n",
       "</style>\n",
       "<table border=\"1\" class=\"dataframe\">\n",
       "  <thead>\n",
       "    <tr style=\"text-align: right;\">\n",
       "      <th></th>\n",
       "      <th>precision</th>\n",
       "      <th>recall</th>\n",
       "      <th>f1-score</th>\n",
       "      <th>support</th>\n",
       "    </tr>\n",
       "  </thead>\n",
       "  <tbody>\n",
       "    <tr>\n",
       "      <th>Low</th>\n",
       "      <td>0.59</td>\n",
       "      <td>0.96</td>\n",
       "      <td>0.74</td>\n",
       "      <td>1342</td>\n",
       "    </tr>\n",
       "    <tr>\n",
       "      <th>Medium</th>\n",
       "      <td>0.25</td>\n",
       "      <td>0.02</td>\n",
       "      <td>0.04</td>\n",
       "      <td>667</td>\n",
       "    </tr>\n",
       "    <tr>\n",
       "      <th>High</th>\n",
       "      <td>0.00</td>\n",
       "      <td>0.00</td>\n",
       "      <td>0.00</td>\n",
       "      <td>241</td>\n",
       "    </tr>\n",
       "    <tr>\n",
       "      <th>accuracy</th>\n",
       "      <td>0.00</td>\n",
       "      <td>0.00</td>\n",
       "      <td>0.58</td>\n",
       "      <td>2250</td>\n",
       "    </tr>\n",
       "    <tr>\n",
       "      <th>macro avg</th>\n",
       "      <td>0.28</td>\n",
       "      <td>0.33</td>\n",
       "      <td>0.26</td>\n",
       "      <td>2250</td>\n",
       "    </tr>\n",
       "    <tr>\n",
       "      <th>weighted avg</th>\n",
       "      <td>0.43</td>\n",
       "      <td>0.58</td>\n",
       "      <td>0.45</td>\n",
       "      <td>2250</td>\n",
       "    </tr>\n",
       "  </tbody>\n",
       "</table>\n",
       "</div>"
      ]
     },
     "execution_count": 189,
     "metadata": {},
     "output_type": "execute_result"
    }
   ],
   "execution_count": 189
  },
  {
   "cell_type": "code",
   "id": "28607a65cd697cd0",
   "metadata": {
    "ExecuteTime": {
     "end_time": "2025-04-06T19:50:37.340793Z",
     "start_time": "2025-04-06T19:50:36.946354Z"
    }
   },
   "source": "generate_heatmap(cm_5_test, \"Confusion Matrix for Tree 5 - Test Data\")",
   "outputs": [
    {
     "data": {
      "text/plain": [
       "<Figure size 640x480 with 2 Axes>"
      ],
      "image/png": "[encoded data removed]"
     },
     "metadata": {},
     "output_type": "display_data"
    }
   ],
   "execution_count": 190
  },
  {
   "cell_type": "markdown",
   "id": "389aef26",
   "metadata": {},
   "source": [
    "## Part 2: Pruning Decision Tree"
   ]
  },
  {
   "cell_type": "markdown",
   "id": "035b0014",
   "metadata": {},
   "source": [
    "In this study, four decision trees (Tree 1 to Tree 4) were trained and evaluated using different preprocessing methods and hyperparameters. Tree 1 was trained on a dataset with missing values dropped, while Trees 2–4 were trained on a dataset with imputed (filled) values. Each model was evaluated using a test set both before (in Part 1) and after applying post-pruning, in order to measure its effect on overfitting and generalization performance.\n",
    "\n",
    "Tree 5 was excluded from pruning since it had the same structure and hyperparameters as Tree 4, except for using \"best\" instead of \"median\" as the split method. As it produced a nearly identical tree depth and predictions, pruning it was considered redundant.\n"
   ]
  },
  {
   "cell_type": "code",
   "id": "ca86f15a",
   "metadata": {
    "ExecuteTime": {
     "end_time": "2025-04-06T19:50:37.421868Z",
     "start_time": "2025-04-06T19:50:37.410985Z"
    }
   },
   "source": [
    "def prune_tree(model, node, x_val, y_val):\n",
    "\n",
    "    if node.is_leaf:\n",
    "        return\n",
    "\n",
    "    # Prune children first (bottom-up approach)\n",
    "    for key, child in node.children.items():\n",
    "        prune_tree(model, child, x_val, y_val)\n",
    "\n",
    "    # Predict before pruning\n",
    "    predictions_before = model.predict(x_val)\n",
    "    acc_before = np.mean(predictions_before == y_val)\n",
    "\n",
    "    # Try to convert this node into a leaf\n",
    "    original_children = node.children\n",
    "    original_is_leaf = node.is_leaf\n",
    "    original_feature = node.feature\n",
    "    original_threshold = node.threshold\n",
    "\n",
    "    node.children = {}\n",
    "    node.is_leaf = True\n",
    "    node.feature = None\n",
    "    node.threshold = None\n",
    "\n",
    "    # Predict after pruning\n",
    "    predictions_after = model.predict(x_val)\n",
    "    acc_after = np.mean(predictions_after == y_val)\n",
    "\n",
    "    # If accuracy didn’t improve, rollback pruning\n",
    "    if acc_after < acc_before:\n",
    "        node.children = original_children\n",
    "        node.is_leaf = original_is_leaf\n",
    "        node.feature = original_feature\n",
    "        node.threshold = original_threshold\n"
   ],
   "outputs": [],
   "execution_count": 191
  },
  {
   "cell_type": "markdown",
   "id": "80dbf8ba",
   "metadata": {},
   "source": [
    "Note: In the evaluation tables below, the “accuracy” row displays the actual accuracy value under the F1-score column, while precision and recall values appear as zero due to formatting limitations."
   ]
  },
  {
   "metadata": {},
   "cell_type": "markdown",
   "source": "#### Tree 1",
   "id": "85c9b05d"
  },
  {
   "metadata": {
    "ExecuteTime": {
     "end_time": "2025-04-06T19:50:37.736481Z",
     "start_time": "2025-04-06T19:50:37.627913Z"
    }
   },
   "cell_type": "code",
   "source": "tree1_clone = copy.deepcopy(id3_1)",
   "id": "50bb701d",
   "outputs": [],
   "execution_count": 192
  },
  {
   "cell_type": "code",
   "id": "4555e51b",
   "metadata": {
    "ExecuteTime": {
     "end_time": "2025-04-06T19:50:37.779795Z",
     "start_time": "2025-04-06T19:50:37.754272Z"
    }
   },
   "source": [
    "print(\"🔹 Tree 1 - Pre-Pruning\")\n",
    "compute_metrics(cm_1_test)"
   ],
   "outputs": [
    {
     "name": "stdout",
     "output_type": "stream",
     "text": [
      "🔹 Tree 1 - Pre-Pruning\n"
     ]
    },
    {
     "data": {
      "text/plain": [
       "              precision  recall  f1-score  support\n",
       "Low                0.63    0.87      0.73      527\n",
       "Medium             0.30    0.13      0.18      249\n",
       "High               0.10    0.02      0.04       81\n",
       "accuracy           0.00    0.00      0.57      857\n",
       "macro avg          0.34    0.34      0.32      857\n",
       "weighted avg       0.48    0.57      0.50      857"
      ],
      "text/html": [
       "<div>\n",
       "<style scoped>\n",
       "    .dataframe tbody tr th:only-of-type {\n",
       "        vertical-align: middle;\n",
       "    }\n",
       "\n",
       "    .dataframe tbody tr th {\n",
       "        vertical-align: top;\n",
       "    }\n",
       "\n",
       "    .dataframe thead th {\n",
       "        text-align: right;\n",
       "    }\n",
       "</style>\n",
       "<table border=\"1\" class=\"dataframe\">\n",
       "  <thead>\n",
       "    <tr style=\"text-align: right;\">\n",
       "      <th></th>\n",
       "      <th>precision</th>\n",
       "      <th>recall</th>\n",
       "      <th>f1-score</th>\n",
       "      <th>support</th>\n",
       "    </tr>\n",
       "  </thead>\n",
       "  <tbody>\n",
       "    <tr>\n",
       "      <th>Low</th>\n",
       "      <td>0.63</td>\n",
       "      <td>0.87</td>\n",
       "      <td>0.73</td>\n",
       "      <td>527</td>\n",
       "    </tr>\n",
       "    <tr>\n",
       "      <th>Medium</th>\n",
       "      <td>0.30</td>\n",
       "      <td>0.13</td>\n",
       "      <td>0.18</td>\n",
       "      <td>249</td>\n",
       "    </tr>\n",
       "    <tr>\n",
       "      <th>High</th>\n",
       "      <td>0.10</td>\n",
       "      <td>0.02</td>\n",
       "      <td>0.04</td>\n",
       "      <td>81</td>\n",
       "    </tr>\n",
       "    <tr>\n",
       "      <th>accuracy</th>\n",
       "      <td>0.00</td>\n",
       "      <td>0.00</td>\n",
       "      <td>0.57</td>\n",
       "      <td>857</td>\n",
       "    </tr>\n",
       "    <tr>\n",
       "      <th>macro avg</th>\n",
       "      <td>0.34</td>\n",
       "      <td>0.34</td>\n",
       "      <td>0.32</td>\n",
       "      <td>857</td>\n",
       "    </tr>\n",
       "    <tr>\n",
       "      <th>weighted avg</th>\n",
       "      <td>0.48</td>\n",
       "      <td>0.57</td>\n",
       "      <td>0.50</td>\n",
       "      <td>857</td>\n",
       "    </tr>\n",
       "  </tbody>\n",
       "</table>\n",
       "</div>"
      ]
     },
     "execution_count": 193,
     "metadata": {},
     "output_type": "execute_result"
    }
   ],
   "execution_count": 193
  },
  {
   "cell_type": "code",
   "id": "96d491af",
   "metadata": {
    "ExecuteTime": {
     "end_time": "2025-04-06T19:50:38.340119Z",
     "start_time": "2025-04-06T19:50:37.982099Z"
    }
   },
   "source": "generate_heatmap(cm_1_test, \"Confusion Matrix - Tree 1 Pre-Pruning\")",
   "outputs": [
    {
     "data": {
      "text/plain": [
       "<Figure size 640x480 with 2 Axes>"
      ],
      "image/png": "[encoded data removed]"
     },
     "metadata": {},
     "output_type": "display_data"
    }
   ],
   "execution_count": 194
  },
  {
   "cell_type": "code",
   "id": "5bad1cdf",
   "metadata": {
    "ExecuteTime": {
     "end_time": "2025-04-06T19:50:51.061171Z",
     "start_time": "2025-04-06T19:50:38.408918Z"
    }
   },
   "source": "prune_tree(tree1_clone, tree1_clone.tree, x_dropped_test, y_dropped_test)",
   "outputs": [],
   "execution_count": 195
  },
  {
   "cell_type": "code",
   "id": "9d34372d",
   "metadata": {
    "ExecuteTime": {
     "end_time": "2025-04-06T19:50:51.115346Z",
     "start_time": "2025-04-06T19:50:51.079550Z"
    }
   },
   "source": [
    "print(\"🔹 Tree 1 - Post-Pruning\")\n",
    "y_val_pred_after = tree1_clone.predict(x_dropped_test)\n",
    "cm_after = confusion_matrix(y_dropped_test, y_val_pred_after)\n",
    "display(compute_metrics(cm_after))"
   ],
   "outputs": [
    {
     "name": "stdout",
     "output_type": "stream",
     "text": [
      "🔹 Tree 1 - Post-Pruning\n"
     ]
    },
    {
     "data": {
      "text/plain": [
       "              precision  recall  f1-score  support\n",
       "Low                0.64    0.96      0.77      527\n",
       "Medium             0.58    0.14      0.22      249\n",
       "High               0.22    0.02      0.04       81\n",
       "accuracy           0.00    0.00      0.63      857\n",
       "macro avg          0.48    0.37      0.34      857\n",
       "weighted avg       0.58    0.63      0.54      857"
      ],
      "text/html": [
       "<div>\n",
       "<style scoped>\n",
       "    .dataframe tbody tr th:only-of-type {\n",
       "        vertical-align: middle;\n",
       "    }\n",
       "\n",
       "    .dataframe tbody tr th {\n",
       "        vertical-align: top;\n",
       "    }\n",
       "\n",
       "    .dataframe thead th {\n",
       "        text-align: right;\n",
       "    }\n",
       "</style>\n",
       "<table border=\"1\" class=\"dataframe\">\n",
       "  <thead>\n",
       "    <tr style=\"text-align: right;\">\n",
       "      <th></th>\n",
       "      <th>precision</th>\n",
       "      <th>recall</th>\n",
       "      <th>f1-score</th>\n",
       "      <th>support</th>\n",
       "    </tr>\n",
       "  </thead>\n",
       "  <tbody>\n",
       "    <tr>\n",
       "      <th>Low</th>\n",
       "      <td>0.64</td>\n",
       "      <td>0.96</td>\n",
       "      <td>0.77</td>\n",
       "      <td>527</td>\n",
       "    </tr>\n",
       "    <tr>\n",
       "      <th>Medium</th>\n",
       "      <td>0.58</td>\n",
       "      <td>0.14</td>\n",
       "      <td>0.22</td>\n",
       "      <td>249</td>\n",
       "    </tr>\n",
       "    <tr>\n",
       "      <th>High</th>\n",
       "      <td>0.22</td>\n",
       "      <td>0.02</td>\n",
       "      <td>0.04</td>\n",
       "      <td>81</td>\n",
       "    </tr>\n",
       "    <tr>\n",
       "      <th>accuracy</th>\n",
       "      <td>0.00</td>\n",
       "      <td>0.00</td>\n",
       "      <td>0.63</td>\n",
       "      <td>857</td>\n",
       "    </tr>\n",
       "    <tr>\n",
       "      <th>macro avg</th>\n",
       "      <td>0.48</td>\n",
       "      <td>0.37</td>\n",
       "      <td>0.34</td>\n",
       "      <td>857</td>\n",
       "    </tr>\n",
       "    <tr>\n",
       "      <th>weighted avg</th>\n",
       "      <td>0.58</td>\n",
       "      <td>0.63</td>\n",
       "      <td>0.54</td>\n",
       "      <td>857</td>\n",
       "    </tr>\n",
       "  </tbody>\n",
       "</table>\n",
       "</div>"
      ]
     },
     "metadata": {},
     "output_type": "display_data"
    }
   ],
   "execution_count": 196
  },
  {
   "cell_type": "code",
   "id": "38a5a545",
   "metadata": {
    "ExecuteTime": {
     "end_time": "2025-04-06T19:50:51.619664Z",
     "start_time": "2025-04-06T19:50:51.255786Z"
    }
   },
   "source": [
    "generate_heatmap(cm_after, \"Confusion Matrix - Tree 1 Post-Pruning\")"
   ],
   "outputs": [
    {
     "data": {
      "text/plain": [
       "<Figure size 640x480 with 2 Axes>"
      ],
      "image/png": "[encoded data removed]"
     },
     "metadata": {},
     "output_type": "display_data"
    }
   ],
   "execution_count": 197
  },
  {
   "cell_type": "markdown",
   "id": "4bf992ec",
   "metadata": {},
   "source": [
    "#### Tree 2"
   ]
  },
  {
   "cell_type": "code",
   "id": "81fc29d9",
   "metadata": {
    "ExecuteTime": {
     "end_time": "2025-04-06T19:50:52.159347Z",
     "start_time": "2025-04-06T19:50:51.895055Z"
    }
   },
   "source": "tree2_clone = copy.deepcopy(id3_2)",
   "outputs": [],
   "execution_count": 198
  },
  {
   "cell_type": "code",
   "id": "79d8d451",
   "metadata": {
    "ExecuteTime": {
     "end_time": "2025-04-06T19:50:52.201364Z",
     "start_time": "2025-04-06T19:50:52.176098Z"
    }
   },
   "source": [
    "print(\"🔹 Tree 2 - Pre-Pruning\")\n",
    "compute_metrics(cm_2_test)"
   ],
   "outputs": [
    {
     "name": "stdout",
     "output_type": "stream",
     "text": [
      "🔹 Tree 2 - Pre-Pruning\n"
     ]
    },
    {
     "data": {
      "text/plain": [
       "              precision  recall  f1-score  support\n",
       "Low                0.60    0.79      0.68     1342\n",
       "Medium             0.31    0.16      0.21      667\n",
       "High               0.12    0.07      0.09      241\n",
       "accuracy           0.00    0.00      0.53     2250\n",
       "macro avg          0.34    0.34      0.33     2250\n",
       "weighted avg       0.46    0.53      0.48     2250"
      ],
      "text/html": [
       "<div>\n",
       "<style scoped>\n",
       "    .dataframe tbody tr th:only-of-type {\n",
       "        vertical-align: middle;\n",
       "    }\n",
       "\n",
       "    .dataframe tbody tr th {\n",
       "        vertical-align: top;\n",
       "    }\n",
       "\n",
       "    .dataframe thead th {\n",
       "        text-align: right;\n",
       "    }\n",
       "</style>\n",
       "<table border=\"1\" class=\"dataframe\">\n",
       "  <thead>\n",
       "    <tr style=\"text-align: right;\">\n",
       "      <th></th>\n",
       "      <th>precision</th>\n",
       "      <th>recall</th>\n",
       "      <th>f1-score</th>\n",
       "      <th>support</th>\n",
       "    </tr>\n",
       "  </thead>\n",
       "  <tbody>\n",
       "    <tr>\n",
       "      <th>Low</th>\n",
       "      <td>0.60</td>\n",
       "      <td>0.79</td>\n",
       "      <td>0.68</td>\n",
       "      <td>1342</td>\n",
       "    </tr>\n",
       "    <tr>\n",
       "      <th>Medium</th>\n",
       "      <td>0.31</td>\n",
       "      <td>0.16</td>\n",
       "      <td>0.21</td>\n",
       "      <td>667</td>\n",
       "    </tr>\n",
       "    <tr>\n",
       "      <th>High</th>\n",
       "      <td>0.12</td>\n",
       "      <td>0.07</td>\n",
       "      <td>0.09</td>\n",
       "      <td>241</td>\n",
       "    </tr>\n",
       "    <tr>\n",
       "      <th>accuracy</th>\n",
       "      <td>0.00</td>\n",
       "      <td>0.00</td>\n",
       "      <td>0.53</td>\n",
       "      <td>2250</td>\n",
       "    </tr>\n",
       "    <tr>\n",
       "      <th>macro avg</th>\n",
       "      <td>0.34</td>\n",
       "      <td>0.34</td>\n",
       "      <td>0.33</td>\n",
       "      <td>2250</td>\n",
       "    </tr>\n",
       "    <tr>\n",
       "      <th>weighted avg</th>\n",
       "      <td>0.46</td>\n",
       "      <td>0.53</td>\n",
       "      <td>0.48</td>\n",
       "      <td>2250</td>\n",
       "    </tr>\n",
       "  </tbody>\n",
       "</table>\n",
       "</div>"
      ]
     },
     "execution_count": 199,
     "metadata": {},
     "output_type": "execute_result"
    }
   ],
   "execution_count": 199
  },
  {
   "cell_type": "code",
   "id": "649db8a1",
   "metadata": {
    "ExecuteTime": {
     "end_time": "2025-04-06T19:50:52.782507Z",
     "start_time": "2025-04-06T19:50:52.416266Z"
    }
   },
   "source": "generate_heatmap(cm_2_test, \"Confusion Matrix - Tree 2 Pre-Pruning\")",
   "outputs": [
    {
     "data": {
      "text/plain": [
       "<Figure size 640x480 with 2 Axes>"
      ],
      "image/png": "[encoded data removed]"
     },
     "metadata": {},
     "output_type": "display_data"
    }
   ],
   "execution_count": 200
  },
  {
   "cell_type": "code",
   "id": "db06b770",
   "metadata": {
    "ExecuteTime": {
     "end_time": "2025-04-06T19:52:40.957407Z",
     "start_time": "2025-04-06T19:50:52.867259Z"
    }
   },
   "source": "prune_tree(tree2_clone, tree2_clone.tree, x_filled_test, y_filled_test)",
   "outputs": [],
   "execution_count": 201
  },
  {
   "cell_type": "code",
   "id": "866d89b7",
   "metadata": {
    "ExecuteTime": {
     "end_time": "2025-04-06T19:52:41.216883Z",
     "start_time": "2025-04-06T19:52:41.150915Z"
    }
   },
   "source": [
    "print(\"🔹 Tree 2 - Post-Pruning\")\n",
    "y_val_pred_after = tree2_clone.predict(x_filled_test)\n",
    "cm_after = confusion_matrix(y_filled_test, y_val_pred_after)\n",
    "display(compute_metrics(cm_after))"
   ],
   "outputs": [
    {
     "name": "stdout",
     "output_type": "stream",
     "text": [
      "🔹 Tree 2 - Post-Pruning\n"
     ]
    },
    {
     "data": {
      "text/plain": [
       "              precision  recall  f1-score  support\n",
       "Low                0.62    0.98      0.76     1342\n",
       "Medium             0.72    0.11      0.19      667\n",
       "High               0.38    0.02      0.05      241\n",
       "accuracy           0.00    0.00      0.62     2250\n",
       "macro avg          0.57    0.37      0.33     2250\n",
       "weighted avg       0.62    0.62      0.51     2250"
      ],
      "text/html": [
       "<div>\n",
       "<style scoped>\n",
       "    .dataframe tbody tr th:only-of-type {\n",
       "        vertical-align: middle;\n",
       "    }\n",
       "\n",
       "    .dataframe tbody tr th {\n",
       "        vertical-align: top;\n",
       "    }\n",
       "\n",
       "    .dataframe thead th {\n",
       "        text-align: right;\n",
       "    }\n",
       "</style>\n",
       "<table border=\"1\" class=\"dataframe\">\n",
       "  <thead>\n",
       "    <tr style=\"text-align: right;\">\n",
       "      <th></th>\n",
       "      <th>precision</th>\n",
       "      <th>recall</th>\n",
       "      <th>f1-score</th>\n",
       "      <th>support</th>\n",
       "    </tr>\n",
       "  </thead>\n",
       "  <tbody>\n",
       "    <tr>\n",
       "      <th>Low</th>\n",
       "      <td>0.62</td>\n",
       "      <td>0.98</td>\n",
       "      <td>0.76</td>\n",
       "      <td>1342</td>\n",
       "    </tr>\n",
       "    <tr>\n",
       "      <th>Medium</th>\n",
       "      <td>0.72</td>\n",
       "      <td>0.11</td>\n",
       "      <td>0.19</td>\n",
       "      <td>667</td>\n",
       "    </tr>\n",
       "    <tr>\n",
       "      <th>High</th>\n",
       "      <td>0.38</td>\n",
       "      <td>0.02</td>\n",
       "      <td>0.05</td>\n",
       "      <td>241</td>\n",
       "    </tr>\n",
       "    <tr>\n",
       "      <th>accuracy</th>\n",
       "      <td>0.00</td>\n",
       "      <td>0.00</td>\n",
       "      <td>0.62</td>\n",
       "      <td>2250</td>\n",
       "    </tr>\n",
       "    <tr>\n",
       "      <th>macro avg</th>\n",
       "      <td>0.57</td>\n",
       "      <td>0.37</td>\n",
       "      <td>0.33</td>\n",
       "      <td>2250</td>\n",
       "    </tr>\n",
       "    <tr>\n",
       "      <th>weighted avg</th>\n",
       "      <td>0.62</td>\n",
       "      <td>0.62</td>\n",
       "      <td>0.51</td>\n",
       "      <td>2250</td>\n",
       "    </tr>\n",
       "  </tbody>\n",
       "</table>\n",
       "</div>"
      ]
     },
     "metadata": {},
     "output_type": "display_data"
    }
   ],
   "execution_count": 202
  },
  {
   "cell_type": "code",
   "id": "2cfe3dab",
   "metadata": {
    "ExecuteTime": {
     "end_time": "2025-04-06T19:52:41.701035Z",
     "start_time": "2025-04-06T19:52:41.321689Z"
    }
   },
   "source": [
    "generate_heatmap(cm_after, \"Confusion Matrix - Tree 2 Post-Pruning\")"
   ],
   "outputs": [
    {
     "data": {
      "text/plain": [
       "<Figure size 640x480 with 2 Axes>"
      ],
      "image/png": "[encoded data removed]"
     },
     "metadata": {},
     "output_type": "display_data"
    }
   ],
   "execution_count": 203
  },
  {
   "cell_type": "markdown",
   "id": "63c8187c",
   "metadata": {},
   "source": [
    "#### Tree 3"
   ]
  },
  {
   "cell_type": "code",
   "id": "6b75cc28",
   "metadata": {
    "ExecuteTime": {
     "end_time": "2025-04-06T19:52:42.029637Z",
     "start_time": "2025-04-06T19:52:41.854607Z"
    }
   },
   "source": "tree3_clone = copy.deepcopy(id3_3)",
   "outputs": [],
   "execution_count": 204
  },
  {
   "cell_type": "code",
   "id": "7f6aa8c7",
   "metadata": {
    "ExecuteTime": {
     "end_time": "2025-04-06T19:52:42.250472Z",
     "start_time": "2025-04-06T19:52:42.206478Z"
    }
   },
   "source": [
    "print(\"🔹 Tree 3 - Pre-Pruning\")\n",
    "compute_metrics(cm_3_test)"
   ],
   "outputs": [
    {
     "name": "stdout",
     "output_type": "stream",
     "text": [
      "🔹 Tree 3 - Pre-Pruning\n"
     ]
    },
    {
     "data": {
      "text/plain": [
       "              precision  recall  f1-score  support\n",
       "Low                0.59    0.93      0.73     1342\n",
       "Medium             0.21    0.02      0.04      667\n",
       "High               0.12    0.03      0.05      241\n",
       "accuracy           0.00    0.00      0.57     2250\n",
       "macro avg          0.31    0.33      0.27     2250\n",
       "weighted avg       0.43    0.57      0.45     2250"
      ],
      "text/html": [
       "<div>\n",
       "<style scoped>\n",
       "    .dataframe tbody tr th:only-of-type {\n",
       "        vertical-align: middle;\n",
       "    }\n",
       "\n",
       "    .dataframe tbody tr th {\n",
       "        vertical-align: top;\n",
       "    }\n",
       "\n",
       "    .dataframe thead th {\n",
       "        text-align: right;\n",
       "    }\n",
       "</style>\n",
       "<table border=\"1\" class=\"dataframe\">\n",
       "  <thead>\n",
       "    <tr style=\"text-align: right;\">\n",
       "      <th></th>\n",
       "      <th>precision</th>\n",
       "      <th>recall</th>\n",
       "      <th>f1-score</th>\n",
       "      <th>support</th>\n",
       "    </tr>\n",
       "  </thead>\n",
       "  <tbody>\n",
       "    <tr>\n",
       "      <th>Low</th>\n",
       "      <td>0.59</td>\n",
       "      <td>0.93</td>\n",
       "      <td>0.73</td>\n",
       "      <td>1342</td>\n",
       "    </tr>\n",
       "    <tr>\n",
       "      <th>Medium</th>\n",
       "      <td>0.21</td>\n",
       "      <td>0.02</td>\n",
       "      <td>0.04</td>\n",
       "      <td>667</td>\n",
       "    </tr>\n",
       "    <tr>\n",
       "      <th>High</th>\n",
       "      <td>0.12</td>\n",
       "      <td>0.03</td>\n",
       "      <td>0.05</td>\n",
       "      <td>241</td>\n",
       "    </tr>\n",
       "    <tr>\n",
       "      <th>accuracy</th>\n",
       "      <td>0.00</td>\n",
       "      <td>0.00</td>\n",
       "      <td>0.57</td>\n",
       "      <td>2250</td>\n",
       "    </tr>\n",
       "    <tr>\n",
       "      <th>macro avg</th>\n",
       "      <td>0.31</td>\n",
       "      <td>0.33</td>\n",
       "      <td>0.27</td>\n",
       "      <td>2250</td>\n",
       "    </tr>\n",
       "    <tr>\n",
       "      <th>weighted avg</th>\n",
       "      <td>0.43</td>\n",
       "      <td>0.57</td>\n",
       "      <td>0.45</td>\n",
       "      <td>2250</td>\n",
       "    </tr>\n",
       "  </tbody>\n",
       "</table>\n",
       "</div>"
      ]
     },
     "execution_count": 205,
     "metadata": {},
     "output_type": "execute_result"
    }
   ],
   "execution_count": 205
  },
  {
   "cell_type": "code",
   "id": "52dfbbf4",
   "metadata": {
    "ExecuteTime": {
     "end_time": "2025-04-06T19:52:43.218212Z",
     "start_time": "2025-04-06T19:52:42.870958Z"
    }
   },
   "source": "generate_heatmap(cm_3_test, \"Confusion Matrix - Tree 3 Pre-Pruning\")",
   "outputs": [
    {
     "data": {
      "text/plain": [
       "<Figure size 640x480 with 2 Axes>"
      ],
      "image/png": "[encoded data removed]"
     },
     "metadata": {},
     "output_type": "display_data"
    }
   ],
   "execution_count": 206
  },
  {
   "cell_type": "code",
   "id": "91bf52fb",
   "metadata": {
    "ExecuteTime": {
     "end_time": "2025-04-06T19:53:01.201806Z",
     "start_time": "2025-04-06T19:52:43.289812Z"
    }
   },
   "source": "prune_tree(tree3_clone, tree3_clone.tree, x_filled_test, y_filled_test)",
   "outputs": [],
   "execution_count": 207
  },
  {
   "cell_type": "code",
   "id": "530f09bf",
   "metadata": {
    "ExecuteTime": {
     "end_time": "2025-04-06T19:53:01.266801Z",
     "start_time": "2025-04-06T19:53:01.221962Z"
    }
   },
   "source": [
    "print(\"🔹 Tree 3 - Post-Pruning\")\n",
    "y_val_pred_after = tree3_clone.predict(x_filled_test)\n",
    "cm_after = confusion_matrix(y_filled_test, y_val_pred_after)\n",
    "display(compute_metrics(cm_after))"
   ],
   "outputs": [
    {
     "name": "stdout",
     "output_type": "stream",
     "text": [
      "🔹 Tree 3 - Post-Pruning\n"
     ]
    },
    {
     "data": {
      "text/plain": [
       "              precision  recall  f1-score  support\n",
       "Low                0.60    1.00      0.75     1342\n",
       "Medium             0.00    0.00      0.00      667\n",
       "High               0.00    0.00      0.00      241\n",
       "accuracy           0.00    0.00      0.60     2250\n",
       "macro avg          0.20    0.33      0.25     2250\n",
       "weighted avg       0.36    0.60      0.45     2250"
      ],
      "text/html": [
       "<div>\n",
       "<style scoped>\n",
       "    .dataframe tbody tr th:only-of-type {\n",
       "        vertical-align: middle;\n",
       "    }\n",
       "\n",
       "    .dataframe tbody tr th {\n",
       "        vertical-align: top;\n",
       "    }\n",
       "\n",
       "    .dataframe thead th {\n",
       "        text-align: right;\n",
       "    }\n",
       "</style>\n",
       "<table border=\"1\" class=\"dataframe\">\n",
       "  <thead>\n",
       "    <tr style=\"text-align: right;\">\n",
       "      <th></th>\n",
       "      <th>precision</th>\n",
       "      <th>recall</th>\n",
       "      <th>f1-score</th>\n",
       "      <th>support</th>\n",
       "    </tr>\n",
       "  </thead>\n",
       "  <tbody>\n",
       "    <tr>\n",
       "      <th>Low</th>\n",
       "      <td>0.60</td>\n",
       "      <td>1.00</td>\n",
       "      <td>0.75</td>\n",
       "      <td>1342</td>\n",
       "    </tr>\n",
       "    <tr>\n",
       "      <th>Medium</th>\n",
       "      <td>0.00</td>\n",
       "      <td>0.00</td>\n",
       "      <td>0.00</td>\n",
       "      <td>667</td>\n",
       "    </tr>\n",
       "    <tr>\n",
       "      <th>High</th>\n",
       "      <td>0.00</td>\n",
       "      <td>0.00</td>\n",
       "      <td>0.00</td>\n",
       "      <td>241</td>\n",
       "    </tr>\n",
       "    <tr>\n",
       "      <th>accuracy</th>\n",
       "      <td>0.00</td>\n",
       "      <td>0.00</td>\n",
       "      <td>0.60</td>\n",
       "      <td>2250</td>\n",
       "    </tr>\n",
       "    <tr>\n",
       "      <th>macro avg</th>\n",
       "      <td>0.20</td>\n",
       "      <td>0.33</td>\n",
       "      <td>0.25</td>\n",
       "      <td>2250</td>\n",
       "    </tr>\n",
       "    <tr>\n",
       "      <th>weighted avg</th>\n",
       "      <td>0.36</td>\n",
       "      <td>0.60</td>\n",
       "      <td>0.45</td>\n",
       "      <td>2250</td>\n",
       "    </tr>\n",
       "  </tbody>\n",
       "</table>\n",
       "</div>"
      ]
     },
     "metadata": {},
     "output_type": "display_data"
    }
   ],
   "execution_count": 208
  },
  {
   "cell_type": "code",
   "id": "87568b32",
   "metadata": {
    "ExecuteTime": {
     "end_time": "2025-04-06T19:53:02.005332Z",
     "start_time": "2025-04-06T19:53:01.595228Z"
    }
   },
   "source": [
    "generate_heatmap(cm_after, \"Confusion Matrix - Tree 3 Post-Pruning\")"
   ],
   "outputs": [
    {
     "data": {
      "text/plain": [
       "<Figure size 640x480 with 2 Axes>"
      ],
      "image/png": "[encoded data removed]"
     },
     "metadata": {},
     "output_type": "display_data"
    }
   ],
   "execution_count": 209
  },
  {
   "cell_type": "markdown",
   "id": "ac607163",
   "metadata": {},
   "source": [
    "#### Tree 4"
   ]
  },
  {
   "cell_type": "code",
   "id": "a37937b6",
   "metadata": {
    "ExecuteTime": {
     "end_time": "2025-04-06T19:53:02.199064Z",
     "start_time": "2025-04-06T19:53:02.024252Z"
    }
   },
   "source": "tree4_clone = copy.deepcopy(id3_4)",
   "outputs": [],
   "execution_count": 210
  },
  {
   "cell_type": "code",
   "id": "5b8681b1",
   "metadata": {
    "ExecuteTime": {
     "end_time": "2025-04-06T19:53:02.382014Z",
     "start_time": "2025-04-06T19:53:02.358131Z"
    }
   },
   "source": [
    "print(\"🔹 Tree 4 - Pre-Pruning\")\n",
    "compute_metrics(cm_4_test)"
   ],
   "outputs": [
    {
     "name": "stdout",
     "output_type": "stream",
     "text": [
      "🔹 Tree 4 - Pre-Pruning\n"
     ]
    },
    {
     "data": {
      "text/plain": [
       "              precision  recall  f1-score  support\n",
       "Low                0.59    0.96      0.74     1342\n",
       "Medium             0.25    0.02      0.04      667\n",
       "High               0.00    0.00      0.00      241\n",
       "accuracy           0.00    0.00      0.58     2250\n",
       "macro avg          0.28    0.33      0.26     2250\n",
       "weighted avg       0.43    0.58      0.45     2250"
      ],
      "text/html": [
       "<div>\n",
       "<style scoped>\n",
       "    .dataframe tbody tr th:only-of-type {\n",
       "        vertical-align: middle;\n",
       "    }\n",
       "\n",
       "    .dataframe tbody tr th {\n",
       "        vertical-align: top;\n",
       "    }\n",
       "\n",
       "    .dataframe thead th {\n",
       "        text-align: right;\n",
       "    }\n",
       "</style>\n",
       "<table border=\"1\" class=\"dataframe\">\n",
       "  <thead>\n",
       "    <tr style=\"text-align: right;\">\n",
       "      <th></th>\n",
       "      <th>precision</th>\n",
       "      <th>recall</th>\n",
       "      <th>f1-score</th>\n",
       "      <th>support</th>\n",
       "    </tr>\n",
       "  </thead>\n",
       "  <tbody>\n",
       "    <tr>\n",
       "      <th>Low</th>\n",
       "      <td>0.59</td>\n",
       "      <td>0.96</td>\n",
       "      <td>0.74</td>\n",
       "      <td>1342</td>\n",
       "    </tr>\n",
       "    <tr>\n",
       "      <th>Medium</th>\n",
       "      <td>0.25</td>\n",
       "      <td>0.02</td>\n",
       "      <td>0.04</td>\n",
       "      <td>667</td>\n",
       "    </tr>\n",
       "    <tr>\n",
       "      <th>High</th>\n",
       "      <td>0.00</td>\n",
       "      <td>0.00</td>\n",
       "      <td>0.00</td>\n",
       "      <td>241</td>\n",
       "    </tr>\n",
       "    <tr>\n",
       "      <th>accuracy</th>\n",
       "      <td>0.00</td>\n",
       "      <td>0.00</td>\n",
       "      <td>0.58</td>\n",
       "      <td>2250</td>\n",
       "    </tr>\n",
       "    <tr>\n",
       "      <th>macro avg</th>\n",
       "      <td>0.28</td>\n",
       "      <td>0.33</td>\n",
       "      <td>0.26</td>\n",
       "      <td>2250</td>\n",
       "    </tr>\n",
       "    <tr>\n",
       "      <th>weighted avg</th>\n",
       "      <td>0.43</td>\n",
       "      <td>0.58</td>\n",
       "      <td>0.45</td>\n",
       "      <td>2250</td>\n",
       "    </tr>\n",
       "  </tbody>\n",
       "</table>\n",
       "</div>"
      ]
     },
     "execution_count": 211,
     "metadata": {},
     "output_type": "execute_result"
    }
   ],
   "execution_count": 211
  },
  {
   "cell_type": "code",
   "id": "48fbe546",
   "metadata": {
    "ExecuteTime": {
     "end_time": "2025-04-06T19:53:02.998407Z",
     "start_time": "2025-04-06T19:53:02.633119Z"
    }
   },
   "source": "generate_heatmap(cm_4_test, \"Confusion Matrix - Tree 4 Pre-Pruning\")",
   "outputs": [
    {
     "data": {
      "text/plain": [
       "<Figure size 640x480 with 2 Axes>"
      ],
      "image/png": "[encoded data removed]"
     },
     "metadata": {},
     "output_type": "display_data"
    }
   ],
   "execution_count": 212
  },
  {
   "cell_type": "code",
   "id": "ae57ebc8",
   "metadata": {
    "ExecuteTime": {
     "end_time": "2025-04-06T19:53:19.611832Z",
     "start_time": "2025-04-06T19:53:03.077228Z"
    }
   },
   "source": "prune_tree(tree4_clone, tree4_clone.tree, x_filled_test, y_filled_test)",
   "outputs": [],
   "execution_count": 213
  },
  {
   "cell_type": "code",
   "id": "b9eac2ea",
   "metadata": {
    "ExecuteTime": {
     "end_time": "2025-04-06T19:53:19.681560Z",
     "start_time": "2025-04-06T19:53:19.627114Z"
    }
   },
   "source": [
    "print(\"🔹 Tree 4 - Post-Pruning\")\n",
    "y_val_pred_after = tree4_clone.predict(x_filled_test)\n",
    "cm_after = confusion_matrix(y_filled_test, y_val_pred_after)\n",
    "display(compute_metrics(cm_after))"
   ],
   "outputs": [
    {
     "name": "stdout",
     "output_type": "stream",
     "text": [
      "🔹 Tree 4 - Post-Pruning\n"
     ]
    },
    {
     "data": {
      "text/plain": [
       "              precision  recall  f1-score  support\n",
       "Low                0.60    1.00      0.75     1342\n",
       "Medium             0.00    0.00      0.00      667\n",
       "High               0.00    0.00      0.00      241\n",
       "accuracy           0.00    0.00      0.60     2250\n",
       "macro avg          0.20    0.33      0.25     2250\n",
       "weighted avg       0.36    0.60      0.45     2250"
      ],
      "text/html": [
       "<div>\n",
       "<style scoped>\n",
       "    .dataframe tbody tr th:only-of-type {\n",
       "        vertical-align: middle;\n",
       "    }\n",
       "\n",
       "    .dataframe tbody tr th {\n",
       "        vertical-align: top;\n",
       "    }\n",
       "\n",
       "    .dataframe thead th {\n",
       "        text-align: right;\n",
       "    }\n",
       "</style>\n",
       "<table border=\"1\" class=\"dataframe\">\n",
       "  <thead>\n",
       "    <tr style=\"text-align: right;\">\n",
       "      <th></th>\n",
       "      <th>precision</th>\n",
       "      <th>recall</th>\n",
       "      <th>f1-score</th>\n",
       "      <th>support</th>\n",
       "    </tr>\n",
       "  </thead>\n",
       "  <tbody>\n",
       "    <tr>\n",
       "      <th>Low</th>\n",
       "      <td>0.60</td>\n",
       "      <td>1.00</td>\n",
       "      <td>0.75</td>\n",
       "      <td>1342</td>\n",
       "    </tr>\n",
       "    <tr>\n",
       "      <th>Medium</th>\n",
       "      <td>0.00</td>\n",
       "      <td>0.00</td>\n",
       "      <td>0.00</td>\n",
       "      <td>667</td>\n",
       "    </tr>\n",
       "    <tr>\n",
       "      <th>High</th>\n",
       "      <td>0.00</td>\n",
       "      <td>0.00</td>\n",
       "      <td>0.00</td>\n",
       "      <td>241</td>\n",
       "    </tr>\n",
       "    <tr>\n",
       "      <th>accuracy</th>\n",
       "      <td>0.00</td>\n",
       "      <td>0.00</td>\n",
       "      <td>0.60</td>\n",
       "      <td>2250</td>\n",
       "    </tr>\n",
       "    <tr>\n",
       "      <th>macro avg</th>\n",
       "      <td>0.20</td>\n",
       "      <td>0.33</td>\n",
       "      <td>0.25</td>\n",
       "      <td>2250</td>\n",
       "    </tr>\n",
       "    <tr>\n",
       "      <th>weighted avg</th>\n",
       "      <td>0.36</td>\n",
       "      <td>0.60</td>\n",
       "      <td>0.45</td>\n",
       "      <td>2250</td>\n",
       "    </tr>\n",
       "  </tbody>\n",
       "</table>\n",
       "</div>"
      ]
     },
     "metadata": {},
     "output_type": "display_data"
    }
   ],
   "execution_count": 214
  },
  {
   "metadata": {
    "ExecuteTime": {
     "end_time": "2025-04-06T19:53:20.301424Z",
     "start_time": "2025-04-06T19:53:19.874686Z"
    }
   },
   "cell_type": "code",
   "source": "generate_heatmap(cm_after, \"Confusion Matrix - Tree 4 Post-Pruning\")",
   "id": "a395d329",
   "outputs": [
    {
     "data": {
      "text/plain": [
       "<Figure size 640x480 with 2 Axes>"
      ],
      "image/png": "[encoded data removed]"
     },
     "metadata": {},
     "output_type": "display_data"
    }
   ],
   "execution_count": 215
  },
  {
   "cell_type": "markdown",
   "id": "03ba9fac",
   "metadata": {},
   "source": [
    "## Conclusion"
   ]
  },
  {
   "cell_type": "markdown",
   "id": "7b882a33",
   "metadata": {},
   "source": [
    " Part 1 models were one hundred percent correct on the training set and poor performance relatively speaking on the test set with large bias to guess the most frequent \"Low\" class. This class imbalance resulted in poor generalization for the \"Medium\" and \"High\" classes, i.e., overfitting to the training set.\n",
    "\n",
    "After pruning in Part 2, models were much less complex and tended to predict the \"Low\" class more often, leading to lower performance on minority classes. Pruning did decrease model complexity and avoid overfitting but also led to a decrease in overall class-wise performance, especially for infrequent classes. This suggests that pruning, while decreasing the model's complexity, decreased its discriminative capacity between classes.\n",
    "\n",
    "The results reveal that Tree 1, trained on the \"dropped\" set, maintained the maximum after-pruning accuracy (0.63) but relatively poor F1-score (0.34), indicating while it was quite good at whatever it did, it could still not do enough with the minority classes. Tree 3, trained on the \"filled\" set, was most uniform before pruning with more stable recall and precision per class but had a sharp F1-score drop-off after pruning. Tree 4, with stricter hyperparameters (higher min_samples_split and min_samples_leaf), was already less specific and experienced less of a performance drop-off after pruning, suggesting it was less prone to overfitting.\n",
    "\n",
    "Decreases in the F1-scores of all the models along with reductions in their confusion matrices indicate the extent to which overfitting is reduced through pruning but simultaneously show class-wise versus overall model complexity trading-off against class-wise predictions. Macro-average measures are necessary so that all the classes are tried with equal strengths regardless of imbalanced classes."
   ]
  },
  {
   "cell_type": "code",
   "id": "12600f6e",
   "metadata": {
    "ExecuteTime": {
     "end_time": "2025-04-06T19:53:20.663434Z",
     "start_time": "2025-04-06T19:53:20.627669Z"
    }
   },
   "source": [
    "print(\"Accuracy Comparison Across Trees\")\n",
    "\n",
    "data = {\n",
    "    \"Tree\": [\"Tree 1\", \"Tree 2\", \"Tree 3\", \"Tree 4\"],\n",
    "    \"Dataset\": [\"dropped\", \"filled\", \"filled\", \"filled\"],\n",
    "    \"Train Accuracy\": [1.00, 1.00, 0.66, 0.62],       # Part 1 Train\n",
    "    \"Test Accuracy\": [0.57, 0.53, 0.57, 0.58],        # Part 1 Test\n",
    "    \"Test Accuracy (Pruned)\": [0.63, 0.62, 0.60, 0.60],   # Part 2 Post-Pruning\n",
    "}\n",
    "\n",
    "df = pd.DataFrame(data)\n",
    "\n",
    "display(df)\n"
   ],
   "outputs": [
    {
     "name": "stdout",
     "output_type": "stream",
     "text": [
      "Accuracy Comparison Across Trees\n"
     ]
    },
    {
     "data": {
      "text/plain": [
       "     Tree  Dataset  Train Accuracy  Test Accuracy  Test Accuracy (Pruned)\n",
       "0  Tree 1  dropped            1.00           0.57                    0.63\n",
       "1  Tree 2   filled            1.00           0.53                    0.62\n",
       "2  Tree 3   filled            0.66           0.57                    0.60\n",
       "3  Tree 4   filled            0.62           0.58                    0.60"
      ],
      "text/html": [
       "<div>\n",
       "<style scoped>\n",
       "    .dataframe tbody tr th:only-of-type {\n",
       "        vertical-align: middle;\n",
       "    }\n",
       "\n",
       "    .dataframe tbody tr th {\n",
       "        vertical-align: top;\n",
       "    }\n",
       "\n",
       "    .dataframe thead th {\n",
       "        text-align: right;\n",
       "    }\n",
       "</style>\n",
       "<table border=\"1\" class=\"dataframe\">\n",
       "  <thead>\n",
       "    <tr style=\"text-align: right;\">\n",
       "      <th></th>\n",
       "      <th>Tree</th>\n",
       "      <th>Dataset</th>\n",
       "      <th>Train Accuracy</th>\n",
       "      <th>Test Accuracy</th>\n",
       "      <th>Test Accuracy (Pruned)</th>\n",
       "    </tr>\n",
       "  </thead>\n",
       "  <tbody>\n",
       "    <tr>\n",
       "      <th>0</th>\n",
       "      <td>Tree 1</td>\n",
       "      <td>dropped</td>\n",
       "      <td>1.00</td>\n",
       "      <td>0.57</td>\n",
       "      <td>0.63</td>\n",
       "    </tr>\n",
       "    <tr>\n",
       "      <th>1</th>\n",
       "      <td>Tree 2</td>\n",
       "      <td>filled</td>\n",
       "      <td>1.00</td>\n",
       "      <td>0.53</td>\n",
       "      <td>0.62</td>\n",
       "    </tr>\n",
       "    <tr>\n",
       "      <th>2</th>\n",
       "      <td>Tree 3</td>\n",
       "      <td>filled</td>\n",
       "      <td>0.66</td>\n",
       "      <td>0.57</td>\n",
       "      <td>0.60</td>\n",
       "    </tr>\n",
       "    <tr>\n",
       "      <th>3</th>\n",
       "      <td>Tree 4</td>\n",
       "      <td>filled</td>\n",
       "      <td>0.62</td>\n",
       "      <td>0.58</td>\n",
       "      <td>0.60</td>\n",
       "    </tr>\n",
       "  </tbody>\n",
       "</table>\n",
       "</div>"
      ]
     },
     "metadata": {},
     "output_type": "display_data"
    }
   ],
   "execution_count": 216
  },
  {
   "metadata": {
    "ExecuteTime": {
     "end_time": "2025-04-06T19:53:20.812185Z",
     "start_time": "2025-04-06T19:53:20.781593Z"
    }
   },
   "cell_type": "code",
   "source": [
    "print(\"Macro F1 Comparison Across Trees\")\n",
    "\n",
    "data = {\n",
    "    \"Tree\": [\"Tree 1\", \"Tree 2\", \"Tree 3\", \"Tree 4\"],\n",
    "    \"Dataset\": [\"dropped\", \"filled\", \"filled\", \"filled\"],\n",
    "    \"Train F1\": [1.00, 1.00, 0.52, 0.36],       # Part 1 Train\n",
    "    \"Test F1\": [0.32, 0.33, 0.27, 0.26],        # Part 1 Test\n",
    "    \"Test F1 (Pruned)\": [0.34, 0.33, 0.25, 0.25],   # Part 2 Post-Pruning\n",
    "}\n",
    "\n",
    "df = pd.DataFrame(data)\n",
    "\n",
    "display(df)"
   ],
   "id": "ee369e4be1bb32ca",
   "outputs": [
    {
     "name": "stdout",
     "output_type": "stream",
     "text": [
      "Macro F1 Comparison Across Trees\n"
     ]
    },
    {
     "data": {
      "text/plain": [
       "     Tree  Dataset  Train F1  Test F1  Test F1 (Pruned)\n",
       "0  Tree 1  dropped      1.00     0.32              0.34\n",
       "1  Tree 2   filled      1.00     0.33              0.33\n",
       "2  Tree 3   filled      0.52     0.27              0.25\n",
       "3  Tree 4   filled      0.36     0.26              0.25"
      ],
      "text/html": [
       "<div>\n",
       "<style scoped>\n",
       "    .dataframe tbody tr th:only-of-type {\n",
       "        vertical-align: middle;\n",
       "    }\n",
       "\n",
       "    .dataframe tbody tr th {\n",
       "        vertical-align: top;\n",
       "    }\n",
       "\n",
       "    .dataframe thead th {\n",
       "        text-align: right;\n",
       "    }\n",
       "</style>\n",
       "<table border=\"1\" class=\"dataframe\">\n",
       "  <thead>\n",
       "    <tr style=\"text-align: right;\">\n",
       "      <th></th>\n",
       "      <th>Tree</th>\n",
       "      <th>Dataset</th>\n",
       "      <th>Train F1</th>\n",
       "      <th>Test F1</th>\n",
       "      <th>Test F1 (Pruned)</th>\n",
       "    </tr>\n",
       "  </thead>\n",
       "  <tbody>\n",
       "    <tr>\n",
       "      <th>0</th>\n",
       "      <td>Tree 1</td>\n",
       "      <td>dropped</td>\n",
       "      <td>1.00</td>\n",
       "      <td>0.32</td>\n",
       "      <td>0.34</td>\n",
       "    </tr>\n",
       "    <tr>\n",
       "      <th>1</th>\n",
       "      <td>Tree 2</td>\n",
       "      <td>filled</td>\n",
       "      <td>1.00</td>\n",
       "      <td>0.33</td>\n",
       "      <td>0.33</td>\n",
       "    </tr>\n",
       "    <tr>\n",
       "      <th>2</th>\n",
       "      <td>Tree 3</td>\n",
       "      <td>filled</td>\n",
       "      <td>0.52</td>\n",
       "      <td>0.27</td>\n",
       "      <td>0.25</td>\n",
       "    </tr>\n",
       "    <tr>\n",
       "      <th>3</th>\n",
       "      <td>Tree 4</td>\n",
       "      <td>filled</td>\n",
       "      <td>0.36</td>\n",
       "      <td>0.26</td>\n",
       "      <td>0.25</td>\n",
       "    </tr>\n",
       "  </tbody>\n",
       "</table>\n",
       "</div>"
      ]
     },
     "metadata": {},
     "output_type": "display_data"
    }
   ],
   "execution_count": 217
  },
  {
   "metadata": {},
   "cell_type": "markdown",
   "source": "### Comparisions between Pre-Prune and Post-Prune Tree 1",
   "id": "f50e6d1b5a280783"
  },
  {
   "metadata": {},
   "cell_type": "markdown",
   "source": "Based on the accuracy and F1 scores, we've decided to choose Pruned Tree 1 with the dataset \"dropped\" as our best tree with the accuracy value of 0.63 and macro F1 value of 0.34.",
   "id": "bb48b54b5a1d365"
  },
  {
   "metadata": {
    "ExecuteTime": {
     "end_time": "2025-04-06T19:53:21.020405Z",
     "start_time": "2025-04-06T19:53:20.998522Z"
    }
   },
   "cell_type": "code",
   "source": [
    "print(\"Accuracy Comparison Pre-Prune Tree 1 vs Post-Prune Tree 1\")\n",
    "\n",
    "data = {\n",
    "    \"Tree\": [\"Pre-Prune\", \"Post-Prune\"],\n",
    "    \"Train Accuracy\": [1.00, 0.63],\n",
    "    \"Test Accuracy\": [0.57, 0.63],\n",
    "    \"Validation Accuracy\": [0.56, 0.59],\n",
    "}\n",
    "\n",
    "df = pd.DataFrame(data)\n",
    "\n",
    "display(df)"
   ],
   "id": "af68e858c0705723",
   "outputs": [
    {
     "name": "stdout",
     "output_type": "stream",
     "text": [
      "Accuracy Comparison Pre-Prune Tree 1 vs Post-Prune Tree 1\n"
     ]
    },
    {
     "data": {
      "text/plain": [
       "         Tree  Train Accuracy  Test Accuracy  Validation Accuracy\n",
       "0   Pre-Prune            1.00           0.57                 0.56\n",
       "1  Post-Prune            0.63           0.63                 0.59"
      ],
      "text/html": [
       "<div>\n",
       "<style scoped>\n",
       "    .dataframe tbody tr th:only-of-type {\n",
       "        vertical-align: middle;\n",
       "    }\n",
       "\n",
       "    .dataframe tbody tr th {\n",
       "        vertical-align: top;\n",
       "    }\n",
       "\n",
       "    .dataframe thead th {\n",
       "        text-align: right;\n",
       "    }\n",
       "</style>\n",
       "<table border=\"1\" class=\"dataframe\">\n",
       "  <thead>\n",
       "    <tr style=\"text-align: right;\">\n",
       "      <th></th>\n",
       "      <th>Tree</th>\n",
       "      <th>Train Accuracy</th>\n",
       "      <th>Test Accuracy</th>\n",
       "      <th>Validation Accuracy</th>\n",
       "    </tr>\n",
       "  </thead>\n",
       "  <tbody>\n",
       "    <tr>\n",
       "      <th>0</th>\n",
       "      <td>Pre-Prune</td>\n",
       "      <td>1.00</td>\n",
       "      <td>0.57</td>\n",
       "      <td>0.56</td>\n",
       "    </tr>\n",
       "    <tr>\n",
       "      <th>1</th>\n",
       "      <td>Post-Prune</td>\n",
       "      <td>0.63</td>\n",
       "      <td>0.63</td>\n",
       "      <td>0.59</td>\n",
       "    </tr>\n",
       "  </tbody>\n",
       "</table>\n",
       "</div>"
      ]
     },
     "metadata": {},
     "output_type": "display_data"
    }
   ],
   "execution_count": 218
  },
  {
   "metadata": {
    "ExecuteTime": {
     "end_time": "2025-04-06T19:53:21.361847Z",
     "start_time": "2025-04-06T19:53:21.340525Z"
    }
   },
   "cell_type": "code",
   "source": [
    "print(\"F1 Comparison Pre-Prune Tree 1 vs Post-Prune Tree 1\")\n",
    "\n",
    "data = {\n",
    "    \"Tree\": [\"Pre-Prune\", \"Post-Prune\"],\n",
    "    \"Train F1\": [1.00, 0.39],\n",
    "    \"Test F1\": [0.32, 0.34],\n",
    "    \"Validation F1\": [0.32, 0.29],\n",
    "}\n",
    "\n",
    "df = pd.DataFrame(data)\n",
    "\n",
    "display(df)"
   ],
   "id": "8be4add53b948b77",
   "outputs": [
    {
     "name": "stdout",
     "output_type": "stream",
     "text": [
      "F1 Comparison Pre-Prune Tree 1 vs Post-Prune Tree 1\n"
     ]
    },
    {
     "data": {
      "text/plain": [
       "         Tree  Train F1  Test F1  Validation F1\n",
       "0   Pre-Prune      1.00     0.32           0.32\n",
       "1  Post-Prune      0.39     0.34           0.29"
      ],
      "text/html": [
       "<div>\n",
       "<style scoped>\n",
       "    .dataframe tbody tr th:only-of-type {\n",
       "        vertical-align: middle;\n",
       "    }\n",
       "\n",
       "    .dataframe tbody tr th {\n",
       "        vertical-align: top;\n",
       "    }\n",
       "\n",
       "    .dataframe thead th {\n",
       "        text-align: right;\n",
       "    }\n",
       "</style>\n",
       "<table border=\"1\" class=\"dataframe\">\n",
       "  <thead>\n",
       "    <tr style=\"text-align: right;\">\n",
       "      <th></th>\n",
       "      <th>Tree</th>\n",
       "      <th>Train F1</th>\n",
       "      <th>Test F1</th>\n",
       "      <th>Validation F1</th>\n",
       "    </tr>\n",
       "  </thead>\n",
       "  <tbody>\n",
       "    <tr>\n",
       "      <th>0</th>\n",
       "      <td>Pre-Prune</td>\n",
       "      <td>1.00</td>\n",
       "      <td>0.32</td>\n",
       "      <td>0.32</td>\n",
       "    </tr>\n",
       "    <tr>\n",
       "      <th>1</th>\n",
       "      <td>Post-Prune</td>\n",
       "      <td>0.39</td>\n",
       "      <td>0.34</td>\n",
       "      <td>0.29</td>\n",
       "    </tr>\n",
       "  </tbody>\n",
       "</table>\n",
       "</div>"
      ]
     },
     "metadata": {},
     "output_type": "display_data"
    }
   ],
   "execution_count": 219
  },
  {
   "metadata": {
    "ExecuteTime": {
     "end_time": "2025-04-06T19:53:21.864380Z",
     "start_time": "2025-04-06T19:53:21.695765Z"
    }
   },
   "cell_type": "code",
   "source": [
    "print(\"Pre-Prune Train Accuracy\")\n",
    "y_preprune_train = id3_1.predict(x_dropped_train)\n",
    "cm_preprune_train = confusion_matrix(y_dropped_train, y_preprune_train)\n",
    "compute_metrics(cm_preprune_train)"
   ],
   "id": "9de35d01db36855",
   "outputs": [
    {
     "name": "stdout",
     "output_type": "stream",
     "text": [
      "Pre-Prune Train Accuracy\n"
     ]
    },
    {
     "data": {
      "text/plain": [
       "              precision  recall  f1-score  support\n",
       "Low                 1.0     1.0       1.0     2378\n",
       "Medium              1.0     1.0       1.0     1221\n",
       "High                1.0     1.0       1.0      402\n",
       "accuracy            0.0     0.0       1.0     4001\n",
       "macro avg           1.0     1.0       1.0     4001\n",
       "weighted avg        1.0     1.0       1.0     4001"
      ],
      "text/html": [
       "<div>\n",
       "<style scoped>\n",
       "    .dataframe tbody tr th:only-of-type {\n",
       "        vertical-align: middle;\n",
       "    }\n",
       "\n",
       "    .dataframe tbody tr th {\n",
       "        vertical-align: top;\n",
       "    }\n",
       "\n",
       "    .dataframe thead th {\n",
       "        text-align: right;\n",
       "    }\n",
       "</style>\n",
       "<table border=\"1\" class=\"dataframe\">\n",
       "  <thead>\n",
       "    <tr style=\"text-align: right;\">\n",
       "      <th></th>\n",
       "      <th>precision</th>\n",
       "      <th>recall</th>\n",
       "      <th>f1-score</th>\n",
       "      <th>support</th>\n",
       "    </tr>\n",
       "  </thead>\n",
       "  <tbody>\n",
       "    <tr>\n",
       "      <th>Low</th>\n",
       "      <td>1.0</td>\n",
       "      <td>1.0</td>\n",
       "      <td>1.0</td>\n",
       "      <td>2378</td>\n",
       "    </tr>\n",
       "    <tr>\n",
       "      <th>Medium</th>\n",
       "      <td>1.0</td>\n",
       "      <td>1.0</td>\n",
       "      <td>1.0</td>\n",
       "      <td>1221</td>\n",
       "    </tr>\n",
       "    <tr>\n",
       "      <th>High</th>\n",
       "      <td>1.0</td>\n",
       "      <td>1.0</td>\n",
       "      <td>1.0</td>\n",
       "      <td>402</td>\n",
       "    </tr>\n",
       "    <tr>\n",
       "      <th>accuracy</th>\n",
       "      <td>0.0</td>\n",
       "      <td>0.0</td>\n",
       "      <td>1.0</td>\n",
       "      <td>4001</td>\n",
       "    </tr>\n",
       "    <tr>\n",
       "      <th>macro avg</th>\n",
       "      <td>1.0</td>\n",
       "      <td>1.0</td>\n",
       "      <td>1.0</td>\n",
       "      <td>4001</td>\n",
       "    </tr>\n",
       "    <tr>\n",
       "      <th>weighted avg</th>\n",
       "      <td>1.0</td>\n",
       "      <td>1.0</td>\n",
       "      <td>1.0</td>\n",
       "      <td>4001</td>\n",
       "    </tr>\n",
       "  </tbody>\n",
       "</table>\n",
       "</div>"
      ]
     },
     "execution_count": 220,
     "metadata": {},
     "output_type": "execute_result"
    }
   ],
   "execution_count": 220
  },
  {
   "metadata": {
    "ExecuteTime": {
     "end_time": "2025-04-06T19:53:22.270525Z",
     "start_time": "2025-04-06T19:53:22.160120Z"
    }
   },
   "cell_type": "code",
   "source": [
    "print(\"Post-Prune Train Accuracy\")\n",
    "y_postprune_train = tree1_clone.predict(x_dropped_train)\n",
    "cm_postprune_train = confusion_matrix(y_dropped_train, y_postprune_train)\n",
    "compute_metrics(cm_postprune_train)"
   ],
   "id": "5f95f8c19bfcfa65",
   "outputs": [
    {
     "name": "stdout",
     "output_type": "stream",
     "text": [
      "Post-Prune Train Accuracy\n"
     ]
    },
    {
     "data": {
      "text/plain": [
       "              precision  recall  f1-score  support\n",
       "Low                0.62    0.97      0.76     2378\n",
       "Medium             0.66    0.15      0.24     1221\n",
       "High               0.79    0.08      0.15      402\n",
       "accuracy           0.00    0.00      0.63     4001\n",
       "macro avg          0.69    0.40      0.39     4001\n",
       "weighted avg       0.65    0.63      0.54     4001"
      ],
      "text/html": [
       "<div>\n",
       "<style scoped>\n",
       "    .dataframe tbody tr th:only-of-type {\n",
       "        vertical-align: middle;\n",
       "    }\n",
       "\n",
       "    .dataframe tbody tr th {\n",
       "        vertical-align: top;\n",
       "    }\n",
       "\n",
       "    .dataframe thead th {\n",
       "        text-align: right;\n",
       "    }\n",
       "</style>\n",
       "<table border=\"1\" class=\"dataframe\">\n",
       "  <thead>\n",
       "    <tr style=\"text-align: right;\">\n",
       "      <th></th>\n",
       "      <th>precision</th>\n",
       "      <th>recall</th>\n",
       "      <th>f1-score</th>\n",
       "      <th>support</th>\n",
       "    </tr>\n",
       "  </thead>\n",
       "  <tbody>\n",
       "    <tr>\n",
       "      <th>Low</th>\n",
       "      <td>0.62</td>\n",
       "      <td>0.97</td>\n",
       "      <td>0.76</td>\n",
       "      <td>2378</td>\n",
       "    </tr>\n",
       "    <tr>\n",
       "      <th>Medium</th>\n",
       "      <td>0.66</td>\n",
       "      <td>0.15</td>\n",
       "      <td>0.24</td>\n",
       "      <td>1221</td>\n",
       "    </tr>\n",
       "    <tr>\n",
       "      <th>High</th>\n",
       "      <td>0.79</td>\n",
       "      <td>0.08</td>\n",
       "      <td>0.15</td>\n",
       "      <td>402</td>\n",
       "    </tr>\n",
       "    <tr>\n",
       "      <th>accuracy</th>\n",
       "      <td>0.00</td>\n",
       "      <td>0.00</td>\n",
       "      <td>0.63</td>\n",
       "      <td>4001</td>\n",
       "    </tr>\n",
       "    <tr>\n",
       "      <th>macro avg</th>\n",
       "      <td>0.69</td>\n",
       "      <td>0.40</td>\n",
       "      <td>0.39</td>\n",
       "      <td>4001</td>\n",
       "    </tr>\n",
       "    <tr>\n",
       "      <th>weighted avg</th>\n",
       "      <td>0.65</td>\n",
       "      <td>0.63</td>\n",
       "      <td>0.54</td>\n",
       "      <td>4001</td>\n",
       "    </tr>\n",
       "  </tbody>\n",
       "</table>\n",
       "</div>"
      ]
     },
     "execution_count": 221,
     "metadata": {},
     "output_type": "execute_result"
    }
   ],
   "execution_count": 221
  },
  {
   "metadata": {
    "ExecuteTime": {
     "end_time": "2025-04-06T19:53:22.686603Z",
     "start_time": "2025-04-06T19:53:22.631299Z"
    }
   },
   "cell_type": "code",
   "source": [
    "print(\"Pre-Prune Test Accuracy\")\n",
    "y_preprune_test = id3_1.predict(x_dropped_test)\n",
    "cm_preprune_test = confusion_matrix(y_dropped_test, y_preprune_test)\n",
    "compute_metrics(cm_preprune_test)"
   ],
   "id": "820342a7d52c6215",
   "outputs": [
    {
     "name": "stdout",
     "output_type": "stream",
     "text": [
      "Pre-Prune Test Accuracy\n"
     ]
    },
    {
     "data": {
      "text/plain": [
       "              precision  recall  f1-score  support\n",
       "Low                0.63    0.87      0.73      527\n",
       "Medium             0.30    0.13      0.18      249\n",
       "High               0.10    0.02      0.04       81\n",
       "accuracy           0.00    0.00      0.57      857\n",
       "macro avg          0.34    0.34      0.32      857\n",
       "weighted avg       0.48    0.57      0.50      857"
      ],
      "text/html": [
       "<div>\n",
       "<style scoped>\n",
       "    .dataframe tbody tr th:only-of-type {\n",
       "        vertical-align: middle;\n",
       "    }\n",
       "\n",
       "    .dataframe tbody tr th {\n",
       "        vertical-align: top;\n",
       "    }\n",
       "\n",
       "    .dataframe thead th {\n",
       "        text-align: right;\n",
       "    }\n",
       "</style>\n",
       "<table border=\"1\" class=\"dataframe\">\n",
       "  <thead>\n",
       "    <tr style=\"text-align: right;\">\n",
       "      <th></th>\n",
       "      <th>precision</th>\n",
       "      <th>recall</th>\n",
       "      <th>f1-score</th>\n",
       "      <th>support</th>\n",
       "    </tr>\n",
       "  </thead>\n",
       "  <tbody>\n",
       "    <tr>\n",
       "      <th>Low</th>\n",
       "      <td>0.63</td>\n",
       "      <td>0.87</td>\n",
       "      <td>0.73</td>\n",
       "      <td>527</td>\n",
       "    </tr>\n",
       "    <tr>\n",
       "      <th>Medium</th>\n",
       "      <td>0.30</td>\n",
       "      <td>0.13</td>\n",
       "      <td>0.18</td>\n",
       "      <td>249</td>\n",
       "    </tr>\n",
       "    <tr>\n",
       "      <th>High</th>\n",
       "      <td>0.10</td>\n",
       "      <td>0.02</td>\n",
       "      <td>0.04</td>\n",
       "      <td>81</td>\n",
       "    </tr>\n",
       "    <tr>\n",
       "      <th>accuracy</th>\n",
       "      <td>0.00</td>\n",
       "      <td>0.00</td>\n",
       "      <td>0.57</td>\n",
       "      <td>857</td>\n",
       "    </tr>\n",
       "    <tr>\n",
       "      <th>macro avg</th>\n",
       "      <td>0.34</td>\n",
       "      <td>0.34</td>\n",
       "      <td>0.32</td>\n",
       "      <td>857</td>\n",
       "    </tr>\n",
       "    <tr>\n",
       "      <th>weighted avg</th>\n",
       "      <td>0.48</td>\n",
       "      <td>0.57</td>\n",
       "      <td>0.50</td>\n",
       "      <td>857</td>\n",
       "    </tr>\n",
       "  </tbody>\n",
       "</table>\n",
       "</div>"
      ]
     },
     "execution_count": 222,
     "metadata": {},
     "output_type": "execute_result"
    }
   ],
   "execution_count": 222
  },
  {
   "metadata": {
    "ExecuteTime": {
     "end_time": "2025-04-06T19:53:23.076680Z",
     "start_time": "2025-04-06T19:53:23.041855Z"
    }
   },
   "cell_type": "code",
   "source": [
    "print(\"Post-Prune Test Accuracy\")\n",
    "y_postprune_test = tree1_clone.predict(x_dropped_test)\n",
    "cm_postprune_test = confusion_matrix(y_dropped_test, y_postprune_test)\n",
    "compute_metrics(cm_postprune_test)"
   ],
   "id": "d9c11592a08c9fb8",
   "outputs": [
    {
     "name": "stdout",
     "output_type": "stream",
     "text": [
      "Post-Prune Test Accuracy\n"
     ]
    },
    {
     "data": {
      "text/plain": [
       "              precision  recall  f1-score  support\n",
       "Low                0.64    0.96      0.77      527\n",
       "Medium             0.58    0.14      0.22      249\n",
       "High               0.22    0.02      0.04       81\n",
       "accuracy           0.00    0.00      0.63      857\n",
       "macro avg          0.48    0.37      0.34      857\n",
       "weighted avg       0.58    0.63      0.54      857"
      ],
      "text/html": [
       "<div>\n",
       "<style scoped>\n",
       "    .dataframe tbody tr th:only-of-type {\n",
       "        vertical-align: middle;\n",
       "    }\n",
       "\n",
       "    .dataframe tbody tr th {\n",
       "        vertical-align: top;\n",
       "    }\n",
       "\n",
       "    .dataframe thead th {\n",
       "        text-align: right;\n",
       "    }\n",
       "</style>\n",
       "<table border=\"1\" class=\"dataframe\">\n",
       "  <thead>\n",
       "    <tr style=\"text-align: right;\">\n",
       "      <th></th>\n",
       "      <th>precision</th>\n",
       "      <th>recall</th>\n",
       "      <th>f1-score</th>\n",
       "      <th>support</th>\n",
       "    </tr>\n",
       "  </thead>\n",
       "  <tbody>\n",
       "    <tr>\n",
       "      <th>Low</th>\n",
       "      <td>0.64</td>\n",
       "      <td>0.96</td>\n",
       "      <td>0.77</td>\n",
       "      <td>527</td>\n",
       "    </tr>\n",
       "    <tr>\n",
       "      <th>Medium</th>\n",
       "      <td>0.58</td>\n",
       "      <td>0.14</td>\n",
       "      <td>0.22</td>\n",
       "      <td>249</td>\n",
       "    </tr>\n",
       "    <tr>\n",
       "      <th>High</th>\n",
       "      <td>0.22</td>\n",
       "      <td>0.02</td>\n",
       "      <td>0.04</td>\n",
       "      <td>81</td>\n",
       "    </tr>\n",
       "    <tr>\n",
       "      <th>accuracy</th>\n",
       "      <td>0.00</td>\n",
       "      <td>0.00</td>\n",
       "      <td>0.63</td>\n",
       "      <td>857</td>\n",
       "    </tr>\n",
       "    <tr>\n",
       "      <th>macro avg</th>\n",
       "      <td>0.48</td>\n",
       "      <td>0.37</td>\n",
       "      <td>0.34</td>\n",
       "      <td>857</td>\n",
       "    </tr>\n",
       "    <tr>\n",
       "      <th>weighted avg</th>\n",
       "      <td>0.58</td>\n",
       "      <td>0.63</td>\n",
       "      <td>0.54</td>\n",
       "      <td>857</td>\n",
       "    </tr>\n",
       "  </tbody>\n",
       "</table>\n",
       "</div>"
      ]
     },
     "execution_count": 223,
     "metadata": {},
     "output_type": "execute_result"
    }
   ],
   "execution_count": 223
  },
  {
   "metadata": {
    "ExecuteTime": {
     "end_time": "2025-04-06T19:53:23.448007Z",
     "start_time": "2025-04-06T19:53:23.398017Z"
    }
   },
   "cell_type": "code",
   "source": [
    "print(\"Pre-Prune Validation Accuracy\")\n",
    "y_preprune_val = id3_1.predict(x_dropped_val)\n",
    "cm_preprune_val = confusion_matrix(y_dropped_val, y_preprune_val)\n",
    "compute_metrics(cm_preprune_val)"
   ],
   "id": "50618c360984adf",
   "outputs": [
    {
     "name": "stdout",
     "output_type": "stream",
     "text": [
      "Pre-Prune Validation Accuracy\n"
     ]
    },
    {
     "data": {
      "text/plain": [
       "              precision  recall  f1-score  support\n",
       "Low                0.61    0.84      0.71      519\n",
       "Medium             0.34    0.15      0.21      259\n",
       "High               0.09    0.02      0.04       80\n",
       "accuracy           0.00    0.00      0.56      858\n",
       "macro avg          0.34    0.34      0.32      858\n",
       "weighted avg       0.48    0.56      0.49      858"
      ],
      "text/html": [
       "<div>\n",
       "<style scoped>\n",
       "    .dataframe tbody tr th:only-of-type {\n",
       "        vertical-align: middle;\n",
       "    }\n",
       "\n",
       "    .dataframe tbody tr th {\n",
       "        vertical-align: top;\n",
       "    }\n",
       "\n",
       "    .dataframe thead th {\n",
       "        text-align: right;\n",
       "    }\n",
       "</style>\n",
       "<table border=\"1\" class=\"dataframe\">\n",
       "  <thead>\n",
       "    <tr style=\"text-align: right;\">\n",
       "      <th></th>\n",
       "      <th>precision</th>\n",
       "      <th>recall</th>\n",
       "      <th>f1-score</th>\n",
       "      <th>support</th>\n",
       "    </tr>\n",
       "  </thead>\n",
       "  <tbody>\n",
       "    <tr>\n",
       "      <th>Low</th>\n",
       "      <td>0.61</td>\n",
       "      <td>0.84</td>\n",
       "      <td>0.71</td>\n",
       "      <td>519</td>\n",
       "    </tr>\n",
       "    <tr>\n",
       "      <th>Medium</th>\n",
       "      <td>0.34</td>\n",
       "      <td>0.15</td>\n",
       "      <td>0.21</td>\n",
       "      <td>259</td>\n",
       "    </tr>\n",
       "    <tr>\n",
       "      <th>High</th>\n",
       "      <td>0.09</td>\n",
       "      <td>0.02</td>\n",
       "      <td>0.04</td>\n",
       "      <td>80</td>\n",
       "    </tr>\n",
       "    <tr>\n",
       "      <th>accuracy</th>\n",
       "      <td>0.00</td>\n",
       "      <td>0.00</td>\n",
       "      <td>0.56</td>\n",
       "      <td>858</td>\n",
       "    </tr>\n",
       "    <tr>\n",
       "      <th>macro avg</th>\n",
       "      <td>0.34</td>\n",
       "      <td>0.34</td>\n",
       "      <td>0.32</td>\n",
       "      <td>858</td>\n",
       "    </tr>\n",
       "    <tr>\n",
       "      <th>weighted avg</th>\n",
       "      <td>0.48</td>\n",
       "      <td>0.56</td>\n",
       "      <td>0.49</td>\n",
       "      <td>858</td>\n",
       "    </tr>\n",
       "  </tbody>\n",
       "</table>\n",
       "</div>"
      ]
     },
     "execution_count": 224,
     "metadata": {},
     "output_type": "execute_result"
    }
   ],
   "execution_count": 224
  },
  {
   "metadata": {
    "ExecuteTime": {
     "end_time": "2025-04-06T19:53:23.712332Z",
     "start_time": "2025-04-06T19:53:23.673006Z"
    }
   },
   "cell_type": "code",
   "source": [
    "print(\"Post-Prune Validation Accuracy\")\n",
    "y_postprune_val = tree1_clone.predict(x_dropped_val)\n",
    "cm_postprune_val = confusion_matrix(y_dropped_val, y_postprune_val)\n",
    "compute_metrics(cm_postprune_val)"
   ],
   "id": "2cc6ec464ff60fa2",
   "outputs": [
    {
     "name": "stdout",
     "output_type": "stream",
     "text": [
      "Post-Prune Validation Accuracy\n"
     ]
    },
    {
     "data": {
      "text/plain": [
       "              precision  recall  f1-score  support\n",
       "Low                0.61    0.93      0.73      519\n",
       "Medium             0.37    0.08      0.14      259\n",
       "High               0.00    0.00      0.00       80\n",
       "accuracy           0.00    0.00      0.59      858\n",
       "macro avg          0.33    0.34      0.29      858\n",
       "weighted avg       0.48    0.59      0.48      858"
      ],
      "text/html": [
       "<div>\n",
       "<style scoped>\n",
       "    .dataframe tbody tr th:only-of-type {\n",
       "        vertical-align: middle;\n",
       "    }\n",
       "\n",
       "    .dataframe tbody tr th {\n",
       "        vertical-align: top;\n",
       "    }\n",
       "\n",
       "    .dataframe thead th {\n",
       "        text-align: right;\n",
       "    }\n",
       "</style>\n",
       "<table border=\"1\" class=\"dataframe\">\n",
       "  <thead>\n",
       "    <tr style=\"text-align: right;\">\n",
       "      <th></th>\n",
       "      <th>precision</th>\n",
       "      <th>recall</th>\n",
       "      <th>f1-score</th>\n",
       "      <th>support</th>\n",
       "    </tr>\n",
       "  </thead>\n",
       "  <tbody>\n",
       "    <tr>\n",
       "      <th>Low</th>\n",
       "      <td>0.61</td>\n",
       "      <td>0.93</td>\n",
       "      <td>0.73</td>\n",
       "      <td>519</td>\n",
       "    </tr>\n",
       "    <tr>\n",
       "      <th>Medium</th>\n",
       "      <td>0.37</td>\n",
       "      <td>0.08</td>\n",
       "      <td>0.14</td>\n",
       "      <td>259</td>\n",
       "    </tr>\n",
       "    <tr>\n",
       "      <th>High</th>\n",
       "      <td>0.00</td>\n",
       "      <td>0.00</td>\n",
       "      <td>0.00</td>\n",
       "      <td>80</td>\n",
       "    </tr>\n",
       "    <tr>\n",
       "      <th>accuracy</th>\n",
       "      <td>0.00</td>\n",
       "      <td>0.00</td>\n",
       "      <td>0.59</td>\n",
       "      <td>858</td>\n",
       "    </tr>\n",
       "    <tr>\n",
       "      <th>macro avg</th>\n",
       "      <td>0.33</td>\n",
       "      <td>0.34</td>\n",
       "      <td>0.29</td>\n",
       "      <td>858</td>\n",
       "    </tr>\n",
       "    <tr>\n",
       "      <th>weighted avg</th>\n",
       "      <td>0.48</td>\n",
       "      <td>0.59</td>\n",
       "      <td>0.48</td>\n",
       "      <td>858</td>\n",
       "    </tr>\n",
       "  </tbody>\n",
       "</table>\n",
       "</div>"
      ]
     },
     "execution_count": 225,
     "metadata": {},
     "output_type": "execute_result"
    }
   ],
   "execution_count": 225
  },
  {
   "metadata": {},
   "cell_type": "markdown",
   "source": "### Rules For The Post-Prune Tree 1",
   "id": "f2f614a335740cb2"
  },
  {
   "metadata": {
    "ExecuteTime": {
     "end_time": "2025-04-06T19:53:24.086654Z",
     "start_time": "2025-04-06T19:53:24.071702Z"
    }
   },
   "cell_type": "code",
   "source": "print_decision_rules(tree1_clone.tree)",
   "id": "a29d211c63b7fc2c",
   "outputs": [
    {
     "name": "stdout",
     "output_type": "stream",
     "text": [
      "R1: IF (Country = Saint Vincent and the Grenadines) THEN Class=Medium\n",
      "R2: IF (Country = Bangladesh) THEN Class=Low\n",
      "R3: IF (Country = Canada) THEN Class=Low\n",
      "R4: IF (Country = Wallis and Futuna) THEN Class=Low\n",
      "R5: IF (Country = Niger) THEN Class=Low\n",
      "R6: IF (Country = New Caledonia) THEN Class=Low\n",
      "R7: IF (Country = Korea) THEN Class=Low\n",
      "R8: IF (Country = Jordan) THEN Class=Low\n",
      "R9: IF (Country = Holy See (Vatican City State)) THEN Class=Low\n",
      "R10: IF (Country = Gambia) THEN Class=Medium\n",
      "R11: IF (Country = Cameroon) THEN Class=Low\n",
      "R12: IF (Country = Western Sahara) THEN Class=Low\n",
      "R13: IF (Country = Saint Kitts and Nevis) THEN Class=Medium\n",
      "R14: IF (Country = Panama) & (State = WA) THEN Class=Low\n",
      "R15: IF (Country = Panama) & (State = KY) THEN Class=Medium\n",
      "R16: IF (Country = Panama) & (State = NE) THEN Class=Medium\n",
      "R17: IF (Country = Panama) & (State = ME) THEN Class=High\n",
      "R18: IF (Country = Panama) & (State = WV) THEN Class=High\n",
      "R19: IF (Country = Panama) & (State = AS) THEN Class=High\n",
      "R20: IF (Country = Panama) & (State = OH) THEN Class=High\n",
      "R21: IF (Country = Panama) & (State = AZ) THEN Class=Low\n",
      "R22: IF (Country = United States of America) THEN Class=Low\n",
      "R23: IF (Country = Australia) & (State = AZ) THEN Class=Medium\n",
      "R24: IF (Country = Australia) & (State = ND) THEN Class=Low\n",
      "R25: IF (Country = Australia) & (State = KS) THEN Class=Medium\n",
      "R26: IF (Country = Australia) & (State = SC) THEN Class=Medium\n",
      "R27: IF (Country = Australia) & (State = DE) THEN Class=Low\n",
      "R28: IF (Country = Australia) & (State = NC) THEN Class=Low\n",
      "R29: IF (Country = Australia) & (State = IN) THEN Class=Medium\n",
      "R30: IF (Country = Australia) & (State = GA) THEN Class=Low\n",
      "R31: IF (Country = Australia) & (State = GU) THEN Class=High\n",
      "R32: IF (Country = Australia) & (State = RI) THEN Class=Low\n",
      "R33: IF (Country = Australia) & (State = MO) THEN Class=Low\n",
      "R34: IF (Country = Australia) & (State = CA) THEN Class=Medium\n",
      "R35: IF (Country = Australia) & (State = NE) THEN Class=Medium\n",
      "R36: IF (Country = Australia) & (State = NV) THEN Class=Low\n",
      "R37: IF (Country = Australia) & (State = TN) THEN Class=Low\n",
      "R38: IF (Country = Central African Republic) THEN Class=Low\n",
      "R39: IF (Country = Palestinian Territory) THEN Class=Medium\n",
      "R40: IF (Country = Heard Island and McDonald Islands) THEN Class=Low\n",
      "R41: IF (Country = Switzerland) THEN Class=Low\n",
      "R42: IF (Country = Sudan) THEN Class=Low\n",
      "R43: IF (Country = Liberia) THEN Class=Low\n",
      "R44: IF (Country = Yemen) THEN Class=Medium\n",
      "R45: IF (Country = Equatorial Guinea) THEN Class=Low\n",
      "R46: IF (Country = Bahrain) & (State = NJ) THEN Class=High\n",
      "R47: IF (Country = Bahrain) & (State = DC) THEN Class=Low\n",
      "R48: IF (Country = Bahrain) & (State = MI) THEN Class=Low\n",
      "R49: IF (Country = Bahrain) & (State = AL) THEN Class=Low\n",
      "R50: IF (Country = Bahrain) & (State = VI) THEN Class=Low\n",
      "R51: IF (Country = Bahrain) & (State = LA) THEN Class=Low\n",
      "R52: IF (Country = Bahrain) & (State = AS) THEN Class=Low\n",
      "R53: IF (Country = Bahrain) & (State = CO) THEN Class=Medium\n",
      "R54: IF (Country = Bahrain) & (State = DE) THEN Class=Low\n",
      "R55: IF (Country = Bahrain) & (State = NM) THEN Class=Low\n",
      "R56: IF (Country = Bahrain) & (State = GU) THEN Class=High\n",
      "R57: IF (Country = Bahrain) & (State = AK) THEN Class=Medium\n",
      "R58: IF (Country = Bahrain) & (State = IL) THEN Class=Medium\n",
      "R59: IF (Country = Bahrain) & (State = KY) THEN Class=Medium\n",
      "R60: IF (Country = Bahrain) & (State = VT) THEN Class=Medium\n",
      "R61: IF (Country = Bahrain) & (State = NE) THEN Class=Low\n",
      "R62: IF (Country = Bahrain) & (State = SD) THEN Class=Low\n",
      "R63: IF (Country = Bahrain) & (State = PA) THEN Class=Low\n",
      "R64: IF (Country = Ethiopia) THEN Class=Low\n",
      "R65: IF (Country = Andorra) THEN Class=Low\n",
      "R66: IF (Country = Japan) THEN Class=Low\n",
      "R67: IF (Country = Northern Mariana Islands) THEN Class=Low\n",
      "R68: IF (Country = Turkey) THEN Class=Low\n",
      "R69: IF (Country = Lithuania) THEN Class=Medium\n",
      "R70: IF (Country = Denmark) THEN Class=Low\n",
      "R71: IF (Country = Sweden) THEN Class=Low\n",
      "R72: IF (Country = Gabon) THEN Class=Low\n",
      "R73: IF (Country = Pitcairn Islands) THEN Class=Low\n",
      "R74: IF (Country = Russian Federation) THEN Class=Low\n",
      "R75: IF (Country = Bulgaria) THEN Class=Low\n",
      "R76: IF (Country = American Samoa) THEN Class=Low\n",
      "R77: IF (Country = Seychelles) THEN Class=Low\n",
      "R78: IF (Country = British Indian Ocean Territory (Chagos Archipelago)) THEN Class=Low\n",
      "R79: IF (Country = Ukraine) THEN Class=Low\n",
      "R80: IF (Country = Indonesia) THEN Class=Low\n",
      "R81: IF (Country = Netherlands Antilles) THEN Class=Low\n",
      "R82: IF (Country = Tuvalu) THEN Class=Low\n",
      "R83: IF (Country = Solomon Islands) THEN Class=Medium\n",
      "R84: IF (Country = Paraguay) THEN Class=Low\n",
      "R85: IF (Country = Malaysia) THEN Class=Low\n",
      "R86: IF (Country = Tokelau) THEN Class=Low\n",
      "R87: IF (Country = Norfolk Island) THEN Class=Low\n",
      "R88: IF (Country = Niue) THEN Class=Medium\n",
      "R89: IF (Country = Mauritius) THEN Class=Low\n",
      "R90: IF (Country = Lebanon) THEN Class=Low\n",
      "R91: IF (Country = Congo) THEN Class=Low\n",
      "R92: IF (Country = Venezuela) THEN Class=Low\n",
      "R93: IF (Country = Dominican Republic) THEN Class=Low\n",
      "R94: IF (Country = Martinique) THEN Class=Low\n",
      "R95: IF (Country = Czech Republic) THEN Class=Low\n",
      "R96: IF (Country = Cote d'Ivoire) THEN Class=Low\n",
      "R97: IF (Country = Tajikistan) THEN Class=Low\n",
      "R98: IF (Country = Mayotte) THEN Class=Low\n",
      "R99: IF (Country = Uzbekistan) THEN Class=Low\n",
      "R100: IF (Country = Haiti) & (State = IN) THEN Class=Medium\n",
      "R101: IF (Country = Haiti) & (State = WY) THEN Class=Low\n",
      "R102: IF (Country = Haiti) & (State = NE) THEN Class=Low\n",
      "R103: IF (Country = Haiti) & (State = MH) THEN Class=High\n",
      "R104: IF (Country = Haiti) & (State = ME) THEN Class=Low\n",
      "R105: IF (Country = Haiti) & (State = TX) THEN Class=Low\n",
      "R106: IF (Country = Haiti) & (State = CA) THEN Class=Medium\n",
      "R107: IF (Country = Haiti) & (State = AK) THEN Class=Low\n",
      "R108: IF (Country = Haiti) & (State = VA) THEN Class=Low\n",
      "R109: IF (Country = Haiti) & (State = DE) THEN Class=Medium\n",
      "R110: IF (Country = Haiti) & (State = CT) THEN Class=Low\n",
      "R111: IF (Country = Haiti) & (State = CO) THEN Class=Low\n",
      "R112: IF (Country = Haiti) & (State = AS) THEN Class=Medium\n",
      "R113: IF (Country = Kyrgyz Republic) THEN Class=Low\n",
      "R114: IF (Country = French Guiana) THEN Class=Low\n",
      "R115: IF (Country = Maldives) THEN Class=Low\n",
      "R116: IF (Country = Samoa) THEN Class=Low\n",
      "R117: IF (Country = Bolivia) THEN Class=Low\n",
      "R118: IF (Country = Kazakhstan) THEN Class=Low\n",
      "R119: IF (Country = Portugal) THEN Class=Low\n",
      "R120: IF (Country = Micronesia) THEN Class=Low\n",
      "R121: IF (Country = Bermuda) THEN Class=Low\n",
      "R122: IF (Country = Pakistan) THEN Class=Low\n",
      "R123: IF (Country = Zimbabwe) THEN Class=Low\n",
      "R124: IF (Country = Vietnam) THEN Class=Low\n",
      "R125: IF (Country = Netherlands) & (State = RI) THEN Class=Low\n",
      "R126: IF (Country = Netherlands) & (State = IL) THEN Class=Low\n",
      "R127: IF (Country = Netherlands) & (State = MS) THEN Class=Low\n",
      "R128: IF (Country = Netherlands) & (State = PA) THEN Class=Low\n",
      "R129: IF (Country = Netherlands) & (State = WY) THEN Class=Medium\n",
      "R130: IF (Country = Netherlands) & (State = NV) THEN Class=High\n",
      "R131: IF (Country = Netherlands) & (State = OK) THEN Class=Medium\n",
      "R132: IF (Country = Netherlands) & (State = AS) THEN Class=Low\n",
      "R133: IF (Country = Netherlands) & (State = AL) THEN Class=Medium\n",
      "R134: IF (Country = Netherlands) & (State = ID) THEN Class=Medium\n",
      "R135: IF (Country = Netherlands) & (State = VT) THEN Class=Low\n",
      "R136: IF (Country = Netherlands) & (State = NC) THEN Class=High\n",
      "R137: IF (Country = Netherlands) & (State = WI) THEN Class=Medium\n",
      "R138: IF (Country = Netherlands) & (State = AK) THEN Class=High\n",
      "R139: IF (Country = Netherlands) & (State = VI) THEN Class=Low\n",
      "R140: IF (Country = Reunion) THEN Class=Low\n",
      "R141: IF (Country = Georgia) THEN Class=Low\n",
      "R142: IF (Country = Puerto Rico) THEN Class=Low\n",
      "R143: IF (Country = Ecuador) THEN Class=Low\n",
      "R144: IF (Country = Botswana) THEN Class=Low\n",
      "R145: IF (Country = Libyan Arab Jamahiriya) THEN Class=Low\n",
      "R146: IF (Country = Namibia) & (State = SC) THEN Class=Low\n",
      "R147: IF (Country = Namibia) & (State = RI) THEN Class=Low\n",
      "R148: IF (Country = Namibia) & (State = UT) THEN Class=Low\n",
      "R149: IF (Country = Namibia) & (State = PA) THEN Class=Medium\n",
      "R150: IF (Country = Namibia) & (State = NM) THEN Class=Medium\n",
      "R151: IF (Country = Namibia) & (State = IA) THEN Class=Low\n",
      "R152: IF (Country = Namibia) & (State = MI) THEN Class=Low\n",
      "R153: IF (Country = Namibia) & (State = NH) THEN Class=Low\n",
      "R154: IF (Country = Namibia) & (State = AZ) THEN Class=Low\n",
      "R155: IF (Country = Namibia) & (State = AS) THEN Class=Low\n",
      "R156: IF (Country = Namibia) & (State = PR) THEN Class=Low\n",
      "R157: IF (Country = Namibia) & (State = MD) THEN Class=Low\n",
      "R158: IF (Country = Namibia) & (State = WI) THEN Class=Low\n",
      "R159: IF (Country = Namibia) & (State = VT) THEN Class=Low\n",
      "R160: IF (Country = Namibia) & (State = OH) THEN Class=Low\n",
      "R161: IF (Country = Namibia) & (State = PW) THEN Class=Medium\n",
      "R162: IF (Country = Namibia) & (State = FL) THEN Class=Medium\n",
      "R163: IF (Country = Malta) THEN Class=Low\n",
      "R164: IF (Country = Liechtenstein) THEN Class=Low\n",
      "R165: IF (Country = Zambia) THEN Class=Low\n",
      "R166: IF (Country = Timor-Leste) THEN Class=Low\n",
      "R167: IF (Country = Serbia) THEN Class=Low\n",
      "R168: IF (Country = Israel) THEN Class=Low\n",
      "R169: IF (Country = Fiji) THEN Class=Low\n",
      "R170: IF (Country = Turkmenistan) THEN Class=Low\n",
      "R171: IF (Country = Belize) THEN Class=Low\n",
      "R172: IF (Country = Palau) THEN Class=Low\n",
      "R173: IF (Country = Cook Islands) THEN Class=Low\n",
      "R174: IF (Country = Lao People's Democratic Republic) THEN Class=Low\n",
      "R175: IF (Country = Guadeloupe) THEN Class=Low\n",
      "R176: IF (Country = Tonga) THEN Class=Low\n",
      "R177: IF (Country = Taiwan) THEN Class=Low\n",
      "R178: IF (Country = Rwanda) THEN Class=Low\n",
      "R179: IF (Country = United Kingdom) THEN Class=Low\n",
      "R180: IF (Country = Anguilla) THEN Class=Low\n",
      "R181: IF (Country = Albania) THEN Class=Low\n",
      "R182: IF (Country = Papua New Guinea) THEN Class=Low\n",
      "R183: IF (Country = Tanzania) THEN Class=Low\n",
      "R184: IF (Country = Burundi) THEN Class=Low\n",
      "R185: IF (Country = United Arab Emirates) THEN Class=Low\n",
      "R186: IF (Country = Brunei Darussalam) THEN Class=Low\n",
      "R187: IF (Country = Kenya) THEN Class=Low\n",
      "R188: IF (Country = Iran) THEN Class=Low\n",
      "R189: IF (Country = Ireland) THEN Class=Low\n",
      "R190: IF (Country = United States Virgin Islands) & (State = MO) THEN Class=Low\n",
      "R191: IF (Country = United States Virgin Islands) & (State = WY) THEN Class=High\n",
      "R192: IF (Country = United States Virgin Islands) & (State = KS) THEN Class=Low\n",
      "R193: IF (Country = United States Virgin Islands) & (State = AK) THEN Class=Low\n",
      "R194: IF (Country = United States Virgin Islands) & (State = RI) & (Age <= 49.5) THEN Class=Medium\n",
      "R195: IF (Country = United States Virgin Islands) & (State = RI) & (Age > 49.5) THEN Class=Low\n",
      "R196: IF (Country = United States Virgin Islands) & (State = SD) THEN Class=Low\n",
      "R197: IF (Country = United States Virgin Islands) & (State = NY) THEN Class=Low\n",
      "R198: IF (Country = United States Virgin Islands) & (State = GU) THEN Class=Medium\n",
      "R199: IF (Country = United States Virgin Islands) & (State = DC) THEN Class=High\n",
      "R200: IF (Country = United States Virgin Islands) & (State = ID) THEN Class=Medium\n",
      "R201: IF (Country = United States Virgin Islands) & (State = VA) THEN Class=Low\n",
      "R202: IF (Country = United States Virgin Islands) & (State = PR) THEN Class=Medium\n",
      "R203: IF (Country = United States Virgin Islands) & (State = OH) THEN Class=High\n",
      "R204: IF (Country = United States Virgin Islands) & (State = HI) THEN Class=Low\n",
      "R205: IF (Country = Mozambique) THEN Class=Low\n",
      "R206: IF (Country = Swaziland) THEN Class=Low\n",
      "R207: IF (Country = Barbados) THEN Class=Low\n",
      "R208: IF (Country = Italy) THEN Class=Low\n",
      "R209: IF (Country = Spain) THEN Class=Low\n",
      "R210: IF (Country = Montenegro) THEN Class=Low\n",
      "R211: IF (Country = Myanmar) THEN Class=Low\n",
      "R212: IF (Country = Norway) THEN Class=Low\n",
      "R213: IF (Country = Sierra Leone) THEN Class=Low\n",
      "R214: IF (Country = Monaco) THEN Class=Low\n",
      "R215: IF (Country = Guernsey) THEN Class=Low\n",
      "R216: IF (Country = Gibraltar) THEN Class=Low\n",
      "R217: IF (Country = Algeria) THEN Class=Low\n",
      "R218: IF (Country = Azerbaijan) THEN Class=Low\n",
      "R219: IF (Country = Mexico) THEN Class=Low\n",
      "R220: IF (Country = Svalbard & Jan Mayen Islands) THEN Class=Low\n",
      "R221: IF (Country = Romania) THEN Class=Low\n",
      "R222: IF (Country = South Georgia and the South Sandwich Islands) THEN Class=Low\n",
      "R223: IF (Country = Aruba) THEN Class=Low\n",
      "R224: IF (Country = Greece) THEN Class=Low\n",
      "R225: IF (Country = French Polynesia) & (State = SC) THEN Class=Medium\n",
      "R226: IF (Country = French Polynesia) & (State = IA) THEN Class=High\n",
      "R227: IF (Country = French Polynesia) & (State = IL) THEN Class=Low\n",
      "R228: IF (Country = French Polynesia) & (State = AK) THEN Class=Low\n",
      "R229: IF (Country = French Polynesia) & (State = CO) THEN Class=Medium\n",
      "R230: IF (Country = French Polynesia) & (State = GU) THEN Class=Medium\n",
      "R231: IF (Country = French Polynesia) & (State = AZ) THEN Class=Low\n",
      "R232: IF (Country = French Polynesia) & (State = PR) THEN Class=Medium\n",
      "R233: IF (Country = French Polynesia) & (State = ND) THEN Class=Low\n",
      "R234: IF (Country = French Polynesia) & (State = AL) THEN Class=Low\n",
      "R235: IF (Country = French Polynesia) & (State = NH) THEN Class=Low\n",
      "R236: IF (Country = French Polynesia) & (State = UT) THEN Class=Medium\n",
      "R237: IF (Country = French Polynesia) & (State = VT) THEN Class=Low\n",
      "R238: IF (Country = French Polynesia) & (State = DC) THEN Class=Medium\n",
      "R239: IF (Country = Christmas Island) THEN Class=Low\n",
      "R240: IF (Country = Mauritania) THEN Class=Low\n",
      "R241: IF (Country = Afghanistan) THEN Class=Low\n",
      "R242: IF (Country = Guyana) THEN Class=Low\n",
      "R243: IF (Country = Peru) THEN Class=Low\n",
      "R244: IF (Country = Sri Lanka) THEN Class=Low\n",
      "R245: IF (Country = Qatar) THEN Class=Low\n",
      "R246: IF (Country = Grenada) & (State = OK) THEN Class=Low\n",
      "R247: IF (Country = Grenada) & (State = NC) THEN Class=High\n",
      "R248: IF (Country = Grenada) & (State = VT) THEN Class=Low\n",
      "R249: IF (Country = Grenada) & (State = MN) THEN Class=Low\n",
      "R250: IF (Country = Grenada) & (State = OR) THEN Class=Medium\n",
      "R251: IF (Country = Grenada) & (State = SC) THEN Class=Low\n",
      "R252: IF (Country = Grenada) & (State = TN) THEN Class=Medium\n",
      "R253: IF (Country = Grenada) & (State = MS) THEN Class=Low\n",
      "R254: IF (Country = Grenada) & (State = WA) THEN Class=Low\n",
      "R255: IF (Country = Grenada) & (State = AS) THEN Class=Low\n",
      "R256: IF (Country = Grenada) & (State = MD) THEN Class=Low\n",
      "R257: IF (Country = Grenada) & (State = RI) THEN Class=High\n",
      "R258: IF (Country = Grenada) & (State = NM) THEN Class=Low\n",
      "R259: IF (Country = Grenada) & (State = CT) THEN Class=Low\n",
      "R260: IF (Country = Grenada) & (State = KY) THEN Class=Low\n",
      "R261: IF (Country = Grenada) & (State = ID) THEN Class=Medium\n",
      "R262: IF (Country = Grenada) & (State = OH) THEN Class=Medium\n",
      "R263: IF (Country = Saint Helena) THEN Class=Low\n",
      "R264: IF (Country = Angola) THEN Class=Low\n",
      "R265: IF (Country = Bosnia and Herzegovina) THEN Class=Low\n",
      "R266: IF (Country = Nigeria) & (State = UT) THEN Class=Low\n",
      "R267: IF (Country = Nigeria) & (State = AZ) THEN Class=Low\n",
      "R268: IF (Country = Nigeria) & (State = DC) THEN Class=Low\n",
      "R269: IF (Country = Nigeria) & (State = NH) THEN Class=Medium\n",
      "R270: IF (Country = Nigeria) & (State = VA) THEN Class=Low\n",
      "R271: IF (Country = Nigeria) & (State = MH) THEN Class=Medium\n",
      "R272: IF (Country = Nigeria) & (State = MD) THEN Class=Medium\n",
      "R273: IF (Country = Nigeria) & (State = FM) THEN Class=Low\n",
      "R274: IF (Country = Nigeria) & (State = MO) THEN Class=High\n",
      "R275: IF (Country = Greenland) THEN Class=Low\n",
      "R276: IF (Country = Suriname) THEN Class=Low\n",
      "R277: IF (Country = Estonia) THEN Class=Low\n",
      "R278: IF (Country = North Macedonia) THEN Class=Low\n",
      "R279: IF (Country = Jamaica) THEN Class=Low\n",
      "R280: IF (Country = Burkina Faso) THEN Class=Low\n",
      "R281: IF (Country = Kuwait) THEN Class=Low\n",
      "R282: IF (Country = Iraq) THEN Class=Low\n",
      "R283: IF (Country = Bhutan) THEN Class=Low\n",
      "R284: IF (Country = Saint Lucia) THEN Class=Low\n",
      "R285: IF (Country = Cape Verde) THEN Class=Low\n",
      "R286: IF (Country = Senegal) THEN Class=Low\n",
      "R287: IF (Country = Brazil) & (State = SD) THEN Class=Medium\n",
      "R288: IF (Country = Brazil) & (State = TX) THEN Class=Medium\n",
      "R289: IF (Country = Brazil) & (State = PA) THEN Class=Medium\n",
      "R290: IF (Country = Brazil) & (State = KY) THEN Class=High\n",
      "R291: IF (Country = Brazil) & (State = GU) THEN Class=Low\n",
      "R292: IF (Country = Brazil) & (State = AL) THEN Class=Low\n",
      "R293: IF (Country = Brazil) & (State = ME) THEN Class=Low\n",
      "R294: IF (Country = Brazil) & (State = NY) THEN Class=Medium\n",
      "R295: IF (Country = Brazil) & (State = IN) THEN Class=Medium\n",
      "R296: IF (Country = Brazil) & (State = PR) THEN Class=Low\n",
      "R297: IF (Country = Brazil) & (State = AR) THEN Class=High\n",
      "R298: IF (Country = Guam) THEN Class=Low\n",
      "R299: IF (Country = Philippines) THEN Class=Low\n",
      "R300: IF (Country = Isle of Man) THEN Class=Low\n",
      "R301: IF (Country = South Africa) THEN Class=Low\n",
      "R302: IF (Country = French Southern Territories) THEN Class=Low\n",
      "R303: IF (Country = Armenia) THEN Class=Low\n",
      "R304: IF (Country = Singapore) THEN Class=Low\n",
      "R305: IF (Country = New Zealand) THEN Class=Low\n",
      "R306: IF (Country = Saint Martin) & (State = VI) THEN Class=Medium\n",
      "R307: IF (Country = Saint Martin) & (State = GA) THEN Class=Low\n",
      "R308: IF (Country = Saint Martin) & (State = MD) THEN Class=High\n",
      "R309: IF (Country = Saint Martin) & (State = SC) THEN Class=Medium\n",
      "R310: IF (Country = Saint Martin) & (State = PW) THEN Class=Medium\n",
      "R311: IF (Country = Saint Martin) & (State = MT) THEN Class=Medium\n",
      "R312: IF (Country = Saint Martin) & (State = UT) THEN Class=High\n",
      "R313: IF (Country = Saint Martin) & (State = ND) THEN Class=Low\n",
      "R314: IF (Country = Saint Martin) & (State = ID) THEN Class=Low\n",
      "R315: IF (Country = Saint Martin) & (State = MH) THEN Class=Low\n",
      "R316: IF (Country = Saint Martin) & (State = RI) THEN Class=Medium\n",
      "R317: IF (Country = Saint Martin) & (State = TX) THEN Class=Medium\n",
      "R318: IF (Country = Saint Martin) & (State = FM) THEN Class=High\n",
      "R319: IF (Country = France) THEN Class=Low\n",
      "R320: IF (Country = Bouvet Island (Bouvetoya)) THEN Class=Low\n",
      "R321: IF (Country = Thailand) THEN Class=Low\n",
      "R322: IF (Country = Madagascar) THEN Class=Low\n",
      "R323: IF (Country = Vanuatu) THEN Class=Low\n",
      "R324: IF (Country = Somalia) THEN Class=Low\n",
      "R325: IF (Country = Macao) THEN Class=Low\n",
      "R326: IF (Country = Poland) THEN Class=Low\n",
      "R327: IF (Country = Trinidad and Tobago) THEN Class=Low\n",
      "R328: IF (Country = Honduras) THEN Class=Low\n",
      "R329: IF (Country = China) THEN Class=Low\n",
      "R330: IF (Country = Sao Tome and Principe) THEN Class=Low\n",
      "R331: IF (Country = Mongolia) THEN Class=Low\n",
      "R332: IF (Country = Syrian Arab Republic) THEN Class=Low\n",
      "R333: IF (Country = Kiribati) & (State = PA) THEN Class=Low\n",
      "R334: IF (Country = Kiribati) & (State = LA) THEN Class=Low\n",
      "R335: IF (Country = Kiribati) & (State = OR) THEN Class=Low\n",
      "R336: IF (Country = Kiribati) & (State = NM) THEN Class=Low\n",
      "R337: IF (Country = Kiribati) & (State = ME) THEN Class=Low\n",
      "R338: IF (Country = Kiribati) & (State = UT) THEN Class=Low\n",
      "R339: IF (Country = Kiribati) & (State = DC) THEN Class=Medium\n",
      "R340: IF (Country = Kiribati) & (State = VT) THEN Class=High\n",
      "R341: IF (Country = Kiribati) & (State = WA) THEN Class=Low\n",
      "R342: IF (Country = Kiribati) & (State = NV) THEN Class=Low\n",
      "R343: IF (Country = Kiribati) & (State = SC) THEN Class=Low\n",
      "R344: IF (Country = Mali) THEN Class=Low\n",
      "R345: IF (Country = United States Minor Outlying Islands) THEN Class=Low\n",
      "R346: IF (Country = Colombia) THEN Class=Low\n",
      "R347: IF (Country = British Virgin Islands) THEN Class=Medium\n",
      "R348: IF (Country = Morocco) THEN Class=Medium\n",
      "R349: IF (Country = Lesotho) THEN Class=Low\n",
      "R350: IF (Country = Antarctica (the territory South of 60 deg S)) THEN Class=Low\n",
      "R351: IF (Country = Jersey) THEN Class=Low\n",
      "R352: IF (Country = Chile) THEN Class=Low\n",
      "R353: IF (Country = Guatemala) THEN Class=Low\n",
      "R354: IF (Country = Costa Rica) THEN Class=Medium\n",
      "R355: IF (Country = Cayman Islands) THEN Class=Low\n",
      "R356: IF (Country = Uganda) THEN Class=Low\n",
      "R357: IF (Country = Cyprus) THEN Class=Low\n",
      "R358: IF (Country = Marshall Islands) & (State = AS) THEN Class=Medium\n",
      "R359: IF (Country = Marshall Islands) & (State = NE) THEN Class=Medium\n",
      "R360: IF (Country = Marshall Islands) & (State = WI) THEN Class=Low\n",
      "R361: IF (Country = Marshall Islands) & (State = WY) THEN Class=Low\n",
      "R362: IF (Country = Marshall Islands) & (State = NJ) THEN Class=Low\n",
      "R363: IF (Country = Marshall Islands) & (State = TX) THEN Class=Low\n",
      "R364: IF (Country = Marshall Islands) & (State = MT) THEN Class=Medium\n",
      "R365: IF (Country = Marshall Islands) & (State = DE) THEN Class=Medium\n",
      "R366: IF (Country = Marshall Islands) & (State = OR) THEN Class=Low\n",
      "R367: IF (Country = Marshall Islands) & (State = MS) THEN Class=Medium\n",
      "R368: IF (Country = Marshall Islands) & (State = NH) THEN Class=Low\n",
      "R369: IF (Country = Marshall Islands) & (State = NM) THEN Class=Low\n",
      "R370: IF (Country = Falkland Islands (Malvinas)) THEN Class=Low\n",
      "R371: IF (Country = Djibouti) THEN Class=Medium\n",
      "R372: IF (Country = Slovakia (Slovak Republic)) & (State = LA) THEN Class=High\n",
      "R373: IF (Country = Slovakia (Slovak Republic)) & (State = PW) THEN Class=Low\n",
      "R374: IF (Country = Slovakia (Slovak Republic)) & (State = KY) THEN Class=Low\n",
      "R375: IF (Country = Slovakia (Slovak Republic)) & (State = NH) THEN Class=Medium\n",
      "R376: IF (Country = Slovakia (Slovak Republic)) & (State = OR) THEN Class=Medium\n",
      "R377: IF (Country = Slovakia (Slovak Republic)) & (State = AK) THEN Class=Medium\n",
      "R378: IF (Country = Slovakia (Slovak Republic)) & (State = WA) THEN Class=Low\n",
      "R379: IF (Country = Slovakia (Slovak Republic)) & (State = PR) THEN Class=Low\n",
      "R380: IF (Country = Slovakia (Slovak Republic)) & (State = VI) THEN Class=Low\n",
      "R381: IF (Country = Slovakia (Slovak Republic)) & (State = WY) THEN Class=Low\n",
      "R382: IF (Country = Slovakia (Slovak Republic)) & (State = SC) THEN Class=Low\n",
      "R383: IF (Country = Slovakia (Slovak Republic)) & (State = ND) THEN Class=Low\n",
      "R384: IF (Country = Slovakia (Slovak Republic)) & (State = ID) THEN Class=Medium\n",
      "R385: IF (Country = Slovakia (Slovak Republic)) & (State = GU) THEN Class=Low\n",
      "R386: IF (Country = Malawi) THEN Class=Low\n",
      "R387: IF (Country = Cambodia) THEN Class=Low\n",
      "R388: IF (Country = Finland) THEN Class=Low\n",
      "R389: IF (Country = Croatia) & (State = WY) THEN Class=Medium\n",
      "R390: IF (Country = Croatia) & (State = MA) THEN Class=Medium\n",
      "R391: IF (Country = Croatia) & (State = AK) THEN Class=High\n",
      "R392: IF (Country = Croatia) & (State = VI) THEN Class=Medium\n",
      "R393: IF (Country = Croatia) & (State = UT) THEN Class=Medium\n",
      "R394: IF (Country = Croatia) & (State = RI) THEN Class=High\n",
      "R395: IF (Country = Croatia) & (State = ND) THEN Class=Low\n",
      "R396: IF (Country = Croatia) & (State = AZ) THEN Class=Low\n",
      "R397: IF (Country = Croatia) & (State = PW) THEN Class=Low\n",
      "R398: IF (Country = Croatia) & (State = WV) THEN Class=Medium\n",
      "R399: IF (Country = Croatia) & (State = HI) THEN Class=Low\n",
      "R400: IF (Country = Croatia) & (State = MH) THEN Class=Low\n",
      "R401: IF (Country = Croatia) & (State = MP) THEN Class=Low\n",
      "R402: IF (Country = Croatia) & (State = WI) THEN Class=Medium\n",
      "R403: IF (Country = Croatia) & (State = VA) THEN Class=Low\n",
      "R404: IF (Country = Croatia) & (State = IL) THEN Class=Low\n",
      "R405: IF (Country = Eritrea) THEN Class=Low\n",
      "R406: IF (Country = Austria) THEN Class=Low\n",
      "R407: IF (Country = Germany) THEN Class=Low\n",
      "R408: IF (Country = Chad) THEN Class=Low\n",
      "R409: IF (Country = Saint Barthelemy) THEN Class=Low\n",
      "R410: IF (Country = Montserrat) THEN Class=High\n",
      "R411: IF (Country = Iceland) THEN Class=Low\n",
      "R412: IF (Country = Nauru) THEN Class=Low\n",
      "R413: IF (Country = Guinea-Bissau) THEN Class=Low\n",
      "R414: IF (Country = Togo) THEN Class=Low\n",
      "R415: IF (Country = Hungary) THEN Class=Low\n",
      "R416: IF (Country = Belarus) & (State = AS) THEN Class=Low\n",
      "R417: IF (Country = Belarus) & (State = CT) THEN Class=Low\n",
      "R418: IF (Country = Belarus) & (State = SD) THEN Class=High\n",
      "R419: IF (Country = Belarus) & (State = AZ) THEN Class=Medium\n",
      "R420: IF (Country = Belarus) & (State = WA) THEN Class=Low\n",
      "R421: IF (Country = Belarus) & (State = NC) THEN Class=Low\n",
      "R422: IF (Country = Belarus) & (State = GA) THEN Class=Low\n",
      "R423: IF (Country = Belarus) & (State = MD) THEN Class=Low\n",
      "R424: IF (Country = Belarus) & (State = DE) THEN Class=Low\n",
      "R425: IF (Country = Belarus) & (State = ND) THEN Class=Low\n",
      "R426: IF (Country = Belarus) & (State = OH) THEN Class=Low\n",
      "R427: IF (Country = Belarus) & (State = PA) THEN Class=Low\n",
      "R428: IF (Country = Belarus) & (State = MT) THEN Class=Low\n",
      "R429: IF (Country = Belarus) & (State = OR) THEN Class=Medium\n",
      "R430: IF (Country = Dominica) THEN Class=Low\n",
      "R431: IF (Country = San Marino) THEN Class=Low\n",
      "R432: IF (Country = Belgium) THEN Class=Low\n",
      "R433: IF (Country = Uruguay) THEN Class=Low\n",
      "R434: IF (Country = Argentina) THEN Class=Low\n",
      "R435: IF (Country = Bahamas) THEN Class=Low\n",
      "R436: IF (Country = Nicaragua) THEN Class=Low\n",
      "R437: IF (Country = Antigua and Barbuda) THEN Class=Low\n",
      "R438: IF (Country = Oman) THEN Class=Low\n",
      "R439: IF (Country = Luxembourg) THEN Class=Low\n",
      "R440: IF (Country = Saint Pierre and Miquelon) THEN Class=Low\n",
      "R441: IF (Country = Ghana) THEN Class=Low\n",
      "R442: IF (Country = Hong Kong) THEN Class=Low\n",
      "R443: IF (Country = Tunisia) THEN Class=Low\n",
      "R444: IF (Country = Nepal) THEN Class=Low\n",
      "R445: IF (Country = Saudi Arabia) THEN Class=Low\n",
      "R446: IF (Country = Turks and Caicos Islands) THEN Class=Low\n",
      "R447: IF (Country = Faroe Islands) THEN Class=Low\n",
      "R448: IF (Country = India) THEN Class=Low\n",
      "R449: IF (Country = Comoros) THEN Class=Low\n",
      "R450: IF (Country = Benin) THEN Class=Low\n",
      "R451: IF (Country = Moldova) THEN Class=Low\n",
      "R452: IF (Country = Latvia) THEN Class=Low\n",
      "R453: IF (Country = Cuba) THEN Class=Low\n",
      "R454: IF (Country = Egypt) THEN Class=Low\n",
      "R455: IF (Country = Guinea) THEN Class=Low\n",
      "R456: IF (Country = Slovenia) THEN Class=Low\n",
      "R457: IF (Country = Cocos (Keeling) Islands) THEN Class=Low\n",
      "R458: IF (Country = El Salvador) THEN Class=Low\n"
     ]
    }
   ],
   "execution_count": 226
  }
 ],
 "metadata": {
  "kernelspec": {
   "display_name": "Python 3 (ipykernel)",
   "language": "python",
   "name": "python3"
  },
  "language_info": {
   "codemirror_mode": {
    "name": "ipython",
    "version": 3
   },
   "file_extension": ".py",
   "mimetype": "text/x-python",
   "name": "python",
   "nbconvert_exporter": "python",
   "pygments_lexer": "ipython3",
   "version": "3.9.13"
  }
 },
 "nbformat": 4,
 "nbformat_minor": 5
}
